{
 "cells": [
  {
   "cell_type": "code",
   "execution_count": 1,
   "id": "9605502d",
   "metadata": {},
   "outputs": [
    {
     "name": "stderr",
     "output_type": "stream",
     "text": [
      "/Users/bokaizhu/anaconda3/envs/cellsnap/lib/python3.9/site-packages/tqdm/auto.py:21: TqdmWarning: IProgress not found. Please update jupyter and ipywidgets. See https://ipywidgets.readthedocs.io/en/stable/user_install.html\n",
      "  from .autonotebook import tqdm as notebook_tqdm\n"
     ]
    }
   ],
   "source": [
    "import pandas as pd\n",
    "import numpy as np\n",
    "import matplotlib.pyplot as plt\n",
    "import seaborn as sns\n",
    "import sys\n",
    "import anndata as ad \n",
    "import scanpy as sc\n",
    "sys.path.append(\"../../spatial-clust-scripts-main/\")\n",
    "import utils\n",
    "from sklearn.decomposition import PCA\n",
    "import umap\n",
    "import graph\n",
    "#import visualize\n",
    "import sklearn.metrics\n",
    "import warnings\n",
    "warnings.filterwarnings(\"ignore\", category=FutureWarning, module=\"anndata\")"
   ]
  },
  {
   "cell_type": "code",
   "execution_count": 2,
   "id": "c88a86ac-ff04-4a75-9416-0d5badc976ed",
   "metadata": {},
   "outputs": [
    {
     "name": "stdout",
     "output_type": "stream",
     "text": [
      "[(53500, 30), (53500, 32), (53500, 30), (53500, 20), (53500, 120)]\n"
     ]
    }
   ],
   "source": [
    "stlearn = pd.read_csv('../../data/spleen/spleen_stlearn_pca30v2.csv', index_col=1).to_numpy()\n",
    "sedr = pd.read_csv('../../data/spleen/spleen_sedr_32n.csv', index_col=1).to_numpy()\n",
    "spagcn = np.load('../../data/spleen/conv_output_epoch_200.npy')\n",
    "banksy = pd.read_csv('../../data/spleen/cellsnap_data_spleen_banksy_r1-all.csv').loc[:, 'PC1':'PC20'].to_numpy()\n",
    "cellc = pd.read_csv('../../data/spleen/CC_spleen_30x4.csv').to_numpy()\n",
    "\n",
    "print([stlearn.shape, sedr.shape, spagcn.shape, banksy.shape, cellc.shape])"
   ]
  },
  {
   "cell_type": "code",
   "execution_count": 3,
   "id": "5942c59b-322c-4650-bd87-7b189161bf60",
   "metadata": {},
   "outputs": [
    {
     "name": "stdout",
     "output_type": "stream",
     "text": [
      "at 0\n"
     ]
    },
    {
     "name": "stderr",
     "output_type": "stream",
     "text": [
      "OMP: Info #276: omp_set_nested routine deprecated, please use omp_set_max_active_levels instead.\n"
     ]
    },
    {
     "name": "stdout",
     "output_type": "stream",
     "text": [
      "at 1\n",
      "at 2\n",
      "at 3\n",
      "at 4\n"
     ]
    },
    {
     "ename": "OSError",
     "evalue": "Cannot save file into a non-existent directory: '../spleen/data'",
     "output_type": "error",
     "traceback": [
      "\u001b[0;31m---------------------------------------------------------------------------\u001b[0m",
      "\u001b[0;31mOSError\u001b[0m                                   Traceback (most recent call last)",
      "Cell \u001b[0;32mIn[3], line 101\u001b[0m\n\u001b[1;32m     99\u001b[0m test \u001b[38;5;241m=\u001b[39m pd\u001b[38;5;241m.\u001b[39mconcat(dflist)\n\u001b[1;32m    100\u001b[0m test2 \u001b[38;5;241m=\u001b[39m test\u001b[38;5;241m.\u001b[39mmelt(id_vars\u001b[38;5;241m=\u001b[39m[\u001b[38;5;124m'\u001b[39m\u001b[38;5;124mk\u001b[39m\u001b[38;5;124m'\u001b[39m], value_vars\u001b[38;5;241m=\u001b[39m[\u001b[38;5;124m'\u001b[39m\u001b[38;5;124mch_stlearn\u001b[39m\u001b[38;5;124m'\u001b[39m, \u001b[38;5;124m'\u001b[39m\u001b[38;5;124mch_sedr\u001b[39m\u001b[38;5;124m'\u001b[39m, \u001b[38;5;124m'\u001b[39m\u001b[38;5;124mch_spagcn\u001b[39m\u001b[38;5;124m'\u001b[39m, \u001b[38;5;124m'\u001b[39m\u001b[38;5;124mch_banksy\u001b[39m\u001b[38;5;124m'\u001b[39m, \u001b[38;5;124m'\u001b[39m\u001b[38;5;124mch_cellc\u001b[39m\u001b[38;5;124m'\u001b[39m])\n\u001b[0;32m--> 101\u001b[0m \u001b[43mtest2\u001b[49m\u001b[38;5;241;43m.\u001b[39;49m\u001b[43mto_csv\u001b[49m\u001b[43m(\u001b[49m\u001b[38;5;124;43m'\u001b[39;49m\u001b[38;5;124;43m../spleen/data/DB_result_spleen_revloc.csv\u001b[39;49m\u001b[38;5;124;43m'\u001b[39;49m\u001b[43m)\u001b[49m\n",
      "File \u001b[0;32m~/anaconda3/envs/cellsnap/lib/python3.9/site-packages/pandas/util/_decorators.py:333\u001b[0m, in \u001b[0;36mdeprecate_nonkeyword_arguments.<locals>.decorate.<locals>.wrapper\u001b[0;34m(*args, **kwargs)\u001b[0m\n\u001b[1;32m    327\u001b[0m \u001b[38;5;28;01mif\u001b[39;00m \u001b[38;5;28mlen\u001b[39m(args) \u001b[38;5;241m>\u001b[39m num_allow_args:\n\u001b[1;32m    328\u001b[0m     warnings\u001b[38;5;241m.\u001b[39mwarn(\n\u001b[1;32m    329\u001b[0m         msg\u001b[38;5;241m.\u001b[39mformat(arguments\u001b[38;5;241m=\u001b[39m_format_argument_list(allow_args)),\n\u001b[1;32m    330\u001b[0m         \u001b[38;5;167;01mFutureWarning\u001b[39;00m,\n\u001b[1;32m    331\u001b[0m         stacklevel\u001b[38;5;241m=\u001b[39mfind_stack_level(),\n\u001b[1;32m    332\u001b[0m     )\n\u001b[0;32m--> 333\u001b[0m \u001b[38;5;28;01mreturn\u001b[39;00m \u001b[43mfunc\u001b[49m\u001b[43m(\u001b[49m\u001b[38;5;241;43m*\u001b[39;49m\u001b[43margs\u001b[49m\u001b[43m,\u001b[49m\u001b[43m \u001b[49m\u001b[38;5;241;43m*\u001b[39;49m\u001b[38;5;241;43m*\u001b[39;49m\u001b[43mkwargs\u001b[49m\u001b[43m)\u001b[49m\n",
      "File \u001b[0;32m~/anaconda3/envs/cellsnap/lib/python3.9/site-packages/pandas/core/generic.py:3967\u001b[0m, in \u001b[0;36mNDFrame.to_csv\u001b[0;34m(self, path_or_buf, sep, na_rep, float_format, columns, header, index, index_label, mode, encoding, compression, quoting, quotechar, lineterminator, chunksize, date_format, doublequote, escapechar, decimal, errors, storage_options)\u001b[0m\n\u001b[1;32m   3956\u001b[0m df \u001b[38;5;241m=\u001b[39m \u001b[38;5;28mself\u001b[39m \u001b[38;5;28;01mif\u001b[39;00m \u001b[38;5;28misinstance\u001b[39m(\u001b[38;5;28mself\u001b[39m, ABCDataFrame) \u001b[38;5;28;01melse\u001b[39;00m \u001b[38;5;28mself\u001b[39m\u001b[38;5;241m.\u001b[39mto_frame()\n\u001b[1;32m   3958\u001b[0m formatter \u001b[38;5;241m=\u001b[39m DataFrameFormatter(\n\u001b[1;32m   3959\u001b[0m     frame\u001b[38;5;241m=\u001b[39mdf,\n\u001b[1;32m   3960\u001b[0m     header\u001b[38;5;241m=\u001b[39mheader,\n\u001b[0;32m   (...)\u001b[0m\n\u001b[1;32m   3964\u001b[0m     decimal\u001b[38;5;241m=\u001b[39mdecimal,\n\u001b[1;32m   3965\u001b[0m )\n\u001b[0;32m-> 3967\u001b[0m \u001b[38;5;28;01mreturn\u001b[39;00m \u001b[43mDataFrameRenderer\u001b[49m\u001b[43m(\u001b[49m\u001b[43mformatter\u001b[49m\u001b[43m)\u001b[49m\u001b[38;5;241;43m.\u001b[39;49m\u001b[43mto_csv\u001b[49m\u001b[43m(\u001b[49m\n\u001b[1;32m   3968\u001b[0m \u001b[43m    \u001b[49m\u001b[43mpath_or_buf\u001b[49m\u001b[43m,\u001b[49m\n\u001b[1;32m   3969\u001b[0m \u001b[43m    \u001b[49m\u001b[43mlineterminator\u001b[49m\u001b[38;5;241;43m=\u001b[39;49m\u001b[43mlineterminator\u001b[49m\u001b[43m,\u001b[49m\n\u001b[1;32m   3970\u001b[0m \u001b[43m    \u001b[49m\u001b[43msep\u001b[49m\u001b[38;5;241;43m=\u001b[39;49m\u001b[43msep\u001b[49m\u001b[43m,\u001b[49m\n\u001b[1;32m   3971\u001b[0m \u001b[43m    \u001b[49m\u001b[43mencoding\u001b[49m\u001b[38;5;241;43m=\u001b[39;49m\u001b[43mencoding\u001b[49m\u001b[43m,\u001b[49m\n\u001b[1;32m   3972\u001b[0m \u001b[43m    \u001b[49m\u001b[43merrors\u001b[49m\u001b[38;5;241;43m=\u001b[39;49m\u001b[43merrors\u001b[49m\u001b[43m,\u001b[49m\n\u001b[1;32m   3973\u001b[0m \u001b[43m    \u001b[49m\u001b[43mcompression\u001b[49m\u001b[38;5;241;43m=\u001b[39;49m\u001b[43mcompression\u001b[49m\u001b[43m,\u001b[49m\n\u001b[1;32m   3974\u001b[0m \u001b[43m    \u001b[49m\u001b[43mquoting\u001b[49m\u001b[38;5;241;43m=\u001b[39;49m\u001b[43mquoting\u001b[49m\u001b[43m,\u001b[49m\n\u001b[1;32m   3975\u001b[0m \u001b[43m    \u001b[49m\u001b[43mcolumns\u001b[49m\u001b[38;5;241;43m=\u001b[39;49m\u001b[43mcolumns\u001b[49m\u001b[43m,\u001b[49m\n\u001b[1;32m   3976\u001b[0m \u001b[43m    \u001b[49m\u001b[43mindex_label\u001b[49m\u001b[38;5;241;43m=\u001b[39;49m\u001b[43mindex_label\u001b[49m\u001b[43m,\u001b[49m\n\u001b[1;32m   3977\u001b[0m \u001b[43m    \u001b[49m\u001b[43mmode\u001b[49m\u001b[38;5;241;43m=\u001b[39;49m\u001b[43mmode\u001b[49m\u001b[43m,\u001b[49m\n\u001b[1;32m   3978\u001b[0m \u001b[43m    \u001b[49m\u001b[43mchunksize\u001b[49m\u001b[38;5;241;43m=\u001b[39;49m\u001b[43mchunksize\u001b[49m\u001b[43m,\u001b[49m\n\u001b[1;32m   3979\u001b[0m \u001b[43m    \u001b[49m\u001b[43mquotechar\u001b[49m\u001b[38;5;241;43m=\u001b[39;49m\u001b[43mquotechar\u001b[49m\u001b[43m,\u001b[49m\n\u001b[1;32m   3980\u001b[0m \u001b[43m    \u001b[49m\u001b[43mdate_format\u001b[49m\u001b[38;5;241;43m=\u001b[39;49m\u001b[43mdate_format\u001b[49m\u001b[43m,\u001b[49m\n\u001b[1;32m   3981\u001b[0m \u001b[43m    \u001b[49m\u001b[43mdoublequote\u001b[49m\u001b[38;5;241;43m=\u001b[39;49m\u001b[43mdoublequote\u001b[49m\u001b[43m,\u001b[49m\n\u001b[1;32m   3982\u001b[0m \u001b[43m    \u001b[49m\u001b[43mescapechar\u001b[49m\u001b[38;5;241;43m=\u001b[39;49m\u001b[43mescapechar\u001b[49m\u001b[43m,\u001b[49m\n\u001b[1;32m   3983\u001b[0m \u001b[43m    \u001b[49m\u001b[43mstorage_options\u001b[49m\u001b[38;5;241;43m=\u001b[39;49m\u001b[43mstorage_options\u001b[49m\u001b[43m,\u001b[49m\n\u001b[1;32m   3984\u001b[0m \u001b[43m\u001b[49m\u001b[43m)\u001b[49m\n",
      "File \u001b[0;32m~/anaconda3/envs/cellsnap/lib/python3.9/site-packages/pandas/io/formats/format.py:1014\u001b[0m, in \u001b[0;36mDataFrameRenderer.to_csv\u001b[0;34m(self, path_or_buf, encoding, sep, columns, index_label, mode, compression, quoting, quotechar, lineterminator, chunksize, date_format, doublequote, escapechar, errors, storage_options)\u001b[0m\n\u001b[1;32m    993\u001b[0m     created_buffer \u001b[38;5;241m=\u001b[39m \u001b[38;5;28;01mFalse\u001b[39;00m\n\u001b[1;32m    995\u001b[0m csv_formatter \u001b[38;5;241m=\u001b[39m CSVFormatter(\n\u001b[1;32m    996\u001b[0m     path_or_buf\u001b[38;5;241m=\u001b[39mpath_or_buf,\n\u001b[1;32m    997\u001b[0m     lineterminator\u001b[38;5;241m=\u001b[39mlineterminator,\n\u001b[0;32m   (...)\u001b[0m\n\u001b[1;32m   1012\u001b[0m     formatter\u001b[38;5;241m=\u001b[39m\u001b[38;5;28mself\u001b[39m\u001b[38;5;241m.\u001b[39mfmt,\n\u001b[1;32m   1013\u001b[0m )\n\u001b[0;32m-> 1014\u001b[0m \u001b[43mcsv_formatter\u001b[49m\u001b[38;5;241;43m.\u001b[39;49m\u001b[43msave\u001b[49m\u001b[43m(\u001b[49m\u001b[43m)\u001b[49m\n\u001b[1;32m   1016\u001b[0m \u001b[38;5;28;01mif\u001b[39;00m created_buffer:\n\u001b[1;32m   1017\u001b[0m     \u001b[38;5;28;01massert\u001b[39;00m \u001b[38;5;28misinstance\u001b[39m(path_or_buf, StringIO)\n",
      "File \u001b[0;32m~/anaconda3/envs/cellsnap/lib/python3.9/site-packages/pandas/io/formats/csvs.py:251\u001b[0m, in \u001b[0;36mCSVFormatter.save\u001b[0;34m(self)\u001b[0m\n\u001b[1;32m    247\u001b[0m \u001b[38;5;250m\u001b[39m\u001b[38;5;124;03m\"\"\"\u001b[39;00m\n\u001b[1;32m    248\u001b[0m \u001b[38;5;124;03mCreate the writer & save.\u001b[39;00m\n\u001b[1;32m    249\u001b[0m \u001b[38;5;124;03m\"\"\"\u001b[39;00m\n\u001b[1;32m    250\u001b[0m \u001b[38;5;66;03m# apply compression and byte/text conversion\u001b[39;00m\n\u001b[0;32m--> 251\u001b[0m \u001b[38;5;28;01mwith\u001b[39;00m \u001b[43mget_handle\u001b[49m\u001b[43m(\u001b[49m\n\u001b[1;32m    252\u001b[0m \u001b[43m    \u001b[49m\u001b[38;5;28;43mself\u001b[39;49m\u001b[38;5;241;43m.\u001b[39;49m\u001b[43mfilepath_or_buffer\u001b[49m\u001b[43m,\u001b[49m\n\u001b[1;32m    253\u001b[0m \u001b[43m    \u001b[49m\u001b[38;5;28;43mself\u001b[39;49m\u001b[38;5;241;43m.\u001b[39;49m\u001b[43mmode\u001b[49m\u001b[43m,\u001b[49m\n\u001b[1;32m    254\u001b[0m \u001b[43m    \u001b[49m\u001b[43mencoding\u001b[49m\u001b[38;5;241;43m=\u001b[39;49m\u001b[38;5;28;43mself\u001b[39;49m\u001b[38;5;241;43m.\u001b[39;49m\u001b[43mencoding\u001b[49m\u001b[43m,\u001b[49m\n\u001b[1;32m    255\u001b[0m \u001b[43m    \u001b[49m\u001b[43merrors\u001b[49m\u001b[38;5;241;43m=\u001b[39;49m\u001b[38;5;28;43mself\u001b[39;49m\u001b[38;5;241;43m.\u001b[39;49m\u001b[43merrors\u001b[49m\u001b[43m,\u001b[49m\n\u001b[1;32m    256\u001b[0m \u001b[43m    \u001b[49m\u001b[43mcompression\u001b[49m\u001b[38;5;241;43m=\u001b[39;49m\u001b[38;5;28;43mself\u001b[39;49m\u001b[38;5;241;43m.\u001b[39;49m\u001b[43mcompression\u001b[49m\u001b[43m,\u001b[49m\n\u001b[1;32m    257\u001b[0m \u001b[43m    \u001b[49m\u001b[43mstorage_options\u001b[49m\u001b[38;5;241;43m=\u001b[39;49m\u001b[38;5;28;43mself\u001b[39;49m\u001b[38;5;241;43m.\u001b[39;49m\u001b[43mstorage_options\u001b[49m\u001b[43m,\u001b[49m\n\u001b[1;32m    258\u001b[0m \u001b[43m\u001b[49m\u001b[43m)\u001b[49m \u001b[38;5;28;01mas\u001b[39;00m handles:\n\u001b[1;32m    259\u001b[0m     \u001b[38;5;66;03m# Note: self.encoding is irrelevant here\u001b[39;00m\n\u001b[1;32m    260\u001b[0m     \u001b[38;5;28mself\u001b[39m\u001b[38;5;241m.\u001b[39mwriter \u001b[38;5;241m=\u001b[39m csvlib\u001b[38;5;241m.\u001b[39mwriter(\n\u001b[1;32m    261\u001b[0m         handles\u001b[38;5;241m.\u001b[39mhandle,\n\u001b[1;32m    262\u001b[0m         lineterminator\u001b[38;5;241m=\u001b[39m\u001b[38;5;28mself\u001b[39m\u001b[38;5;241m.\u001b[39mlineterminator,\n\u001b[0;32m   (...)\u001b[0m\n\u001b[1;32m    267\u001b[0m         quotechar\u001b[38;5;241m=\u001b[39m\u001b[38;5;28mself\u001b[39m\u001b[38;5;241m.\u001b[39mquotechar,\n\u001b[1;32m    268\u001b[0m     )\n\u001b[1;32m    270\u001b[0m     \u001b[38;5;28mself\u001b[39m\u001b[38;5;241m.\u001b[39m_save()\n",
      "File \u001b[0;32m~/anaconda3/envs/cellsnap/lib/python3.9/site-packages/pandas/io/common.py:749\u001b[0m, in \u001b[0;36mget_handle\u001b[0;34m(path_or_buf, mode, encoding, compression, memory_map, is_text, errors, storage_options)\u001b[0m\n\u001b[1;32m    747\u001b[0m \u001b[38;5;66;03m# Only for write methods\u001b[39;00m\n\u001b[1;32m    748\u001b[0m \u001b[38;5;28;01mif\u001b[39;00m \u001b[38;5;124m\"\u001b[39m\u001b[38;5;124mr\u001b[39m\u001b[38;5;124m\"\u001b[39m \u001b[38;5;129;01mnot\u001b[39;00m \u001b[38;5;129;01min\u001b[39;00m mode \u001b[38;5;129;01mand\u001b[39;00m is_path:\n\u001b[0;32m--> 749\u001b[0m     \u001b[43mcheck_parent_directory\u001b[49m\u001b[43m(\u001b[49m\u001b[38;5;28;43mstr\u001b[39;49m\u001b[43m(\u001b[49m\u001b[43mhandle\u001b[49m\u001b[43m)\u001b[49m\u001b[43m)\u001b[49m\n\u001b[1;32m    751\u001b[0m \u001b[38;5;28;01mif\u001b[39;00m compression:\n\u001b[1;32m    752\u001b[0m     \u001b[38;5;28;01mif\u001b[39;00m compression \u001b[38;5;241m!=\u001b[39m \u001b[38;5;124m\"\u001b[39m\u001b[38;5;124mzstd\u001b[39m\u001b[38;5;124m\"\u001b[39m:\n\u001b[1;32m    753\u001b[0m         \u001b[38;5;66;03m# compression libraries do not like an explicit text-mode\u001b[39;00m\n",
      "File \u001b[0;32m~/anaconda3/envs/cellsnap/lib/python3.9/site-packages/pandas/io/common.py:616\u001b[0m, in \u001b[0;36mcheck_parent_directory\u001b[0;34m(path)\u001b[0m\n\u001b[1;32m    614\u001b[0m parent \u001b[38;5;241m=\u001b[39m Path(path)\u001b[38;5;241m.\u001b[39mparent\n\u001b[1;32m    615\u001b[0m \u001b[38;5;28;01mif\u001b[39;00m \u001b[38;5;129;01mnot\u001b[39;00m parent\u001b[38;5;241m.\u001b[39mis_dir():\n\u001b[0;32m--> 616\u001b[0m     \u001b[38;5;28;01mraise\u001b[39;00m \u001b[38;5;167;01mOSError\u001b[39;00m(\u001b[38;5;124mrf\u001b[39m\u001b[38;5;124m\"\u001b[39m\u001b[38;5;124mCannot save file into a non-existent directory: \u001b[39m\u001b[38;5;124m'\u001b[39m\u001b[38;5;132;01m{\u001b[39;00mparent\u001b[38;5;132;01m}\u001b[39;00m\u001b[38;5;124m'\u001b[39m\u001b[38;5;124m\"\u001b[39m)\n",
      "\u001b[0;31mOSError\u001b[0m: Cannot save file into a non-existent directory: '../spleen/data'"
     ]
    }
   ],
   "source": [
    "import warnings\n",
    "warnings.filterwarnings('ignore')\n",
    "# for loop start:\n",
    "batch = 5\n",
    "dflist = []\n",
    "for i in range(batch):\n",
    "    print('at', i)\n",
    "    \n",
    "    indices = np.random.choice(stlearn.shape[0], 10000, replace=False)\n",
    "    \n",
    "    stlearn_sub = stlearn[indices]\n",
    "    sedr_sub = sedr[indices]\n",
    "    spagcn_sub = spagcn[indices]\n",
    "    banksy_sub = banksy[indices]\n",
    "    cellc_sub = cellc[indices]\n",
    "    \n",
    "    ##### calculate umap\n",
    "    \n",
    "    # start to calculate silhoutte score\n",
    "    stlearn_ss_list = []\n",
    "    sedr_ss_list = []\n",
    "    spagcn_ss_list = []\n",
    "    banksy_ss_list = []\n",
    "    cellc_ss_list = []\n",
    "\n",
    "    k_clusters = [x for x in range(5,30,2)]\n",
    "\n",
    "    for k in k_clusters:\n",
    "\n",
    "        ## stlearn\n",
    "        stlearn_edges = graph.get_feature_edges(\n",
    "            arr=stlearn_sub, pca_components=None,\n",
    "            n_neighbors=15, metric='correlation', verbose=False\n",
    "        )\n",
    "        stlearn_labels = graph.graph_clustering(\n",
    "            stlearn_sub.shape[0], stlearn_edges, resolution=None, n_clusters=k, n_runs=1,\n",
    "            resolution_tol=0.05, seed=None, verbose=False\n",
    "        )\n",
    "\n",
    "        ## sedr\n",
    "        sedr_edges = graph.get_feature_edges(\n",
    "            arr=sedr_sub, pca_components=None,\n",
    "            n_neighbors=15, metric='correlation', verbose=False\n",
    "        )\n",
    "        sedr_labels = graph.graph_clustering(\n",
    "            sedr_sub.shape[0], sedr_edges, resolution=None, n_clusters=k, n_runs=1,\n",
    "            resolution_tol=0.05, seed=None, verbose=False\n",
    "        )\n",
    "\n",
    "        ## spagcn\n",
    "        spagcn_edges = graph.get_feature_edges(\n",
    "            arr=spagcn_sub, pca_components=None,\n",
    "            n_neighbors=15, metric='correlation', verbose=False\n",
    "        )\n",
    "        spagcn_labels = graph.graph_clustering(\n",
    "            spagcn_sub.shape[0], spagcn_edges, resolution=None, n_clusters=k, n_runs=1,\n",
    "            resolution_tol=0.05, seed=None, verbose=False\n",
    "        )\n",
    "\n",
    "        ## banksy\n",
    "        banksy_edges = graph.get_feature_edges(\n",
    "            arr=banksy_sub, pca_components=None,\n",
    "            n_neighbors=15, metric='correlation', verbose=False\n",
    "        )\n",
    "        banksy_labels = graph.graph_clustering(\n",
    "            banksy_sub.shape[0], banksy_edges, resolution=None, n_clusters=k, n_runs=1,\n",
    "            resolution_tol=0.05, seed=None, verbose=False\n",
    "        )\n",
    "\n",
    "        ## cellcharter\n",
    "        cellc_edges = graph.get_feature_edges(\n",
    "            arr=cellc_sub, pca_components=None,\n",
    "            n_neighbors=15, metric='correlation', verbose=False\n",
    "        )\n",
    "        cellc_labels = graph.graph_clustering(\n",
    "            cellc_sub.shape[0], cellc_edges, resolution=None, n_clusters=k, n_runs=1,\n",
    "            resolution_tol=0.05, seed=None, verbose=False\n",
    "        )\n",
    "        \n",
    "        stlearn_ss = sklearn.metrics.davies_bouldin_score(stlearn_sub, stlearn_labels)\n",
    "        sedr_ss = sklearn.metrics.davies_bouldin_score(sedr_sub, sedr_labels)\n",
    "        spagcn_ss = sklearn.metrics.davies_bouldin_score(spagcn_sub, spagcn_labels)\n",
    "        banksy_ss = sklearn.metrics.davies_bouldin_score(banksy_sub, banksy_labels)\n",
    "        cellc_ss = sklearn.metrics.davies_bouldin_score(cellc_sub, cellc_labels)\n",
    "\n",
    "        stlearn_ss_list.append(stlearn_ss)\n",
    "        sedr_ss_list.append(sedr_ss)\n",
    "        spagcn_ss_list.append(spagcn_ss)\n",
    "        banksy_ss_list.append(banksy_ss)\n",
    "        cellc_ss_list.append(cellc_ss)\n",
    "        \n",
    "    data = {'k':k_clusters, 'ch_stlearn':stlearn_ss_list, 'ch_sedr':sedr_ss_list, 'ch_spagcn':spagcn_ss_list,\n",
    "           'ch_banksy':banksy_ss_list, 'ch_cellc':cellc_ss_list}\n",
    "    \n",
    "    df = pd.DataFrame(data)\n",
    "    df['batch'] = i\n",
    "    dflist.append(df)\n",
    "    \n",
    "test = pd.concat(dflist)\n",
    "test2 = test.melt(id_vars=['k'], value_vars=['ch_stlearn', 'ch_sedr', 'ch_spagcn', 'ch_banksy', 'ch_cellc'])\n",
    "test2.to_csv('../spleen/data/DB_result_spleen_revloc.csv')"
   ]
  },
  {
   "cell_type": "code",
   "execution_count": 4,
   "id": "02d21b28-a8e9-4560-8085-ac643651d02e",
   "metadata": {},
   "outputs": [],
   "source": [
    "test = pd.concat(dflist)\n",
    "test2 = test.melt(id_vars=['k'], value_vars=['ch_stlearn', 'ch_sedr', 'ch_spagcn', 'ch_banksy', 'ch_cellc'])\n",
    "test2.to_csv('../../data/spleen/DB_result_spleen_revloc.csv')"
   ]
  },
  {
   "cell_type": "code",
   "execution_count": null,
   "id": "d03a403b-4b0e-49c1-a8e9-e97122b305ae",
   "metadata": {},
   "outputs": [],
   "source": []
  },
  {
   "cell_type": "code",
   "execution_count": null,
   "id": "872b7c22-e3ee-47d9-b2b2-51fe909b00d5",
   "metadata": {},
   "outputs": [],
   "source": []
  },
  {
   "cell_type": "code",
   "execution_count": null,
   "id": "401ed966-a947-4598-b07f-57f8dee5dfb7",
   "metadata": {},
   "outputs": [],
   "source": []
  },
  {
   "cell_type": "code",
   "execution_count": null,
   "id": "ddfbb1cc-ee87-4b74-8946-ec97048894fc",
   "metadata": {},
   "outputs": [],
   "source": []
  },
  {
   "cell_type": "code",
   "execution_count": 2,
   "id": "7802834c",
   "metadata": {},
   "outputs": [
    {
     "name": "stdout",
     "output_type": "stream",
     "text": [
      "[(53500, 15), (53500, 8)]\n"
     ]
    }
   ],
   "source": [
    "cca = pd.read_csv('../data/cca15_feat.csv').to_numpy()\n",
    "mofa = pd.read_csv('../data/mofa_fc8.csv').to_numpy()\n",
    "print([cca.shape, mofa.shape])"
   ]
  },
  {
   "cell_type": "code",
   "execution_count": 3,
   "id": "04bb9362",
   "metadata": {},
   "outputs": [
    {
     "name": "stdout",
     "output_type": "stream",
     "text": [
      "at 0\n",
      "at 1\n",
      "at 2\n",
      "at 3\n",
      "at 4\n"
     ]
    }
   ],
   "source": [
    "# for loop start:\n",
    "batch = 5\n",
    "dflist = []\n",
    "for i in range(batch):\n",
    "    print('at', i)\n",
    "    \n",
    "    indices = np.random.choice(cca.shape[0], 10000, replace=False)\n",
    "    \n",
    "    cca_sub = cca[indices]\n",
    "    mofa_sub = mofa[indices]\n",
    "    \n",
    "    ##### calculate umap\n",
    "    \n",
    "    # start to calculate silhoutte score\n",
    "    cca_ss_list = []\n",
    "    mofa_ss_list = []\n",
    "\n",
    "    k_clusters = [x for x in range(5,30,2)]\n",
    "\n",
    "    for k in k_clusters:\n",
    "\n",
    "        ## cca\n",
    "        cca_edges = graph.get_feature_edges(\n",
    "            arr=cca_sub, pca_components=None,\n",
    "            n_neighbors=15, metric='correlation', verbose=False\n",
    "        )\n",
    "        cca_labels = graph.graph_clustering(\n",
    "            cca_sub.shape[0], cca_edges, resolution=None, n_clusters=k, n_runs=1,\n",
    "            resolution_tol=0.05, seed=None, verbose=False\n",
    "        )\n",
    "\n",
    "        ## mofa\n",
    "        mofa_edges = graph.get_feature_edges(\n",
    "            arr=mofa_sub, pca_components=None,\n",
    "            n_neighbors=15, metric='correlation', verbose=False\n",
    "        )\n",
    "        mofa_labels = graph.graph_clustering(\n",
    "            mofa_sub.shape[0], mofa_edges, resolution=None, n_clusters=k, n_runs=1,\n",
    "            resolution_tol=0.05, seed=None, verbose=False\n",
    "        )\n",
    "        \n",
    "        cca_ss = sklearn.metrics.davies_bouldin_score(cca_sub, cca_labels)\n",
    "        mofa_ss = sklearn.metrics.davies_bouldin_score(mofa_sub, mofa_labels)\n",
    "\n",
    "        cca_ss_list.append(cca_ss)\n",
    "        mofa_ss_list.append(mofa_ss)\n",
    "        \n",
    "    data = {'k':k_clusters, 'ch_cca':cca_ss_list,\n",
    "            'ch_mofa':mofa_ss_list}\n",
    "    \n",
    "    df = pd.DataFrame(data)\n",
    "    df['batch'] = i\n",
    "    dflist.append(df)\n",
    "    \n",
    "test = pd.concat(dflist)\n",
    "test2 = test.melt(id_vars=['k'], value_vars=['ch_cca', 'ch_mofa'])\n",
    "test2.to_csv('../data/DB_result_spleen_ccamofa.csv')\n"
   ]
  },
  {
   "cell_type": "code",
   "execution_count": null,
   "id": "4da4e54a",
   "metadata": {},
   "outputs": [],
   "source": []
  },
  {
   "cell_type": "code",
   "execution_count": null,
   "id": "bcde2373",
   "metadata": {},
   "outputs": [],
   "source": []
  },
  {
   "cell_type": "code",
   "execution_count": 2,
   "id": "f536cf10",
   "metadata": {},
   "outputs": [
    {
     "name": "stdout",
     "output_type": "stream",
     "text": [
      "[(53500, 32), (53500, 30), (53500, 47), (53500, 20), (10000, 30)]\n"
     ]
    }
   ],
   "source": [
    "# read in files\n",
    "snap_embed = np.load(\"../data/double_snap_combo_stable_0327.npy\")\n",
    "df = pd.read_csv('../data/features_and_metadata.csv', index_col=0)\n",
    "df = df.drop('nucl', axis = 1) # remove nuclear for vanilla clustering\n",
    "features = df.iloc[:,3:-5].to_numpy()\n",
    "concact_embed = np.load(\"../data/other_methods/concat_embedding.npy\")\n",
    "spice_embed = np.load(\"../data/other_methods/spicemix_embedding.npy\")\n",
    "\n",
    "##### load in muse 0-4 batch results\n",
    "muse_embed0 = np.load(\"../data/other_methods/muse_final_spleen_rdm10k_0.npy\")\n",
    "muse_embed1 = np.load(\"../data/other_methods/muse_final_spleen_rdm10k_1.npy\")\n",
    "muse_embed2 = np.load(\"../data/other_methods/muse_final_spleen_rdm10k_2.npy\")\n",
    "muse_embed3 = np.load(\"../data/other_methods/muse_final_spleen_rdm10k_3.npy\")\n",
    "muse_embed4 = np.load(\"../data/other_methods/muse_final_spleen_rdm10k_4.npy\")\n",
    "muse_embedll = [muse_embed0, muse_embed1, muse_embed2, muse_embed3, muse_embed4]\n",
    "\n",
    "print([snap_embed.shape, features.shape, concact_embed.shape,\n",
    "      spice_embed.shape, muse_embed0.shape])"
   ]
  },
  {
   "cell_type": "code",
   "execution_count": 3,
   "id": "ca4cadb7",
   "metadata": {},
   "outputs": [
    {
     "name": "stdout",
     "output_type": "stream",
     "text": [
      "at 0\n",
      "at 1\n",
      "at 2\n",
      "at 3\n",
      "at 4\n"
     ]
    }
   ],
   "source": [
    "# for loop start:\n",
    "batch = 5\n",
    "dflist = []\n",
    "for i in range(batch):\n",
    "    print('at', i)\n",
    "    \n",
    "    indices = np.random.choice(snap_embed.shape[0], 10000, replace=False)\n",
    "    \n",
    "    snap_embed_sub = snap_embed[indices]\n",
    "    features_sub = features[indices]\n",
    "    concact_embed_sub = concact_embed[indices]\n",
    "    spice_embed_sub = spice_embed[indices]\n",
    "    muse_embed_sub = muse_embedll[i]\n",
    "    \n",
    "    ##### calculate umap\n",
    "    \n",
    "    # start to calculate silhoutte score\n",
    "    feature_ss_list = []\n",
    "    snap_ss_list = []\n",
    "    concact_ss_list = []\n",
    "    spice_ss_list = []\n",
    "    muse_ss_list = []\n",
    "    k_clusters = [x for x in range(5,30,2)]\n",
    "\n",
    "    for k in k_clusters:\n",
    "\n",
    "        ## feature\n",
    "        feature_edges = graph.get_feature_edges(\n",
    "            arr=features_sub, pca_components=None,\n",
    "            n_neighbors=15, metric='correlation', verbose=False\n",
    "        )\n",
    "        feature_labels = graph.graph_clustering(\n",
    "            features_sub.shape[0], feature_edges, resolution=None, n_clusters=k, n_runs=1,\n",
    "            resolution_tol=0.05, seed=None, verbose=False\n",
    "        )\n",
    "\n",
    "        ## snap\n",
    "        snap_edges = graph.get_feature_edges(\n",
    "            arr=snap_embed_sub, pca_components=None,\n",
    "            n_neighbors=15, metric='correlation', verbose=False\n",
    "        )\n",
    "        snap_labels = graph.graph_clustering(\n",
    "            snap_embed_sub.shape[0], snap_edges, resolution=None, n_clusters=k, n_runs=1,\n",
    "            resolution_tol=0.05, seed=None, verbose=False\n",
    "        )\n",
    "\n",
    "        ## concact \n",
    "        concact_edges = graph.get_feature_edges(\n",
    "            arr=concact_embed_sub, pca_components=None,\n",
    "            n_neighbors=15, metric='correlation', verbose=False\n",
    "        )\n",
    "        concact_labels = graph.graph_clustering(\n",
    "            concact_embed_sub.shape[0], concact_edges, resolution=None, n_clusters=k, n_runs=1,\n",
    "            resolution_tol=0.05, seed=None, verbose=False\n",
    "        )\n",
    "        \n",
    "        ## muse \n",
    "        muse_edges = graph.get_feature_edges(\n",
    "            arr=muse_embed_sub, pca_components=None,\n",
    "            n_neighbors=15, metric='correlation', verbose=False\n",
    "        )\n",
    "        muse_labels = graph.graph_clustering(\n",
    "            muse_embed_sub.shape[0], muse_edges, resolution=None, n_clusters=k, n_runs=1,\n",
    "            resolution_tol=0.05, seed=None, verbose=False\n",
    "        )\n",
    "        \n",
    "        ## spice \n",
    "        spice_edges = graph.get_feature_edges(\n",
    "            arr=spice_embed_sub, pca_components=None,\n",
    "            n_neighbors=15, metric='correlation', verbose=False\n",
    "        )\n",
    "        spice_labels = graph.graph_clustering(\n",
    "            spice_embed_sub.shape[0], spice_edges, resolution=None, n_clusters=k, n_runs=1,\n",
    "            resolution_tol=0.05, seed=None, verbose=False\n",
    "        )\n",
    "\n",
    "        feature_ss = sklearn.metrics.davies_bouldin_score(features_sub, feature_labels)\n",
    "        snap_ss = sklearn.metrics.davies_bouldin_score(snap_embed_sub, snap_labels)\n",
    "        concact_ss = sklearn.metrics.davies_bouldin_score(concact_embed_sub, concact_labels)\n",
    "        spice_ss = sklearn.metrics.davies_bouldin_score(spice_embed_sub, spice_labels)\n",
    "        muse_ss = sklearn.metrics.davies_bouldin_score(muse_embed_sub, muse_labels)\n",
    "\n",
    "        feature_ss_list.append(feature_ss)\n",
    "        snap_ss_list.append(snap_ss)\n",
    "        concact_ss_list.append(concact_ss)\n",
    "        spice_ss_list.append(spice_ss)\n",
    "        muse_ss_list.append(muse_ss)\n",
    "        \n",
    "    data = {'k':k_clusters, 'ch_feature':feature_ss_list,\n",
    "            'ch_snap':snap_ss_list,'ch_concact':concact_ss_list,\n",
    "           'ch_spice':spice_ss_list, 'ch_muse':muse_ss_list}\n",
    "    \n",
    "    df = pd.DataFrame(data)\n",
    "    df['batch'] = i\n",
    "    dflist.append(df)\n",
    "    \n"
   ]
  },
  {
   "cell_type": "code",
   "execution_count": 4,
   "id": "84ccc8b3",
   "metadata": {},
   "outputs": [],
   "source": [
    "test = pd.concat(dflist)\n",
    "test2 = test.melt(id_vars=['k'], value_vars=['ch_feature', 'ch_snap', 'ch_concact', 'ch_spice', 'ch_muse'])\n",
    "test2.to_csv('../data/DB_result_spleen_0327.csv')\n",
    "\n",
    "#plot = sns.lineplot(data=test2,x=\"k\", y=\"value\", hue=\"variable\")\n",
    "#fig = plot.get_figure()\n",
    "#fig.savefig('../plots/CH_allmethods_dbGNNstab.svg', dpi = 300) \n",
    "\n",
    "#test = pd.concat(dflist)\n",
    "#test2 = test.melt(id_vars=['k'], value_vars=['ch_feature', 'ch_snap', 'ch_concact', 'ch_spice', 'ch_muse'])\n",
    "#sns.lineplot(data=test2,x=\"k\", y=\"value\", hue=\"variable\")"
   ]
  },
  {
   "cell_type": "code",
   "execution_count": 6,
   "id": "eefb3194",
   "metadata": {},
   "outputs": [],
   "source": [
    "#plot = sns.lineplot(data=test2,x=\"k\", y=\"value\", hue=\"variable\")\n",
    "#fig = plot.get_figure()\n",
    "#fig.savefig('../plots/DB_allmethods_dbGNNstab.svg', dpi = 300) "
   ]
  },
  {
   "cell_type": "code",
   "execution_count": null,
   "id": "86b5a1bd",
   "metadata": {},
   "outputs": [],
   "source": []
  }
 ],
 "metadata": {
  "kernelspec": {
   "display_name": "cellsnap",
   "language": "python",
   "name": "python3"
  },
  "language_info": {
   "codemirror_mode": {
    "name": "ipython",
    "version": 3
   },
   "file_extension": ".py",
   "mimetype": "text/x-python",
   "name": "python",
   "nbconvert_exporter": "python",
   "pygments_lexer": "ipython3",
   "version": "3.9.20"
  }
 },
 "nbformat": 4,
 "nbformat_minor": 5
}
