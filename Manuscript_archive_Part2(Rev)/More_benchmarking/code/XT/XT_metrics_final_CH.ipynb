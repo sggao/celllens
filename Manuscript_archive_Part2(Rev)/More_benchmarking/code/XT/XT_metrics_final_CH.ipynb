{
 "cells": [
  {
   "cell_type": "code",
   "execution_count": 3,
   "id": "e7ed5c68",
   "metadata": {},
   "outputs": [],
   "source": [
    "import pandas as pd\n",
    "import numpy as np\n",
    "import matplotlib.pyplot as plt\n",
    "import seaborn as sns\n",
    "import sys\n",
    "import anndata as ad \n",
    "import scanpy as sc\n",
    "sys.path.append(\"../../spatial-clust-scripts-main/\")\n",
    "import utils\n",
    "from sklearn.decomposition import PCA\n",
    "import umap\n",
    "import graph\n",
    "#import visualize\n",
    "import sklearn.metrics\n",
    "#import os\n",
    "#os.environ[\"OMP_NUM_THREADS\"] = \"1\"\n",
    "#os.environ[\"OMP_MAX_ACTIVE_LEVELS\"] = \"1\"\n",
    "#os.environ[\"OMP_NESTED\"] = \"FALSE\"\n",
    "import warnings\n",
    "warnings.filterwarnings(\"ignore\", category=FutureWarning, module=\"anndata\")"
   ]
  },
  {
   "cell_type": "code",
   "execution_count": 4,
   "id": "add0ffaf-d2e0-4523-9a3f-16e27d2de55a",
   "metadata": {},
   "outputs": [
    {
     "name": "stdout",
     "output_type": "stream",
     "text": [
      "[(158259, 30), (48047, 32), (48047, 30), (158259, 20), (158259, 120)]\n"
     ]
    }
   ],
   "source": [
    "stlearn = pd.read_csv('../../data/XT/XT_stlearn_pca30v2.csv', index_col=1).to_numpy()\n",
    "sedr = pd.read_csv('../../data/XT/XT_sedr_32n_v2.csv', index_col=1).to_numpy()\n",
    "spagcn = np.load('../../data/XT/conv_output_epoch_200.npy')\n",
    "banksy = pd.read_csv('../../data/XT/cellsnap_data_xton_banksy_r1-all.csv').loc[:, 'PC1':'PC20'].to_numpy()\n",
    "cellc = pd.read_csv('../../data/XT/CC_XT_30x4.csv').to_numpy() #naming error actually pc30\n",
    "\n",
    "print([stlearn.shape, sedr.shape, spagcn.shape, banksy.shape, cellc.shape])"
   ]
  },
  {
   "cell_type": "code",
   "execution_count": 5,
   "id": "4421bef0-ec9e-4c1f-ae64-12ab6427fba5",
   "metadata": {},
   "outputs": [
    {
     "name": "stdout",
     "output_type": "stream",
     "text": [
      "at 0\n"
     ]
    },
    {
     "name": "stderr",
     "output_type": "stream",
     "text": [
      "OMP: Info #276: omp_set_nested routine deprecated, please use omp_set_max_active_levels instead.\n"
     ]
    },
    {
     "name": "stdout",
     "output_type": "stream",
     "text": [
      "at 1\n",
      "at 2\n",
      "at 3\n",
      "at 4\n"
     ]
    }
   ],
   "source": [
    "# for loop start:\n",
    "batch = 5\n",
    "dflist = []\n",
    "for i in range(batch):\n",
    "    print('at', i)\n",
    "    \n",
    "    indices = np.random.choice(sedr.shape[0], 10000, replace=False)\n",
    "    \n",
    "    stlearn_sub = stlearn[indices]\n",
    "    sedr_sub = sedr[indices]\n",
    "    spagcn_sub = spagcn[indices]\n",
    "    banksy_sub = banksy[indices]\n",
    "    cellc_sub = cellc[indices]\n",
    "    \n",
    "    ##### calculate umap\n",
    "    \n",
    "    # start to calculate silhoutte score\n",
    "    stlearn_ss_list = []\n",
    "    sedr_ss_list = []\n",
    "    spagcn_ss_list = []\n",
    "    banksy_ss_list = []\n",
    "    cellc_ss_list = []\n",
    "\n",
    "    k_clusters = [x for x in range(5,30,2)]\n",
    "\n",
    "    for k in k_clusters:\n",
    "\n",
    "        ## stlearn\n",
    "        stlearn_edges = graph.get_feature_edges(\n",
    "            arr=stlearn_sub, pca_components=None,\n",
    "            n_neighbors=15, metric='correlation', verbose=False\n",
    "        )\n",
    "        stlearn_labels = graph.graph_clustering(\n",
    "            stlearn_sub.shape[0], stlearn_edges, resolution=None, n_clusters=k, n_runs=1,\n",
    "            resolution_tol=0.05, seed=None, verbose=False\n",
    "        )\n",
    "\n",
    "        ## sedr\n",
    "        sedr_edges = graph.get_feature_edges(\n",
    "            arr=sedr_sub, pca_components=None,\n",
    "            n_neighbors=15, metric='correlation', verbose=False\n",
    "        )\n",
    "        sedr_labels = graph.graph_clustering(\n",
    "            sedr_sub.shape[0], sedr_edges, resolution=None, n_clusters=k, n_runs=1,\n",
    "            resolution_tol=0.05, seed=None, verbose=False\n",
    "        )\n",
    "\n",
    "        ## spagcn\n",
    "        spagcn_edges = graph.get_feature_edges(\n",
    "            arr=spagcn_sub, pca_components=None,\n",
    "            n_neighbors=15, metric='correlation', verbose=False\n",
    "        )\n",
    "        spagcn_labels = graph.graph_clustering(\n",
    "            spagcn_sub.shape[0], spagcn_edges, resolution=None, n_clusters=k, n_runs=1,\n",
    "            resolution_tol=0.05, seed=None, verbose=False\n",
    "        )\n",
    "\n",
    "        ## banksy\n",
    "        banksy_edges = graph.get_feature_edges(\n",
    "            arr=banksy_sub, pca_components=None,\n",
    "            n_neighbors=15, metric='correlation', verbose=False\n",
    "        )\n",
    "        banksy_labels = graph.graph_clustering(\n",
    "            banksy_sub.shape[0], banksy_edges, resolution=None, n_clusters=k, n_runs=1,\n",
    "            resolution_tol=0.05, seed=None, verbose=False\n",
    "        )\n",
    "\n",
    "        ## cellcharter\n",
    "        cellc_edges = graph.get_feature_edges(\n",
    "            arr=cellc_sub, pca_components=None,\n",
    "            n_neighbors=15, metric='correlation', verbose=False\n",
    "        )\n",
    "        cellc_labels = graph.graph_clustering(\n",
    "            cellc_sub.shape[0], cellc_edges, resolution=None, n_clusters=k, n_runs=1,\n",
    "            resolution_tol=0.05, seed=None, verbose=False\n",
    "        )\n",
    "        \n",
    "        stlearn_ss = sklearn.metrics.calinski_harabasz_score(stlearn_sub, stlearn_labels)\n",
    "        sedr_ss = sklearn.metrics.calinski_harabasz_score(sedr_sub, sedr_labels)\n",
    "        spagcn_ss = sklearn.metrics.calinski_harabasz_score(spagcn_sub, spagcn_labels)\n",
    "        banksy_ss = sklearn.metrics.calinski_harabasz_score(banksy_sub, banksy_labels)\n",
    "        cellc_ss = sklearn.metrics.calinski_harabasz_score(cellc_sub, cellc_labels)\n",
    "\n",
    "        stlearn_ss_list.append(stlearn_ss)\n",
    "        sedr_ss_list.append(sedr_ss)\n",
    "        spagcn_ss_list.append(spagcn_ss)\n",
    "        banksy_ss_list.append(banksy_ss)\n",
    "        cellc_ss_list.append(cellc_ss)\n",
    "        \n",
    "    data = {'k':k_clusters, 'ch_stlearn':stlearn_ss_list, 'ch_sedr':sedr_ss_list, 'ch_spagcn':spagcn_ss_list,\n",
    "           'ch_banksy':banksy_ss_list, 'ch_cellc':cellc_ss_list}\n",
    "    \n",
    "    df = pd.DataFrame(data)\n",
    "    df['batch'] = i\n",
    "    dflist.append(df)\n",
    "    \n",
    "test = pd.concat(dflist)\n",
    "test2 = test.melt(id_vars=['k'], value_vars=['ch_stlearn', 'ch_sedr', 'ch_spagcn', 'ch_banksy', 'ch_cellc'])\n",
    "test2.to_csv('../../data/XT/CH_result_XT_rev.csv')"
   ]
  },
  {
   "cell_type": "code",
   "execution_count": null,
   "id": "5caec531",
   "metadata": {},
   "outputs": [],
   "source": [
    "#test2.to_csv('../../data/tonsil/CH_result_tonsil_revloc.csv')"
   ]
  },
  {
   "cell_type": "code",
   "execution_count": null,
   "id": "82a3e761",
   "metadata": {},
   "outputs": [],
   "source": []
  },
  {
   "cell_type": "code",
   "execution_count": null,
   "id": "e03dda32",
   "metadata": {},
   "outputs": [],
   "source": []
  },
  {
   "cell_type": "code",
   "execution_count": 2,
   "id": "7e54133c-49fd-4f8a-887e-e2422f57a799",
   "metadata": {},
   "outputs": [
    {
     "name": "stdout",
     "output_type": "stream",
     "text": [
      "\u001b[?1h\u001b=\u001b[H\u001b[2J\u001b[mtop - 12:19:28 up 145 days, 21:19,  3 users,  load average: 1.63, 5.16, 4.62\u001b[m\u001b[m\u001b[m\u001b[m\u001b[K\n",
      "Tasks:\u001b[m\u001b[m\u001b[1m 787 \u001b[m\u001b[mtotal,\u001b[m\u001b[m\u001b[1m   1 \u001b[m\u001b[mrunning,\u001b[m\u001b[m\u001b[1m 786 \u001b[m\u001b[msleeping,\u001b[m\u001b[m\u001b[1m   0 \u001b[m\u001b[mstopped,\u001b[m\u001b[m\u001b[1m   0 \u001b[m\u001b[mzombie\u001b[m\u001b[m\u001b[m\u001b[m\u001b[K\n",
      "%Cpu(s):\u001b[m\u001b[m\u001b[1m  0.0 \u001b[m\u001b[mus,\u001b[m\u001b[m\u001b[1m  0.2 \u001b[m\u001b[msy,\u001b[m\u001b[m\u001b[1m  0.0 \u001b[m\u001b[mni,\u001b[m\u001b[m\u001b[1m 99.7 \u001b[m\u001b[mid,\u001b[m\u001b[m\u001b[1m  0.0 \u001b[m\u001b[mwa,\u001b[m\u001b[m\u001b[1m  0.0 \u001b[m\u001b[mhi,\u001b[m\u001b[m\u001b[1m  0.1 \u001b[m\u001b[msi,\u001b[m\u001b[m\u001b[1m  0.0 \u001b[m\u001b[mst\u001b[m\u001b[m\u001b[m\u001b[m\u001b[K\n",
      "MiB Mem :\u001b[m\u001b[m\u001b[1m 515698.3 \u001b[m\u001b[mtotal,\u001b[m\u001b[m\u001b[1m 474927.2 \u001b[m\u001b[mfree,\u001b[m\u001b[m\u001b[1m  35081.1 \u001b[m\u001b[mused,\u001b[m\u001b[m\u001b[1m   5690.0 \u001b[m\u001b[mbuff/cache\u001b[m\u001b[m\u001b[m\u001b[m\u001b[K\n",
      "MiB Swap:\u001b[m\u001b[m\u001b[1m  16384.0 \u001b[m\u001b[mtotal,\u001b[m\u001b[m\u001b[1m  16384.0 \u001b[m\u001b[mfree,\u001b[m\u001b[m\u001b[1m      0.0 \u001b[m\u001b[mused.\u001b[m\u001b[m\u001b[1m 452594.5 \u001b[m\u001b[mavail Mem \u001b[m\u001b[m\u001b[m\u001b[m\u001b[K\n",
      "\u001b[K\n",
      "\u001b[7m    PID USER      PR  NI    VIRT    RES    SHR S  %CPU  %MEM     TIME+ COMMAND  \u001b[m\u001b[m\u001b[K\n",
      "\u001b[m 339478 root      20   0  347656   6220   5392 S   6.7   0.0   0:00.84 slurmst+ \u001b[m\u001b[m\u001b[K\n",
      "\u001b[m      1 root      20   0  238984  11744   8308 S   0.0   0.0   0:35.05 systemd  \u001b[m\u001b[m\u001b[K\n",
      "\u001b[m      2 root      20   0       0      0      0 S   0.0   0.0   0:04.81 kthreadd \u001b[m\u001b[m\u001b[K\n",
      "\u001b[m      3 root       0 -20       0      0      0 I   0.0   0.0   0:00.00 rcu_gp   \u001b[m\u001b[m\u001b[K\n",
      "\u001b[m      4 root       0 -20       0      0      0 I   0.0   0.0   0:00.00 rcu_par+ \u001b[m\u001b[m\u001b[K\n",
      "\u001b[m      5 root       0 -20       0      0      0 I   0.0   0.0   0:00.00 slub_fl+ \u001b[m\u001b[m\u001b[K\n",
      "\u001b[m      7 root       0 -20       0      0      0 I   0.0   0.0   0:00.00 kworker+ \u001b[m\u001b[m\u001b[K\n",
      "\u001b[m     11 root       0 -20       0      0      0 I   0.0   0.0   0:00.00 mm_perc+ \u001b[m\u001b[m\u001b[K\n",
      "\u001b[m     12 root      20   0       0      0      0 S   0.0   0.0   0:00.00 rcu_tas+ \u001b[m\u001b[m\u001b[K\n",
      "\u001b[m     13 root      20   0       0      0      0 S   0.0   0.0   0:00.00 rcu_tas+ \u001b[m\u001b[m\u001b[K\n",
      "\u001b[m     14 root      20   0       0      0      0 S   0.0   0.0   3:26.94 ksoftir+ \u001b[m\u001b[m\u001b[K\n",
      "\u001b[m     15 root      20   0       0      0      0 I   0.0   0.0  21:04.89 rcu_sch+ \u001b[m\u001b[m\u001b[K\n",
      "\u001b[m     16 root      rt   0       0      0      0 S   0.0   0.0   0:00.70 migrati+ \u001b[m\u001b[m\u001b[K\n",
      "\u001b[m     17 root      rt   0       0      0      0 S   0.0   0.0   0:00.10 watchdo+ \u001b[m\u001b[m\u001b[K\n",
      "\u001b[m     18 root      20   0       0      0      0 S   0.0   0.0   0:00.03 cpuhp/0  \u001b[m\u001b[m\u001b[K\n",
      "\u001b[m     19 root      20   0       0      0      0 S   0.0   0.0   0:00.00 cpuhp/1  \u001b[m\u001b[m\u001b[K\n",
      "\u001b[m     20 root      rt   0       0      0      0 S   0.0   0.0   0:02.36 watchdo+ \u001b[m\u001b[m\u001b[K\u001b[H\u001b[mtop - 12:19:31 up 145 days, 21:19,  3 users,  load average: 1.50, 5.07, 4.60\u001b[m\u001b[m\u001b[m\u001b[m\u001b[K\n",
      "Tasks:\u001b[m\u001b[m\u001b[1m 787 \u001b[m\u001b[mtotal,\u001b[m\u001b[m\u001b[1m   2 \u001b[m\u001b[mrunning,\u001b[m\u001b[m\u001b[1m 785 \u001b[m\u001b[msleeping,\u001b[m\u001b[m\u001b[1m   0 \u001b[m\u001b[mstopped,\u001b[m\u001b[m\u001b[1m   0 \u001b[m\u001b[mzombie\u001b[m\u001b[m\u001b[m\u001b[m\u001b[K\n",
      "%Cpu(s):\u001b[m\u001b[m\u001b[1m  0.0 \u001b[m\u001b[mus,\u001b[m\u001b[m\u001b[1m  0.0 \u001b[m\u001b[msy,\u001b[m\u001b[m\u001b[1m  0.0 \u001b[m\u001b[mni,\u001b[m\u001b[m\u001b[1m100.0 \u001b[m\u001b[mid,\u001b[m\u001b[m\u001b[1m  0.0 \u001b[m\u001b[mwa,\u001b[m\u001b[m\u001b[1m  0.0 \u001b[m\u001b[mhi,\u001b[m\u001b[m\u001b[1m  0.0 \u001b[m\u001b[msi,\u001b[m\u001b[m\u001b[1m  0.0 \u001b[m\u001b[mst\u001b[m\u001b[m\u001b[m\u001b[m\u001b[K\n",
      "\n",
      "\n",
      "\u001b[K\n",
      "\n",
      "\u001b[m 339807 xx237     20   0   30.0g   4.3g 440704 S   0.3   0.9  15:50.91 MATLAB   \u001b[m\u001b[m\u001b[K\n",
      "\u001b[m 340408 xx237     20   0   41.7g 376092  69612 S   0.3   0.1   7:08.23 MATLABW+ \u001b[m\u001b[m\u001b[K\n",
      "\u001b[m 413771 xx237     20   0  469492  31288   7428 S   0.3   0.0   0:02.07 websock+ \u001b[m\u001b[m\u001b[K\n",
      "\u001b[m\u001b[1m 501976 bz293     20   0  295496   6576   4864 R   0.3   0.0   0:00.03 top      \u001b[m\u001b[m\u001b[K\n",
      "\u001b[m      1 root      20   0  238984  11744   8308 S   0.0   0.0   0:35.05 systemd  \u001b[m\u001b[m\u001b[K\n",
      "\u001b[m      2 root      20   0       0      0      0 S   0.0   0.0   0:04.81 kthreadd \u001b[m\u001b[m\u001b[K\n",
      "\u001b[m      3 root       0 -20       0      0      0 I   0.0   0.0   0:00.00 rcu_gp   \u001b[m\u001b[m\u001b[K\n",
      "\u001b[m      4 root       0 -20       0      0      0 I   0.0   0.0   0:00.00 rcu_par+ \u001b[m\u001b[m\u001b[K\n",
      "\u001b[m      5 root       0 -20       0      0      0 I   0.0   0.0   0:00.00 slub_fl+ \u001b[m\u001b[m\u001b[K\n",
      "\u001b[m      7 root       0 -20       0      0      0 I   0.0   0.0   0:00.00 kworker+ \u001b[m\u001b[m\u001b[K\n",
      "\u001b[m     11 root       0 -20       0      0      0 I   0.0   0.0   0:00.00 mm_perc+ \u001b[m\u001b[m\u001b[K\n",
      "\u001b[m     12 root      20   0       0      0      0 S   0.0   0.0   0:00.00 rcu_tas+ \u001b[m\u001b[m\u001b[K\n",
      "\u001b[m     13 root      20   0       0      0      0 S   0.0   0.0   0:00.00 rcu_tas+ \u001b[m\u001b[m\u001b[K\n",
      "\u001b[m     14 root      20   0       0      0      0 S   0.0   0.0   3:26.94 ksoftir+ \u001b[m\u001b[m\u001b[K\n",
      "\u001b[m     15 root      20   0       0      0      0 I   0.0   0.0  21:04.89 rcu_sch+ \u001b[m\u001b[m\u001b[K\n",
      "\u001b[m     16 root      rt   0       0      0      0 S   0.0   0.0   0:00.70 migrati+ \u001b[m\u001b[m\u001b[K\n",
      "\u001b[m     17 root      rt   0       0      0      0 S   0.0   0.0   0:00.10 watchdo+ \u001b[m\u001b[m\u001b[K\u001b[H\u001b[mtop - 12:19:34 up 145 days, 21:19,  3 users,  load average: 1.50, 5.07, 4.60\u001b[m\u001b[m\u001b[m\u001b[m\u001b[K\n",
      "\n",
      "\n",
      "MiB Mem :\u001b[m\u001b[m\u001b[1m 515698.3 \u001b[m\u001b[mtotal,\u001b[m\u001b[m\u001b[1m 474927.0 \u001b[m\u001b[mfree,\u001b[m\u001b[m\u001b[1m  35081.3 \u001b[m\u001b[mused,\u001b[m\u001b[m\u001b[1m   5690.0 \u001b[m\u001b[mbuff/cache\u001b[m\u001b[m\u001b[m\u001b[m\u001b[K\n",
      "MiB Swap:\u001b[m\u001b[m\u001b[1m  16384.0 \u001b[m\u001b[mtotal,\u001b[m\u001b[m\u001b[1m  16384.0 \u001b[m\u001b[mfree,\u001b[m\u001b[m\u001b[1m      0.0 \u001b[m\u001b[mused.\u001b[m\u001b[m\u001b[1m 452594.3 \u001b[m\u001b[mavail Mem \u001b[m\u001b[m\u001b[m\u001b[m\u001b[K\n",
      "\u001b[K\n",
      "\n",
      "\u001b[m 392093 bz293     20   0  894872 171344  14744 S   1.0   0.0   0:22.52 jupyter+ \u001b[m\u001b[m\u001b[K\n",
      "\u001b[m  19586 root       0 -20   51.5g  19.9g   2.4g S   0.3   3.9  15333:39 mmfsd    \u001b[m\u001b[m\u001b[K\n",
      "\u001b[m 340408 xx237     20   0   41.7g 376356  69612 S   0.3   0.1   7:08.24 MATLABW+ \u001b[m\u001b[m\u001b[K\n",
      "\u001b[m 501595 bz293     20   0  958284  55424  10280 S   0.3   0.0   0:00.36 python   \u001b[m\u001b[m\u001b[K\n",
      "\n",
      "\n",
      "\n",
      "\n",
      "\n",
      "\n",
      "\n",
      "\n",
      "\n",
      "\n",
      "\n",
      "\n",
      "\u001b[?1l\u001b>\u001b[25;1H\n",
      "\u001b[K"
     ]
    }
   ],
   "source": [
    "!top"
   ]
  },
  {
   "cell_type": "code",
   "execution_count": null,
   "id": "b8db992a-f4ab-4660-9b4d-4038d834222e",
   "metadata": {},
   "outputs": [],
   "source": []
  },
  {
   "cell_type": "code",
   "execution_count": null,
   "id": "32c281c1-d89e-483b-b1d1-2475e852002c",
   "metadata": {},
   "outputs": [],
   "source": []
  },
  {
   "cell_type": "code",
   "execution_count": null,
   "id": "9d2a360e-b279-4d37-a0a6-7d9b6ac5093f",
   "metadata": {},
   "outputs": [],
   "source": []
  },
  {
   "cell_type": "code",
   "execution_count": null,
   "id": "7bd5b6fc-aeba-44b2-a8cc-305df492d372",
   "metadata": {},
   "outputs": [],
   "source": []
  },
  {
   "cell_type": "code",
   "execution_count": 2,
   "id": "a6f76017",
   "metadata": {},
   "outputs": [
    {
     "name": "stdout",
     "output_type": "stream",
     "text": [
      "[(102574, 12), (102574, 23)]\n"
     ]
    }
   ],
   "source": [
    "cca = pd.read_csv('../data/cca12_feat.csv').to_numpy()\n",
    "mofa = pd.read_csv('../data/mofa_fc23.csv').to_numpy()\n",
    "print([cca.shape, mofa.shape])"
   ]
  },
  {
   "cell_type": "code",
   "execution_count": 3,
   "id": "e4f5792d",
   "metadata": {},
   "outputs": [
    {
     "name": "stdout",
     "output_type": "stream",
     "text": [
      "at 0\n",
      "at 1\n",
      "at 2\n",
      "at 3\n",
      "at 4\n"
     ]
    }
   ],
   "source": [
    "# for loop start:\n",
    "batch = 5\n",
    "dflist = []\n",
    "for i in range(batch):\n",
    "    print('at', i)\n",
    "    \n",
    "    indices = np.random.choice(cca.shape[0], 10000, replace=False)\n",
    "    \n",
    "    cca_sub = cca[indices]\n",
    "    mofa_sub = mofa[indices]\n",
    "    \n",
    "    ##### calculate umap\n",
    "    \n",
    "    # start to calculate silhoutte score\n",
    "    cca_ss_list = []\n",
    "    mofa_ss_list = []\n",
    "\n",
    "    k_clusters = [x for x in range(5,30,2)]\n",
    "\n",
    "    for k in k_clusters:\n",
    "\n",
    "        ## cca\n",
    "        cca_edges = graph.get_feature_edges(\n",
    "            arr=cca_sub, pca_components=None,\n",
    "            n_neighbors=15, metric='correlation', verbose=False\n",
    "        )\n",
    "        cca_labels = graph.graph_clustering(\n",
    "            cca_sub.shape[0], cca_edges, resolution=None, n_clusters=k, n_runs=1,\n",
    "            resolution_tol=0.05, seed=None, verbose=False\n",
    "        )\n",
    "\n",
    "        ## mofa\n",
    "        mofa_edges = graph.get_feature_edges(\n",
    "            arr=mofa_sub, pca_components=None,\n",
    "            n_neighbors=15, metric='correlation', verbose=False\n",
    "        )\n",
    "        mofa_labels = graph.graph_clustering(\n",
    "            mofa_sub.shape[0], mofa_edges, resolution=None, n_clusters=k, n_runs=1,\n",
    "            resolution_tol=0.05, seed=None, verbose=False\n",
    "        )\n",
    "        \n",
    "        cca_ss = sklearn.metrics.calinski_harabasz_score(cca_sub, cca_labels)\n",
    "        mofa_ss = sklearn.metrics.calinski_harabasz_score(mofa_sub, mofa_labels)\n",
    "\n",
    "        cca_ss_list.append(cca_ss)\n",
    "        mofa_ss_list.append(mofa_ss)\n",
    "        \n",
    "    data = {'k':k_clusters, 'ch_cca':cca_ss_list,\n",
    "            'ch_mofa':mofa_ss_list}\n",
    "    \n",
    "    df = pd.DataFrame(data)\n",
    "    df['batch'] = i\n",
    "    dflist.append(df)\n",
    "    \n",
    "test = pd.concat(dflist)\n",
    "test2 = test.melt(id_vars=['k'], value_vars=['ch_cca', 'ch_mofa'])\n",
    "test2.to_csv('../data/CH_result_tonsil_ccamofa.csv')\n"
   ]
  },
  {
   "cell_type": "code",
   "execution_count": null,
   "id": "92e57ea5",
   "metadata": {},
   "outputs": [],
   "source": []
  },
  {
   "cell_type": "code",
   "execution_count": null,
   "id": "0d6c5ea3",
   "metadata": {},
   "outputs": [],
   "source": []
  },
  {
   "cell_type": "code",
   "execution_count": 2,
   "id": "16a78603",
   "metadata": {},
   "outputs": [
    {
     "name": "stdout",
     "output_type": "stream",
     "text": [
      "[(102574, 32), (102574, 47), (102574, 63), (102574, 25), (10000, 30)]\n"
     ]
    }
   ],
   "source": [
    "# read in files\n",
    "snap_embed = np.load(\"../data/double_snap_combo_stable_binVer_0325.npy\")\n",
    "features = np.load(\"../data/other_methods/features.npy\")\n",
    "concact_embed = np.load(\"../data/other_methods/concat_embedding.npy\")\n",
    "spice_embed = np.load(\"../data/other_methods/spicemix_embedding.npy\")\n",
    "\n",
    "##### load in muse 0-4 batch results\n",
    "muse_embed0 = np.load(\"../data/other_methods/muse_final_tonsil_rdm10k_0.npy\")\n",
    "muse_embed1 = np.load(\"../data/other_methods/muse_final_tonsil_rdm10k_1.npy\")\n",
    "muse_embed2 = np.load(\"../data/other_methods/muse_final_tonsil_rdm10k_2.npy\")\n",
    "muse_embed3 = np.load(\"../data/other_methods/muse_final_tonsil_rdm10k_3.npy\")\n",
    "muse_embed4 = np.load(\"../data/other_methods/muse_final_tonsil_rdm10k_4.npy\")\n",
    "muse_embedll = [muse_embed0, muse_embed1, muse_embed2, muse_embed3, muse_embed4]\n",
    "\n",
    "print([snap_embed.shape, features.shape, concact_embed.shape,\n",
    "      spice_embed.shape, muse_embed0.shape])"
   ]
  },
  {
   "cell_type": "code",
   "execution_count": 3,
   "id": "bc0c832b",
   "metadata": {},
   "outputs": [
    {
     "name": "stdout",
     "output_type": "stream",
     "text": [
      "at 0\n",
      "at 1\n",
      "at 2\n",
      "at 3\n",
      "at 4\n"
     ]
    }
   ],
   "source": [
    "# for loop start:\n",
    "batch = 5\n",
    "dflist = []\n",
    "for i in range(batch):\n",
    "    print('at', i)\n",
    "    \n",
    "    indices = np.random.choice(snap_embed.shape[0], 10000, replace=False)\n",
    "    \n",
    "    snap_embed_sub = snap_embed[indices]\n",
    "    features_sub = features[indices]\n",
    "    concact_embed_sub = concact_embed[indices]\n",
    "    spice_embed_sub = spice_embed[indices]\n",
    "    muse_embed_sub = muse_embedll[i]\n",
    "    \n",
    "    ##### calculate umap\n",
    "    \n",
    "    # start to calculate silhoutte score\n",
    "    feature_ss_list = []\n",
    "    snap_ss_list = []\n",
    "    concact_ss_list = []\n",
    "    spice_ss_list = []\n",
    "    muse_ss_list = []\n",
    "    k_clusters = [x for x in range(5,30,2)]\n",
    "\n",
    "    for k in k_clusters:\n",
    "\n",
    "        ## feature\n",
    "        feature_edges = graph.get_feature_edges(\n",
    "            arr=features_sub, pca_components=None,\n",
    "            n_neighbors=15, metric='correlation', verbose=False\n",
    "        )\n",
    "        feature_labels = graph.graph_clustering(\n",
    "            features_sub.shape[0], feature_edges, resolution=None, n_clusters=k, n_runs=1,\n",
    "            resolution_tol=0.05, seed=None, verbose=False\n",
    "        )\n",
    "\n",
    "        ## snap\n",
    "        snap_edges = graph.get_feature_edges(\n",
    "            arr=snap_embed_sub, pca_components=None,\n",
    "            n_neighbors=15, metric='correlation', verbose=False\n",
    "        )\n",
    "        snap_labels = graph.graph_clustering(\n",
    "            snap_embed_sub.shape[0], snap_edges, resolution=None, n_clusters=k, n_runs=1,\n",
    "            resolution_tol=0.05, seed=None, verbose=False\n",
    "        )\n",
    "\n",
    "        ## concact \n",
    "        concact_edges = graph.get_feature_edges(\n",
    "            arr=concact_embed_sub, pca_components=None,\n",
    "            n_neighbors=15, metric='correlation', verbose=False\n",
    "        )\n",
    "        concact_labels = graph.graph_clustering(\n",
    "            concact_embed_sub.shape[0], concact_edges, resolution=None, n_clusters=k, n_runs=1,\n",
    "            resolution_tol=0.05, seed=None, verbose=False\n",
    "        )\n",
    "        \n",
    "        ## muse \n",
    "        muse_edges = graph.get_feature_edges(\n",
    "            arr=muse_embed_sub, pca_components=None,\n",
    "            n_neighbors=15, metric='correlation', verbose=False\n",
    "        )\n",
    "        muse_labels = graph.graph_clustering(\n",
    "            muse_embed_sub.shape[0], muse_edges, resolution=None, n_clusters=k, n_runs=1,\n",
    "            resolution_tol=0.05, seed=None, verbose=False\n",
    "        )\n",
    "        \n",
    "        ## spice \n",
    "        spice_edges = graph.get_feature_edges(\n",
    "            arr=spice_embed_sub, pca_components=None,\n",
    "            n_neighbors=15, metric='correlation', verbose=False\n",
    "        )\n",
    "        spice_labels = graph.graph_clustering(\n",
    "            spice_embed_sub.shape[0], spice_edges, resolution=None, n_clusters=k, n_runs=1,\n",
    "            resolution_tol=0.05, seed=None, verbose=False\n",
    "        )\n",
    "\n",
    "        feature_ss = sklearn.metrics.calinski_harabasz_score(features_sub, feature_labels)\n",
    "        snap_ss = sklearn.metrics.calinski_harabasz_score(snap_embed_sub, snap_labels)\n",
    "        concact_ss = sklearn.metrics.calinski_harabasz_score(concact_embed_sub, concact_labels)\n",
    "        spice_ss = sklearn.metrics.calinski_harabasz_score(spice_embed_sub, spice_labels)\n",
    "        muse_ss = sklearn.metrics.calinski_harabasz_score(muse_embed_sub, muse_labels)\n",
    "\n",
    "        feature_ss_list.append(feature_ss)\n",
    "        snap_ss_list.append(snap_ss)\n",
    "        concact_ss_list.append(concact_ss)\n",
    "        spice_ss_list.append(spice_ss)\n",
    "        muse_ss_list.append(muse_ss)\n",
    "        \n",
    "    data = {'k':k_clusters, 'ch_feature':feature_ss_list,\n",
    "            'ch_snap':snap_ss_list,'ch_concact':concact_ss_list,\n",
    "           'ch_spice':spice_ss_list, 'ch_muse':muse_ss_list}\n",
    "    \n",
    "    df = pd.DataFrame(data)\n",
    "    df['batch'] = i\n",
    "    dflist.append(df)\n"
   ]
  },
  {
   "cell_type": "code",
   "execution_count": 4,
   "id": "902d6dd2",
   "metadata": {},
   "outputs": [
    {
     "name": "stderr",
     "output_type": "stream",
     "text": [
      "/home/bokai/miniconda3/envs/cellsnap/lib/python3.10/site-packages/seaborn/_oldcore.py:1119: FutureWarning: use_inf_as_na option is deprecated and will be removed in a future version. Convert inf values to NaN before operating instead.\n",
      "  with pd.option_context('mode.use_inf_as_na', True):\n",
      "/home/bokai/miniconda3/envs/cellsnap/lib/python3.10/site-packages/seaborn/_oldcore.py:1119: FutureWarning: use_inf_as_na option is deprecated and will be removed in a future version. Convert inf values to NaN before operating instead.\n",
      "  with pd.option_context('mode.use_inf_as_na', True):\n",
      "/home/bokai/miniconda3/envs/cellsnap/lib/python3.10/site-packages/seaborn/_oldcore.py:1119: FutureWarning: use_inf_as_na option is deprecated and will be removed in a future version. Convert inf values to NaN before operating instead.\n",
      "  with pd.option_context('mode.use_inf_as_na', True):\n",
      "/home/bokai/miniconda3/envs/cellsnap/lib/python3.10/site-packages/seaborn/_oldcore.py:1119: FutureWarning: use_inf_as_na option is deprecated and will be removed in a future version. Convert inf values to NaN before operating instead.\n",
      "  with pd.option_context('mode.use_inf_as_na', True):\n"
     ]
    },
    {
     "data": {
      "image/png": "[encoded data removed]",
      "text/plain": [
       "<Figure size 640x480 with 1 Axes>"
      ]
     },
     "metadata": {},
     "output_type": "display_data"
    }
   ],
   "source": [
    "test = pd.concat(dflist)\n",
    "test2 = test.melt(id_vars=['k'], value_vars=['ch_feature', 'ch_snap', 'ch_concact', 'ch_spice', 'ch_muse'])\n",
    "test2.to_csv('../data/CH_result_tonsil_0325.csv')\n",
    "\n",
    "sns.lineplot(data=test2,x=\"k\", y=\"value\", hue=\"variable\")\n",
    "plot = sns.lineplot(data=test2,x=\"k\", y=\"value\", hue=\"variable\")\n",
    "fig = plot.get_figure()\n",
    "#fig.savefig('../plots/CH_allmethods_v2.svg', dpi = 300) "
   ]
  },
  {
   "cell_type": "code",
   "execution_count": null,
   "id": "1d7fa922",
   "metadata": {},
   "outputs": [],
   "source": []
  },
  {
   "cell_type": "code",
   "execution_count": null,
   "id": "26ba954a",
   "metadata": {},
   "outputs": [],
   "source": []
  },
  {
   "cell_type": "code",
   "execution_count": null,
   "id": "220cb0f8",
   "metadata": {},
   "outputs": [],
   "source": []
  },
  {
   "cell_type": "code",
   "execution_count": 9,
   "id": "1aebe7c1",
   "metadata": {},
   "outputs": [],
   "source": [
    "#plot = sns.lineplot(data=test2,x=\"k\", y=\"value\", hue=\"variable\")\n",
    "#fig = plot.get_figure()\n",
    "#fig.savefig('../plots/CH.svg', dpi = 300) "
   ]
  },
  {
   "cell_type": "markdown",
   "id": "0d9eb4eb",
   "metadata": {},
   "source": [
    "## below not used"
   ]
  },
  {
   "cell_type": "code",
   "execution_count": null,
   "id": "a6142d04",
   "metadata": {},
   "outputs": [],
   "source": []
  },
  {
   "cell_type": "markdown",
   "id": "6d6cbc16",
   "metadata": {},
   "source": [
    "## without gnn version"
   ]
  },
  {
   "cell_type": "code",
   "execution_count": 16,
   "id": "9922f05d",
   "metadata": {},
   "outputs": [
    {
     "data": {
      "image/png": "[encoded data removed]",
      "text/plain": [
       "<Figure size 432x288 with 1 Axes>"
      ]
     },
     "metadata": {
      "needs_background": "light"
     },
     "output_type": "display_data"
    }
   ],
   "source": [
    "test = pd.concat(dflist)\n",
    "test2 = test.melt(id_vars=['k'], value_vars=['ch_feature', 'ch_conv'])\n",
    "\n",
    "plot = sns.lineplot(data=test2,x=\"k\", y=\"value\", hue=\"variable\")\n",
    "fig = plot.get_figure()\n",
    "fig.savefig('../plots/CH_wo_gnn.svg', dpi = 300) "
   ]
  },
  {
   "cell_type": "code",
   "execution_count": 11,
   "id": "8513da19",
   "metadata": {},
   "outputs": [
    {
     "data": {
      "text/html": [
       "<div>\n",
       "<style scoped>\n",
       "    .dataframe tbody tr th:only-of-type {\n",
       "        vertical-align: middle;\n",
       "    }\n",
       "\n",
       "    .dataframe tbody tr th {\n",
       "        vertical-align: top;\n",
       "    }\n",
       "\n",
       "    .dataframe thead th {\n",
       "        text-align: right;\n",
       "    }\n",
       "</style>\n",
       "<table border=\"1\" class=\"dataframe\">\n",
       "  <thead>\n",
       "    <tr style=\"text-align: right;\">\n",
       "      <th></th>\n",
       "      <th>k</th>\n",
       "      <th>variable</th>\n",
       "      <th>value</th>\n",
       "    </tr>\n",
       "  </thead>\n",
       "  <tbody>\n",
       "    <tr>\n",
       "      <th>0</th>\n",
       "      <td>5</td>\n",
       "      <td>ch_feature</td>\n",
       "      <td>443.522724</td>\n",
       "    </tr>\n",
       "    <tr>\n",
       "      <th>1</th>\n",
       "      <td>7</td>\n",
       "      <td>ch_feature</td>\n",
       "      <td>297.654617</td>\n",
       "    </tr>\n",
       "    <tr>\n",
       "      <th>2</th>\n",
       "      <td>9</td>\n",
       "      <td>ch_feature</td>\n",
       "      <td>226.955332</td>\n",
       "    </tr>\n",
       "    <tr>\n",
       "      <th>3</th>\n",
       "      <td>11</td>\n",
       "      <td>ch_feature</td>\n",
       "      <td>229.181539</td>\n",
       "    </tr>\n",
       "    <tr>\n",
       "      <th>4</th>\n",
       "      <td>13</td>\n",
       "      <td>ch_feature</td>\n",
       "      <td>195.702872</td>\n",
       "    </tr>\n",
       "    <tr>\n",
       "      <th>...</th>\n",
       "      <td>...</td>\n",
       "      <td>...</td>\n",
       "      <td>...</td>\n",
       "    </tr>\n",
       "    <tr>\n",
       "      <th>125</th>\n",
       "      <td>21</td>\n",
       "      <td>ch_conv</td>\n",
       "      <td>1617.985675</td>\n",
       "    </tr>\n",
       "    <tr>\n",
       "      <th>126</th>\n",
       "      <td>23</td>\n",
       "      <td>ch_conv</td>\n",
       "      <td>1552.756121</td>\n",
       "    </tr>\n",
       "    <tr>\n",
       "      <th>127</th>\n",
       "      <td>25</td>\n",
       "      <td>ch_conv</td>\n",
       "      <td>1424.810836</td>\n",
       "    </tr>\n",
       "    <tr>\n",
       "      <th>128</th>\n",
       "      <td>27</td>\n",
       "      <td>ch_conv</td>\n",
       "      <td>1320.084880</td>\n",
       "    </tr>\n",
       "    <tr>\n",
       "      <th>129</th>\n",
       "      <td>29</td>\n",
       "      <td>ch_conv</td>\n",
       "      <td>1234.597681</td>\n",
       "    </tr>\n",
       "  </tbody>\n",
       "</table>\n",
       "<p>130 rows × 3 columns</p>\n",
       "</div>"
      ],
      "text/plain": [
       "      k    variable        value\n",
       "0     5  ch_feature   443.522724\n",
       "1     7  ch_feature   297.654617\n",
       "2     9  ch_feature   226.955332\n",
       "3    11  ch_feature   229.181539\n",
       "4    13  ch_feature   195.702872\n",
       "..   ..         ...          ...\n",
       "125  21     ch_conv  1617.985675\n",
       "126  23     ch_conv  1552.756121\n",
       "127  25     ch_conv  1424.810836\n",
       "128  27     ch_conv  1320.084880\n",
       "129  29     ch_conv  1234.597681\n",
       "\n",
       "[130 rows x 3 columns]"
      ]
     },
     "execution_count": 11,
     "metadata": {},
     "output_type": "execute_result"
    }
   ],
   "source": [
    "test2"
   ]
  },
  {
   "cell_type": "code",
   "execution_count": null,
   "id": "19f10499",
   "metadata": {},
   "outputs": [],
   "source": []
  }
 ],
 "metadata": {
  "kernelspec": {
   "display_name": "cellsnap_misc",
   "language": "python",
   "name": "python3"
  },
  "language_info": {
   "codemirror_mode": {
    "name": "ipython",
    "version": 3
   },
   "file_extension": ".py",
   "mimetype": "text/x-python",
   "name": "python",
   "nbconvert_exporter": "python",
   "pygments_lexer": "ipython3",
   "version": "3.9.20"
  }
 },
 "nbformat": 4,
 "nbformat_minor": 5
}
