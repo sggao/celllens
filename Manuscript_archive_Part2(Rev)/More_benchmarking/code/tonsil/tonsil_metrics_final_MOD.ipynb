{
 "cells": [
  {
   "cell_type": "code",
   "execution_count": 1,
   "id": "e7ed5c68",
   "metadata": {},
   "outputs": [
    {
     "name": "stderr",
     "output_type": "stream",
     "text": [
      "/Users/bokaizhu/anaconda3/envs/cellsnap/lib/python3.9/site-packages/tqdm/auto.py:21: TqdmWarning: IProgress not found. Please update jupyter and ipywidgets. See https://ipywidgets.readthedocs.io/en/stable/user_install.html\n",
      "  from .autonotebook import tqdm as notebook_tqdm\n"
     ]
    }
   ],
   "source": [
    "import pandas as pd\n",
    "import numpy as np\n",
    "import matplotlib.pyplot as plt\n",
    "import seaborn as sns\n",
    "import sys\n",
    "import anndata as ad \n",
    "import scanpy as sc\n",
    "sys.path.append(\"../../spatial-clust-scripts-main/\")\n",
    "import utils\n",
    "from sklearn.decomposition import PCA\n",
    "import umap\n",
    "import graph\n",
    "#import visualize\n",
    "import sklearn.metrics"
   ]
  },
  {
   "cell_type": "code",
   "execution_count": 2,
   "id": "e376aad3-bb41-46a5-978e-ded5a854e150",
   "metadata": {},
   "outputs": [
    {
     "name": "stdout",
     "output_type": "stream",
     "text": [
      "[(102574, 30), (54011, 32), (54011, 20), (102574, 20), (102574, 120)]\n"
     ]
    }
   ],
   "source": [
    "stlearn = pd.read_csv('../../data/tonsil/tonsil_stlearn_pca30v2.csv', index_col=1).to_numpy()\n",
    "sedr = pd.read_csv('../../data/tonsil/tonsil_sedr_32n_v2.csv', index_col=1).to_numpy()\n",
    "spagcn = np.load('../../data/tonsil/conv_output_epoch_0.npy')\n",
    "banksy = pd.read_csv('../../data/tonsil/cellsnap_data_cdxton_banksy_r1-all.csv').loc[:, 'PC1':'PC20'].to_numpy()\n",
    "cellc = pd.read_csv('../../data/tonsil/CC_tonsil_20x4.csv').to_numpy() #naming error actually pc30\n",
    "\n",
    "print([stlearn.shape, sedr.shape, spagcn.shape, banksy.shape, cellc.shape])"
   ]
  },
  {
   "cell_type": "code",
   "execution_count": 3,
   "id": "7694406b-48fc-46cc-bd32-c7dd3be5856a",
   "metadata": {},
   "outputs": [],
   "source": [
    "# define modularity score\n",
    "\n",
    "import leidenalg\n",
    "import igraph as ig\n",
    "\n",
    "def get_modularity(n,edges, seed = 42, resolution = 1):\n",
    "    \n",
    "    g = ig.Graph(directed=True)\n",
    "    g.add_vertices(n)\n",
    "    g.add_edges(list(zip(edges[0], edges[1])))\n",
    "    g.es['weight'] = tuple(edges[2])\n",
    "    partition_kwargs = {'n_iterations': -1, 'seed': seed,\n",
    "                    'resolution_parameter': resolution}\n",
    "    partition_kwargs['weights'] = np.array(g.es['weight']).astype(np.float64)\n",
    "    partition_type = leidenalg.RBConfigurationVertexPartition\n",
    "    curr_part = leidenalg.find_partition(\n",
    "                graph=g, partition_type=partition_type,\n",
    "                **partition_kwargs\n",
    "            )\n",
    "    curr_modularity = curr_part.modularity\n",
    "    \n",
    "    return curr_modularity"
   ]
  },
  {
   "cell_type": "code",
   "execution_count": 4,
   "id": "be72fc3f-7393-4b94-b081-ab541e88d0f4",
   "metadata": {},
   "outputs": [
    {
     "name": "stdout",
     "output_type": "stream",
     "text": [
      "at 0\n"
     ]
    },
    {
     "name": "stderr",
     "output_type": "stream",
     "text": [
      "/Users/bokaizhu/anaconda3/envs/cellsnap/lib/python3.9/site-packages/anndata/_core/anndata.py:402: FutureWarning: The dtype argument is deprecated and will be removed in late 2024.\n",
      "  warnings.warn(\n",
      "OMP: Info #276: omp_set_nested routine deprecated, please use omp_set_max_active_levels instead.\n",
      "/Users/bokaizhu/anaconda3/envs/cellsnap/lib/python3.9/site-packages/anndata/_core/anndata.py:402: FutureWarning: The dtype argument is deprecated and will be removed in late 2024.\n",
      "  warnings.warn(\n",
      "/Users/bokaizhu/anaconda3/envs/cellsnap/lib/python3.9/site-packages/anndata/_core/anndata.py:402: FutureWarning: The dtype argument is deprecated and will be removed in late 2024.\n",
      "  warnings.warn(\n",
      "/Users/bokaizhu/anaconda3/envs/cellsnap/lib/python3.9/site-packages/anndata/_core/anndata.py:402: FutureWarning: The dtype argument is deprecated and will be removed in late 2024.\n",
      "  warnings.warn(\n",
      "/Users/bokaizhu/anaconda3/envs/cellsnap/lib/python3.9/site-packages/anndata/_core/anndata.py:402: FutureWarning: The dtype argument is deprecated and will be removed in late 2024.\n",
      "  warnings.warn(\n"
     ]
    },
    {
     "name": "stdout",
     "output_type": "stream",
     "text": [
      "at 1\n"
     ]
    },
    {
     "name": "stderr",
     "output_type": "stream",
     "text": [
      "/Users/bokaizhu/anaconda3/envs/cellsnap/lib/python3.9/site-packages/anndata/_core/anndata.py:402: FutureWarning: The dtype argument is deprecated and will be removed in late 2024.\n",
      "  warnings.warn(\n",
      "/Users/bokaizhu/anaconda3/envs/cellsnap/lib/python3.9/site-packages/anndata/_core/anndata.py:402: FutureWarning: The dtype argument is deprecated and will be removed in late 2024.\n",
      "  warnings.warn(\n",
      "/Users/bokaizhu/anaconda3/envs/cellsnap/lib/python3.9/site-packages/anndata/_core/anndata.py:402: FutureWarning: The dtype argument is deprecated and will be removed in late 2024.\n",
      "  warnings.warn(\n",
      "/Users/bokaizhu/anaconda3/envs/cellsnap/lib/python3.9/site-packages/anndata/_core/anndata.py:402: FutureWarning: The dtype argument is deprecated and will be removed in late 2024.\n",
      "  warnings.warn(\n",
      "/Users/bokaizhu/anaconda3/envs/cellsnap/lib/python3.9/site-packages/anndata/_core/anndata.py:402: FutureWarning: The dtype argument is deprecated and will be removed in late 2024.\n",
      "  warnings.warn(\n"
     ]
    },
    {
     "name": "stdout",
     "output_type": "stream",
     "text": [
      "at 2\n"
     ]
    },
    {
     "name": "stderr",
     "output_type": "stream",
     "text": [
      "/Users/bokaizhu/anaconda3/envs/cellsnap/lib/python3.9/site-packages/anndata/_core/anndata.py:402: FutureWarning: The dtype argument is deprecated and will be removed in late 2024.\n",
      "  warnings.warn(\n",
      "/Users/bokaizhu/anaconda3/envs/cellsnap/lib/python3.9/site-packages/anndata/_core/anndata.py:402: FutureWarning: The dtype argument is deprecated and will be removed in late 2024.\n",
      "  warnings.warn(\n",
      "/Users/bokaizhu/anaconda3/envs/cellsnap/lib/python3.9/site-packages/anndata/_core/anndata.py:402: FutureWarning: The dtype argument is deprecated and will be removed in late 2024.\n",
      "  warnings.warn(\n",
      "/Users/bokaizhu/anaconda3/envs/cellsnap/lib/python3.9/site-packages/anndata/_core/anndata.py:402: FutureWarning: The dtype argument is deprecated and will be removed in late 2024.\n",
      "  warnings.warn(\n",
      "/Users/bokaizhu/anaconda3/envs/cellsnap/lib/python3.9/site-packages/anndata/_core/anndata.py:402: FutureWarning: The dtype argument is deprecated and will be removed in late 2024.\n",
      "  warnings.warn(\n"
     ]
    },
    {
     "name": "stdout",
     "output_type": "stream",
     "text": [
      "at 3\n"
     ]
    },
    {
     "name": "stderr",
     "output_type": "stream",
     "text": [
      "/Users/bokaizhu/anaconda3/envs/cellsnap/lib/python3.9/site-packages/anndata/_core/anndata.py:402: FutureWarning: The dtype argument is deprecated and will be removed in late 2024.\n",
      "  warnings.warn(\n",
      "/Users/bokaizhu/anaconda3/envs/cellsnap/lib/python3.9/site-packages/anndata/_core/anndata.py:402: FutureWarning: The dtype argument is deprecated and will be removed in late 2024.\n",
      "  warnings.warn(\n",
      "/Users/bokaizhu/anaconda3/envs/cellsnap/lib/python3.9/site-packages/anndata/_core/anndata.py:402: FutureWarning: The dtype argument is deprecated and will be removed in late 2024.\n",
      "  warnings.warn(\n",
      "/Users/bokaizhu/anaconda3/envs/cellsnap/lib/python3.9/site-packages/anndata/_core/anndata.py:402: FutureWarning: The dtype argument is deprecated and will be removed in late 2024.\n",
      "  warnings.warn(\n",
      "/Users/bokaizhu/anaconda3/envs/cellsnap/lib/python3.9/site-packages/anndata/_core/anndata.py:402: FutureWarning: The dtype argument is deprecated and will be removed in late 2024.\n",
      "  warnings.warn(\n"
     ]
    },
    {
     "name": "stdout",
     "output_type": "stream",
     "text": [
      "at 4\n"
     ]
    },
    {
     "name": "stderr",
     "output_type": "stream",
     "text": [
      "/Users/bokaizhu/anaconda3/envs/cellsnap/lib/python3.9/site-packages/anndata/_core/anndata.py:402: FutureWarning: The dtype argument is deprecated and will be removed in late 2024.\n",
      "  warnings.warn(\n",
      "/Users/bokaizhu/anaconda3/envs/cellsnap/lib/python3.9/site-packages/anndata/_core/anndata.py:402: FutureWarning: The dtype argument is deprecated and will be removed in late 2024.\n",
      "  warnings.warn(\n",
      "/Users/bokaizhu/anaconda3/envs/cellsnap/lib/python3.9/site-packages/anndata/_core/anndata.py:402: FutureWarning: The dtype argument is deprecated and will be removed in late 2024.\n",
      "  warnings.warn(\n",
      "/Users/bokaizhu/anaconda3/envs/cellsnap/lib/python3.9/site-packages/anndata/_core/anndata.py:402: FutureWarning: The dtype argument is deprecated and will be removed in late 2024.\n",
      "  warnings.warn(\n",
      "/Users/bokaizhu/anaconda3/envs/cellsnap/lib/python3.9/site-packages/anndata/_core/anndata.py:402: FutureWarning: The dtype argument is deprecated and will be removed in late 2024.\n",
      "  warnings.warn(\n"
     ]
    }
   ],
   "source": [
    "# for loop start:\n",
    "batch = 5\n",
    "dflist = []\n",
    "for i in range(batch):\n",
    "    print('at', i)\n",
    "    \n",
    "    indices = np.random.choice(sedr.shape[0], 10000, replace=False)\n",
    "    \n",
    "    stlearn_sub = stlearn[indices]\n",
    "    sedr_sub = sedr[indices]\n",
    "    spagcn_sub = spagcn[indices]\n",
    "    banksy_sub = banksy[indices]\n",
    "    cellc_sub = cellc[indices]\n",
    "    \n",
    "    ##### calculate umap\n",
    "    \n",
    "    # start to calculate silhoutte score\n",
    "    stlearn_ss_list = []\n",
    "    sedr_ss_list = []\n",
    "    spagcn_ss_list = []\n",
    "    banksy_ss_list = []\n",
    "    cellc_ss_list = []\n",
    "    \n",
    "    ## stlearn\n",
    "    stlearn_edges = graph.get_feature_edges(\n",
    "        arr=stlearn_sub, pca_components=None,\n",
    "        n_neighbors=15, metric='correlation', verbose=False\n",
    "    )\n",
    "    \n",
    "    ## sedr\n",
    "    sedr_edges = graph.get_feature_edges(\n",
    "        arr=sedr_sub, pca_components=None,\n",
    "        n_neighbors=15, metric='correlation', verbose=False\n",
    "    )\n",
    "    \n",
    "    ## spagcn\n",
    "    spagcn_edges = graph.get_feature_edges(\n",
    "        arr=spagcn_sub, pca_components=None,\n",
    "        n_neighbors=15, metric='correlation', verbose=False\n",
    "    )\n",
    "\n",
    "    ## banksy\n",
    "    banksy_edges = graph.get_feature_edges(\n",
    "        arr=banksy_sub, pca_components=None,\n",
    "        n_neighbors=15, metric='correlation', verbose=False\n",
    "    )\n",
    "\n",
    "    ## cellcharter\n",
    "    cellc_edges = graph.get_feature_edges(\n",
    "        arr=cellc_sub, pca_components=None,\n",
    "        n_neighbors=15, metric='correlation', verbose=False\n",
    "    )\n",
    "\n",
    "    res_list = [round(x, 2) for x in np.arange (0.4, 2.6, 0.2)]\n",
    "    \n",
    "    for res in res_list:\n",
    "        \n",
    "        stlearn_ss = get_modularity(stlearn_sub.shape[0], stlearn_edges, resolution = res)\n",
    "        sedr_ss = get_modularity(sedr_sub.shape[0], sedr_edges, resolution = res)\n",
    "        spagcn_ss = get_modularity(spagcn_sub.shape[0], spagcn_edges, resolution = res)\n",
    "        banksy_ss = get_modularity(banksy_sub.shape[0], banksy_edges, resolution = res)\n",
    "        cellc_ss = get_modularity(cellc_sub.shape[0], cellc_edges, resolution = res)\n",
    "        \n",
    "        stlearn_ss_list.append(stlearn_ss)\n",
    "        sedr_ss_list.append(sedr_ss)\n",
    "        spagcn_ss_list.append(spagcn_ss)\n",
    "        banksy_ss_list.append(banksy_ss)\n",
    "        cellc_ss_list.append(cellc_ss)\n",
    "        \n",
    "    data = {'res':res_list, 'ch_stlearn':stlearn_ss_list, 'ch_sedr':sedr_ss_list, 'ch_spagcn':spagcn_ss_list,\n",
    "           'ch_banksy':banksy_ss_list, 'ch_cellc':cellc_ss_list}\n",
    "    \n",
    "    df = pd.DataFrame(data)\n",
    "    df['batch'] = i\n",
    "    dflist.append(df)\n",
    "    \n",
    "test = pd.concat(dflist)\n",
    "test2 = test.melt(id_vars=['res'], value_vars=['ch_stlearn', 'ch_sedr', 'ch_spagcn', 'ch_banksy', 'ch_cellc'])\n",
    "test2.to_csv('../../data/tonsil/Mod_result_tonsil_revloc.csv')\n"
   ]
  },
  {
   "cell_type": "code",
   "execution_count": null,
   "id": "8de309ca-ae0e-41ac-b8ff-47cda99049bd",
   "metadata": {},
   "outputs": [],
   "source": []
  },
  {
   "cell_type": "code",
   "execution_count": null,
   "id": "4d43c3fa-8fab-4115-9025-71ecfc2c12b0",
   "metadata": {},
   "outputs": [],
   "source": []
  },
  {
   "cell_type": "code",
   "execution_count": null,
   "id": "285bbfa0-d5b5-43b3-a141-a73bf3f7af20",
   "metadata": {},
   "outputs": [],
   "source": []
  },
  {
   "cell_type": "code",
   "execution_count": null,
   "id": "9b613dbd-c79b-4468-a9be-0afd76ea1ac4",
   "metadata": {},
   "outputs": [],
   "source": []
  },
  {
   "cell_type": "code",
   "execution_count": null,
   "id": "0eff99ee-4de5-4bdb-9042-f9b4093d18bf",
   "metadata": {},
   "outputs": [],
   "source": []
  },
  {
   "cell_type": "code",
   "execution_count": null,
   "id": "cdcca149-cf19-43bf-b561-7839bc71f54b",
   "metadata": {},
   "outputs": [],
   "source": []
  },
  {
   "cell_type": "code",
   "execution_count": null,
   "id": "5263005d-cfff-48ee-8ad2-60a4a72ce998",
   "metadata": {},
   "outputs": [],
   "source": []
  },
  {
   "cell_type": "code",
   "execution_count": null,
   "id": "3a0eed66-0841-4cc5-9ca4-162b73ed0732",
   "metadata": {},
   "outputs": [],
   "source": []
  },
  {
   "cell_type": "code",
   "execution_count": 3,
   "id": "e9c819a2",
   "metadata": {},
   "outputs": [
    {
     "name": "stdout",
     "output_type": "stream",
     "text": [
      "[(102574, 12), (102574, 23)]\n"
     ]
    }
   ],
   "source": [
    "cca = pd.read_csv('../data/cca12_feat.csv').to_numpy()\n",
    "mofa = pd.read_csv('../data/mofa_fc23.csv').to_numpy()\n",
    "print([cca.shape, mofa.shape])"
   ]
  },
  {
   "cell_type": "code",
   "execution_count": 4,
   "id": "17859644",
   "metadata": {},
   "outputs": [],
   "source": [
    "# define modularity score\n",
    "\n",
    "import leidenalg\n",
    "import igraph as ig\n",
    "\n",
    "def get_modularity(n,edges, seed = 42, resolution = 1):\n",
    "    \n",
    "    g = ig.Graph(directed=True)\n",
    "    g.add_vertices(n)\n",
    "    g.add_edges(list(zip(edges[0], edges[1])))\n",
    "    g.es['weight'] = tuple(edges[2])\n",
    "    partition_kwargs = {'n_iterations': -1, 'seed': seed,\n",
    "                    'resolution_parameter': resolution}\n",
    "    partition_kwargs['weights'] = np.array(g.es['weight']).astype(np.float64)\n",
    "    partition_type = leidenalg.RBConfigurationVertexPartition\n",
    "    curr_part = leidenalg.find_partition(\n",
    "                graph=g, partition_type=partition_type,\n",
    "                **partition_kwargs\n",
    "            )\n",
    "    curr_modularity = curr_part.modularity\n",
    "    \n",
    "    return curr_modularity"
   ]
  },
  {
   "cell_type": "code",
   "execution_count": 5,
   "id": "dfca5fe1",
   "metadata": {},
   "outputs": [
    {
     "name": "stdout",
     "output_type": "stream",
     "text": [
      "at 0\n",
      "at 1\n",
      "at 2\n",
      "at 3\n",
      "at 4\n"
     ]
    }
   ],
   "source": [
    "# for loop start:\n",
    "batch = 5\n",
    "dflist = []\n",
    "for i in range(batch):\n",
    "    print('at', i)\n",
    "    \n",
    "    indices = np.random.choice(cca.shape[0], 10000, replace=False)\n",
    "    \n",
    "    cca_sub = cca[indices]\n",
    "    mofa_sub = mofa[indices]\n",
    "    \n",
    "    ##### calculate umap\n",
    "    \n",
    "    # start to calculate silhoutte score\n",
    "    cca_ss_list = []\n",
    "    mofa_ss_list = []\n",
    "    \n",
    "    ## feature edges\n",
    "    cca_edges = graph.get_feature_edges(\n",
    "            arr=cca_sub, pca_components=None,\n",
    "            n_neighbors=15, metric='correlation', verbose=False\n",
    "    )\n",
    "\n",
    "    ## snap\n",
    "    mofa_edges = graph.get_feature_edges(\n",
    "            arr=mofa_sub, pca_components=None,\n",
    "            n_neighbors=15, metric='correlation', verbose=False\n",
    "    )\n",
    "\n",
    "\n",
    "    res_list = [round(x, 2) for x in np.arange (0.4, 2.6, 0.2)]\n",
    "    for res in res_list:\n",
    "        \n",
    "        cca_ss = get_modularity(cca_sub.shape[0], cca_edges, resolution = res)\n",
    "        mofa_ss = get_modularity(mofa_sub.shape[0], mofa_edges, resolution = res)\n",
    "        \n",
    "        cca_ss_list.append(cca_ss)\n",
    "        mofa_ss_list.append(mofa_ss)\n",
    "        \n",
    "    data = {'res':res_list, 'ch_cca':cca_ss_list,\n",
    "            'ch_mofa':mofa_ss_list}\n",
    "    \n",
    "    df = pd.DataFrame(data)\n",
    "    df['batch'] = i\n",
    "    dflist.append(df)\n",
    "    \n",
    "test = pd.concat(dflist)\n",
    "test2 = test.melt(id_vars=['res'], value_vars=['ch_cca', 'ch_mofa'])\n",
    "test2.to_csv('../data/Mod_result_tonsil_ccamofa.csv')\n"
   ]
  },
  {
   "cell_type": "code",
   "execution_count": null,
   "id": "43d783ae",
   "metadata": {},
   "outputs": [],
   "source": []
  },
  {
   "cell_type": "code",
   "execution_count": null,
   "id": "30811ae6",
   "metadata": {},
   "outputs": [],
   "source": []
  },
  {
   "cell_type": "code",
   "execution_count": 2,
   "id": "b4ed562b",
   "metadata": {},
   "outputs": [],
   "source": [
    "# define modularity score\n",
    "\n",
    "import leidenalg\n",
    "import igraph as ig\n",
    "\n",
    "def get_modularity(n,edges, seed = 42, resolution = 1):\n",
    "    \n",
    "    g = ig.Graph(directed=True)\n",
    "    g.add_vertices(n)\n",
    "    g.add_edges(list(zip(edges[0], edges[1])))\n",
    "    g.es['weight'] = tuple(edges[2])\n",
    "    partition_kwargs = {'n_iterations': -1, 'seed': seed,\n",
    "                    'resolution_parameter': resolution}\n",
    "    partition_kwargs['weights'] = np.array(g.es['weight']).astype(np.float64)\n",
    "    partition_type = leidenalg.RBConfigurationVertexPartition\n",
    "    curr_part = leidenalg.find_partition(\n",
    "                graph=g, partition_type=partition_type,\n",
    "                **partition_kwargs\n",
    "            )\n",
    "    curr_modularity = curr_part.modularity\n",
    "    \n",
    "    return curr_modularity"
   ]
  },
  {
   "cell_type": "code",
   "execution_count": 3,
   "id": "338c225c",
   "metadata": {},
   "outputs": [
    {
     "name": "stdout",
     "output_type": "stream",
     "text": [
      "[(102574, 32), (102574, 47), (102574, 63), (102574, 25), (10000, 30)]\n"
     ]
    }
   ],
   "source": [
    "# read in files\n",
    "snap_embed = np.load(\"../data/double_snap_combo_stable_binVer_0325.npy\")\n",
    "features = np.load(\"../data/other_methods/features.npy\")\n",
    "concact_embed = np.load(\"../data/other_methods/concat_embedding.npy\")\n",
    "spice_embed = np.load(\"../data/other_methods/spicemix_embedding.npy\")\n",
    "\n",
    "##### load in muse 0-4 batch results\n",
    "muse_embed0 = np.load(\"../data/other_methods/muse_final_tonsil_rdm10k_0.npy\")\n",
    "muse_embed1 = np.load(\"../data/other_methods/muse_final_tonsil_rdm10k_1.npy\")\n",
    "muse_embed2 = np.load(\"../data/other_methods/muse_final_tonsil_rdm10k_2.npy\")\n",
    "muse_embed3 = np.load(\"../data/other_methods/muse_final_tonsil_rdm10k_3.npy\")\n",
    "muse_embed4 = np.load(\"../data/other_methods/muse_final_tonsil_rdm10k_4.npy\")\n",
    "muse_embedll = [muse_embed0, muse_embed1, muse_embed2, muse_embed3, muse_embed4]\n",
    "\n",
    "print([snap_embed.shape, features.shape, concact_embed.shape,\n",
    "      spice_embed.shape, muse_embed0.shape])"
   ]
  },
  {
   "cell_type": "code",
   "execution_count": 4,
   "id": "bc0c832b",
   "metadata": {},
   "outputs": [
    {
     "name": "stdout",
     "output_type": "stream",
     "text": [
      "at 0\n",
      "at 1\n",
      "at 2\n",
      "at 3\n",
      "at 4\n"
     ]
    }
   ],
   "source": [
    "# for loop start:\n",
    "batch = 5\n",
    "dflist = []\n",
    "for i in range(batch):\n",
    "    print('at', i)\n",
    "    \n",
    "    indices = np.random.choice(snap_embed.shape[0], 10000, replace=False)\n",
    "    \n",
    "    snap_embed_sub = snap_embed[indices]\n",
    "    features_sub = features[indices]\n",
    "    concact_embed_sub = concact_embed[indices]\n",
    "    spice_embed_sub = spice_embed[indices]\n",
    "    muse_embed_sub = muse_embedll[i]\n",
    "    \n",
    "    ##### calculate umap\n",
    "    \n",
    "    # start to calculate silhoutte score\n",
    "    feature_ss_list = []\n",
    "    snap_ss_list = []\n",
    "    concact_ss_list = []\n",
    "    spice_ss_list = []\n",
    "    muse_ss_list = []\n",
    "    \n",
    "    ## feature edges\n",
    "    feature_edges = graph.get_feature_edges(\n",
    "        arr=features_sub, pca_components=None,\n",
    "        n_neighbors=15, metric='correlation', verbose=False\n",
    "    )\n",
    "\n",
    "    ## snap\n",
    "    snap_edges = graph.get_feature_edges(\n",
    "        arr=snap_embed_sub, pca_components=None,\n",
    "        n_neighbors=15, metric='correlation', verbose=False\n",
    "    )\n",
    "\n",
    "    ## concact \n",
    "    concact_edges = graph.get_feature_edges(\n",
    "        arr=concact_embed_sub, pca_components=None,\n",
    "        n_neighbors=15, metric='correlation', verbose=False\n",
    "    )\n",
    "\n",
    "    ## muse \n",
    "    muse_edges = graph.get_feature_edges(\n",
    "        arr=muse_embed_sub, pca_components=None,\n",
    "        n_neighbors=15, metric='correlation', verbose=False\n",
    "    )\n",
    "\n",
    "    ## spice \n",
    "    spice_edges = graph.get_feature_edges(\n",
    "        arr=spice_embed_sub, pca_components=None,\n",
    "        n_neighbors=15, metric='correlation', verbose=False\n",
    "    )\n",
    "\n",
    "    res_list = [round(x, 2) for x in np.arange (0.4, 2.6, 0.2)]\n",
    "    for res in res_list:\n",
    "        \n",
    "        feature_ss = get_modularity(features_sub.shape[0], feature_edges, resolution = res)\n",
    "        snap_ss = get_modularity(snap_embed_sub.shape[0], snap_edges, resolution = res)\n",
    "        concact_ss = get_modularity(concact_embed_sub.shape[0], concact_edges, resolution = res)\n",
    "        spice_ss = get_modularity(spice_embed_sub.shape[0], spice_edges, resolution = res)\n",
    "        muse_ss = get_modularity(muse_embed_sub.shape[0], muse_edges, resolution = res)\n",
    "        \n",
    "        feature_ss_list.append(feature_ss)\n",
    "        snap_ss_list.append(snap_ss)\n",
    "        concact_ss_list.append(concact_ss)\n",
    "        spice_ss_list.append(spice_ss)\n",
    "        muse_ss_list.append(muse_ss)\n",
    "        \n",
    "    data = {'res':res_list, 'ch_feature':feature_ss_list,\n",
    "            'ch_snap':snap_ss_list,'ch_concact':concact_ss_list,\n",
    "           'ch_spice':spice_ss_list, 'ch_muse':muse_ss_list}\n",
    "    \n",
    "    df = pd.DataFrame(data)\n",
    "    df['batch'] = i\n",
    "    dflist.append(df)\n",
    "    \n"
   ]
  },
  {
   "cell_type": "code",
   "execution_count": 5,
   "id": "902d6dd2",
   "metadata": {},
   "outputs": [
    {
     "name": "stderr",
     "output_type": "stream",
     "text": [
      "/home/bokai/miniconda3/envs/cellsnap/lib/python3.10/site-packages/seaborn/_oldcore.py:1119: FutureWarning: use_inf_as_na option is deprecated and will be removed in a future version. Convert inf values to NaN before operating instead.\n",
      "  with pd.option_context('mode.use_inf_as_na', True):\n",
      "/home/bokai/miniconda3/envs/cellsnap/lib/python3.10/site-packages/seaborn/_oldcore.py:1119: FutureWarning: use_inf_as_na option is deprecated and will be removed in a future version. Convert inf values to NaN before operating instead.\n",
      "  with pd.option_context('mode.use_inf_as_na', True):\n",
      "/home/bokai/miniconda3/envs/cellsnap/lib/python3.10/site-packages/seaborn/_oldcore.py:1119: FutureWarning: use_inf_as_na option is deprecated and will be removed in a future version. Convert inf values to NaN before operating instead.\n",
      "  with pd.option_context('mode.use_inf_as_na', True):\n",
      "/home/bokai/miniconda3/envs/cellsnap/lib/python3.10/site-packages/seaborn/_oldcore.py:1119: FutureWarning: use_inf_as_na option is deprecated and will be removed in a future version. Convert inf values to NaN before operating instead.\n",
      "  with pd.option_context('mode.use_inf_as_na', True):\n"
     ]
    },
    {
     "data": {
      "image/png": "[encoded data removed]",
      "text/plain": [
       "<Figure size 640x480 with 1 Axes>"
      ]
     },
     "metadata": {},
     "output_type": "display_data"
    }
   ],
   "source": [
    "test = pd.concat(dflist)\n",
    "test2 = test.melt(id_vars=['res'], value_vars=['ch_feature', 'ch_snap', 'ch_concact', 'ch_spice', 'ch_muse'])\n",
    "test2.to_csv('../data/MOD_result_tonsil_0325.csv')\n",
    "\n",
    "\n",
    "test = pd.concat(dflist)\n",
    "test2 = test.melt(id_vars=['res'], value_vars=['ch_feature', 'ch_snap', 'ch_concact', 'ch_spice', 'ch_muse'])\n",
    "sns.lineplot(data=test2,x=\"res\", y=\"value\", hue=\"variable\")\n",
    "plot = sns.lineplot(data=test2,x=\"res\", y=\"value\", hue=\"variable\")\n",
    "fig = plot.get_figure()\n",
    "#fig.savefig('../plots/Mod_allmethods_v2.svg', dpi = 300) "
   ]
  },
  {
   "cell_type": "code",
   "execution_count": null,
   "id": "501c03cf",
   "metadata": {},
   "outputs": [],
   "source": []
  },
  {
   "cell_type": "code",
   "execution_count": null,
   "id": "45d58fc3",
   "metadata": {},
   "outputs": [],
   "source": []
  },
  {
   "cell_type": "code",
   "execution_count": null,
   "id": "fb36269a",
   "metadata": {},
   "outputs": [],
   "source": []
  },
  {
   "cell_type": "code",
   "execution_count": null,
   "id": "185d5b95",
   "metadata": {},
   "outputs": [],
   "source": []
  },
  {
   "cell_type": "code",
   "execution_count": null,
   "id": "149b1add",
   "metadata": {},
   "outputs": [],
   "source": []
  },
  {
   "cell_type": "code",
   "execution_count": null,
   "id": "d6d4aab4",
   "metadata": {},
   "outputs": [],
   "source": []
  },
  {
   "cell_type": "code",
   "execution_count": 9,
   "id": "1aebe7c1",
   "metadata": {},
   "outputs": [
    {
     "data": {
      "image/png": "[encoded data removed]",
      "text/plain": [
       "<Figure size 432x288 with 1 Axes>"
      ]
     },
     "metadata": {
      "needs_background": "light"
     },
     "output_type": "display_data"
    }
   ],
   "source": [
    "plot = sns.lineplot(data=test2,x=\"res\", y=\"value\", hue=\"variable\")\n",
    "fig = plot.get_figure()\n",
    "fig.savefig('../plots/Modularity.svg', dpi = 300) "
   ]
  },
  {
   "cell_type": "markdown",
   "id": "b4238771",
   "metadata": {},
   "source": [
    "## without gnn version"
   ]
  },
  {
   "cell_type": "code",
   "execution_count": 10,
   "id": "c3c63917",
   "metadata": {},
   "outputs": [
    {
     "data": {
      "image/png": "[encoded data removed]",
      "text/plain": [
       "<Figure size 432x288 with 1 Axes>"
      ]
     },
     "metadata": {
      "needs_background": "light"
     },
     "output_type": "display_data"
    }
   ],
   "source": [
    "test = pd.concat(dflist)\n",
    "test2 = test.melt(id_vars=['res'], value_vars=['md_feature', 'md_conv'])\n",
    "\n",
    "plot = sns.lineplot(data=test2,x=\"res\", y=\"value\", hue=\"variable\")\n",
    "fig = plot.get_figure()\n",
    "fig.savefig('../plots/Modularity_wo_gnn.svg', dpi = 300) "
   ]
  },
  {
   "cell_type": "code",
   "execution_count": null,
   "id": "b21c60d6",
   "metadata": {},
   "outputs": [],
   "source": []
  }
 ],
 "metadata": {
  "kernelspec": {
   "display_name": "cellsnap",
   "language": "python",
   "name": "python3"
  },
  "language_info": {
   "codemirror_mode": {
    "name": "ipython",
    "version": 3
   },
   "file_extension": ".py",
   "mimetype": "text/x-python",
   "name": "python",
   "nbconvert_exporter": "python",
   "pygments_lexer": "ipython3",
   "version": "3.9.20"
  }
 },
 "nbformat": 4,
 "nbformat_minor": 5
}
