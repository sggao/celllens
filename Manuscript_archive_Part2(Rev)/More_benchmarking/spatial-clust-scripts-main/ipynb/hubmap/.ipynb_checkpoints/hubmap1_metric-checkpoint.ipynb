{
 "cells": [
  {
   "cell_type": "code",
   "execution_count": 1,
   "id": "b76cb258",
   "metadata": {},
   "outputs": [],
   "source": [
    "import pandas as pd\n",
    "import numpy as np\n",
    "import matplotlib.pyplot as plt\n",
    "import seaborn as sns\n",
    "import sys\n",
    "import anndata as ad \n",
    "import scanpy as sc\n",
    "sys.path.append(\"../../\")\n",
    "import utils\n",
    "from sklearn.decomposition import PCA\n",
    "import umap\n",
    "import graph\n",
    "import visualize"
   ]
  },
  {
   "cell_type": "code",
   "execution_count": 9,
   "id": "b1e1f75d",
   "metadata": {},
   "outputs": [],
   "source": [
    "## read in all the stuff\n",
    "\n",
    "cnngnn_embed = np.load(\"/home/bkzhu/spatial_clustering/phase3/spatial-clust-scripts-main/data/hubmap/Embedding_train01/B009_Duodenum/gnncnn_embedding_epoch500_l2.npy\")\n",
    "train_mask = np.load(\"/home/bkzhu/spatial_clustering/phase3/spatial-clust-scripts-main/data/hubmap/Embedding_train01/B009_Duodenum/train_mask.npy\")\n",
    "df = pd.read_csv('/home/bkzhu/spatial_clustering/phase2/data/hubmap/B009A.csv', index_col=0)\n",
    "df = df.loc[df[\"Tissue_location\"] == \"Duodenum\",:]\n",
    "gnn_embed = np.load('/home/bkzhu/spatial_clustering/phase3/spatial-clust-scripts-main/data/hubmap/Embedding_train01/B009_Duodenum/gnn_embedding.npy')"
   ]
  },
  {
   "cell_type": "code",
   "execution_count": 13,
   "id": "ea832bdb",
   "metadata": {},
   "outputs": [
    {
     "data": {
      "text/plain": [
       "Index(['MUC2', 'SOX9', 'MUC1', 'CD31', 'Synapto', 'CD49f', 'CD15', 'CHGA',\n",
       "       'CDX2', 'ITLN1', 'CD4', 'CD127', 'Vimentin', 'HLADR', 'CD8', 'CD11c',\n",
       "       'CD44', 'CD16', 'BCL2', 'CD3', 'CD123', 'CD38', 'CD90', 'aSMA', 'CD21',\n",
       "       'NKG2D', 'CD66', 'CD57', 'CD206', 'CD68', 'CD34', 'aDef5', 'CD7',\n",
       "       'CD36', 'CD138', 'CD45RO', 'Cytokeratin', 'CD117', 'CD19', 'Podoplanin',\n",
       "       'CD45', 'CD56', 'CD69', 'Ki67', 'CD49a', 'CD163', 'CD161'],\n",
       "      dtype='object')"
      ]
     },
     "execution_count": 13,
     "metadata": {},
     "output_type": "execute_result"
    }
   ],
   "source": [
    "df.columns[1:48]"
   ]
  },
  {
   "cell_type": "code",
   "execution_count": null,
   "id": "68b02b7d",
   "metadata": {},
   "outputs": [],
   "source": [
    "# get train masked cells\n",
    "cnngnn_embed_sub = cnngnn_embed[train_mask,:]\n",
    "features_sub = df.iloc[train_mask,1:48].to_numpy()\n",
    "gnn_embed_sub = gnn_embed[train_mask,:]\n",
    "\n",
    "# then we get 10k sub set cells for testing\n",
    "indices = np.random.choice(cnngnn_embed_sub.shape[0], 10000, replace=False)\n",
    "cnngnn_embed_sub = cnngnn_embed_sub[indices]\n",
    "features_sub = features_sub[indices]\n",
    "gnn_embed_sub = gnn_embed_sub[indices]"
   ]
  }
 ],
 "metadata": {
  "kernelspec": {
   "display_name": "Python 3 (ipykernel)",
   "language": "python",
   "name": "python3"
  },
  "language_info": {
   "codemirror_mode": {
    "name": "ipython",
    "version": 3
   },
   "file_extension": ".py",
   "mimetype": "text/x-python",
   "name": "python",
   "nbconvert_exporter": "python",
   "pygments_lexer": "ipython3",
   "version": "3.8.12"
  }
 },
 "nbformat": 4,
 "nbformat_minor": 5
}
