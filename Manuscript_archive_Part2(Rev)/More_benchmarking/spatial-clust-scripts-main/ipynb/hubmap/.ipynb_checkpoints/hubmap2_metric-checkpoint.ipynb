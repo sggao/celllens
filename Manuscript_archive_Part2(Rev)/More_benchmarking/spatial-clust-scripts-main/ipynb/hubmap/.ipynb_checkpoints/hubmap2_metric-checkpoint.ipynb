{
 "cells": [
  {
   "cell_type": "code",
   "execution_count": 2,
   "id": "bef7c65f",
   "metadata": {},
   "outputs": [],
   "source": [
    "import pandas as pd\n",
    "import numpy as np\n",
    "import matplotlib.pyplot as plt\n",
    "import seaborn as sns\n",
    "import sys\n",
    "import anndata as ad \n",
    "import scanpy as sc\n",
    "sys.path.append(\"../../\")\n",
    "import utils\n",
    "from sklearn.decomposition import PCA\n",
    "import umap\n",
    "import graph\n",
    "import visualize"
   ]
  },
  {
   "cell_type": "code",
   "execution_count": 9,
   "id": "950006d3",
   "metadata": {},
   "outputs": [],
   "source": [
    "## read in all the stuff\n",
    "\n",
    "cnngnn_embed = np.load(\"/home/bkzhu/spatial_clustering/phase3/spatial-clust-scripts-main/data/hubmap/Embedding_train01/B009_Right/gnncnn_embedding_epoch500_l2.npy\")\n",
    "train_mask = np.load(\"/home/bkzhu/spatial_clustering/phase3/spatial-clust-scripts-main/data/hubmap/Embedding_train01/B009_Right/train_mask.npy\")\n",
    "df = pd.read_csv('/home/bkzhu/spatial_clustering/phase2/data/hubmap/B009A.csv', index_col=0)\n",
    "df = df.loc[df[\"unique_region\"] == \"B009_Right\",:]\n",
    "gnn_embed = np.load('/home/bkzhu/spatial_clustering/phase3/spatial-clust-scripts-main/data/hubmap/Embedding_train01/B009_Right/gnn_embedding.npy')\n"
   ]
  },
  {
   "cell_type": "code",
   "execution_count": 8,
   "id": "5f9e2e1c",
   "metadata": {},
   "outputs": [
    {
     "data": {
      "text/plain": [
       "B009_Right               58349\n",
       "B009_Proximal jejunum    48517\n",
       "B009_Duodenum            43092\n",
       "B009_Trans               34642\n",
       "Name: unique_region, dtype: int64"
      ]
     },
     "execution_count": 8,
     "metadata": {},
     "output_type": "execute_result"
    }
   ],
   "source": [
    "df[\"unique_region\"].value_counts()"
   ]
  },
  {
   "cell_type": "code",
   "execution_count": 10,
   "id": "3627df38",
   "metadata": {},
   "outputs": [
    {
     "data": {
      "text/plain": [
       "Index(['MUC2', 'SOX9', 'MUC1', 'CD31', 'Synapto', 'CD49f', 'CD15', 'CHGA',\n",
       "       'CDX2', 'ITLN1', 'CD4', 'CD127', 'Vimentin', 'HLADR', 'CD8', 'CD11c',\n",
       "       'CD44', 'CD16', 'BCL2', 'CD3', 'CD123', 'CD38', 'CD90', 'aSMA', 'CD21',\n",
       "       'NKG2D', 'CD66', 'CD57', 'CD206', 'CD68', 'CD34', 'aDef5', 'CD7',\n",
       "       'CD36', 'CD138', 'CD45RO', 'Cytokeratin', 'CD117', 'CD19', 'Podoplanin',\n",
       "       'CD45', 'CD56', 'CD69', 'Ki67', 'CD49a', 'CD163', 'CD161'],\n",
       "      dtype='object')"
      ]
     },
     "execution_count": 10,
     "metadata": {},
     "output_type": "execute_result"
    }
   ],
   "source": [
    "df.columns[1:48]"
   ]
  },
  {
   "cell_type": "code",
   "execution_count": 11,
   "id": "30801d7a",
   "metadata": {},
   "outputs": [],
   "source": [
    "# get train masked cells\n",
    "cnngnn_embed_sub = cnngnn_embed[train_mask,:]\n",
    "features_sub = df.iloc[train_mask,1:48].to_numpy()\n",
    "gnn_embed_sub = gnn_embed[train_mask,:]\n",
    "\n",
    "# then we get 10k sub set cells for testing\n",
    "indices = np.random.choice(cnngnn_embed_sub.shape[0], 10000, replace=False)\n",
    "cnngnn_embed_sub = cnngnn_embed_sub[indices]\n",
    "features_sub = features_sub[indices]\n",
    "gnn_embed_sub = gnn_embed_sub[indices]"
   ]
  },
  {
   "cell_type": "code",
   "execution_count": null,
   "id": "2d20768f",
   "metadata": {},
   "outputs": [],
   "source": [
    "# protein only\n",
    "\n",
    "features = features_sub\n",
    "features_after_pca = features # for consistency, no pca done\n",
    "umap_fit = umap.UMAP(random_state=42)\n",
    "umap_embed_feature = umap_fit.fit_transform(features_after_pca)\n",
    "\n",
    "# plot out\n",
    "umap_embed_feature_df = pd.DataFrame(umap_embed_feature, columns = ['umap1', 'umap2'])\n",
    "#umap_embed_feature_df['type'] = df['cluster.term'].values[indices]\n",
    "#sns.scatterplot(data=umap_embed_feature_df, x='umap1', y='umap2', hue='type', s=1)\n",
    "sns.scatterplot(data=umap_embed_feature_df, x='umap1', y='umap2', s=1)\n",
    "plt.legend(bbox_to_anchor=(1.05, 1), loc=2, borderaxespad=0.)"
   ]
  },
  {
   "cell_type": "code",
   "execution_count": null,
   "id": "a3187dce",
   "metadata": {},
   "outputs": [],
   "source": [
    "# vanilla gnn\n",
    "\n",
    "gnn_after_pca = gnn_embed_sub\n",
    "umap_fit = umap.UMAP(random_state=42)\n",
    "umap_embed_gnn = umap_fit.fit_transform(gnn_after_pca)\n",
    "\n",
    "# plot out\n",
    "umap_embed_gnn_df = pd.DataFrame(umap_embed_gnn, columns = ['umap1', 'umap2'])\n",
    "#umap_embed_gnn_df['type'] = df['cluster.term'].values[indices]\n",
    "#sns.scatterplot(data=umap_embed_gnn_df, x='umap1', y='umap2', hue='type', s=1)\n",
    "sns.scatterplot(data=umap_embed_gnn_df, x='umap1', y='umap2', s=1)\n",
    "plt.legend(bbox_to_anchor=(1.05, 1), loc=2, borderaxespad=0.)"
   ]
  },
  {
   "cell_type": "code",
   "execution_count": null,
   "id": "28c35ab0",
   "metadata": {},
   "outputs": [],
   "source": [
    "# convgnn\n",
    "\n",
    "convgnn_after_pca = cnngnn_embed_sub\n",
    "umap_fit = umap.UMAP(random_state=42)\n",
    "umap_embed_convgnn = umap_fit.fit_transform(convgnn_after_pca)\n",
    "\n",
    "# plot out\n",
    "umap_embed_convgnn_df = pd.DataFrame(umap_embed_convgnn, columns = ['umap1', 'umap2'])\n",
    "#umap_embed_convgnn_df['type'] = df['cluster.term'].values[indices]\n",
    "#sns.scatterplot(data=umap_embed_convgnn_df, x='umap1', y='umap2', hue='type', s=1)\n",
    "sns.scatterplot(data=umap_embed_convgnn_df, x='umap1', y='umap2', s=1)\n",
    "plt.legend(bbox_to_anchor=(1.05, 1), loc=2, borderaxespad=0.)"
   ]
  },
  {
   "cell_type": "code",
   "execution_count": 18,
   "id": "ee62d135",
   "metadata": {},
   "outputs": [],
   "source": [
    "import sklearn.metrics\n",
    "\n",
    "feature_ss_list = []\n",
    "gnn_ss_list = []\n",
    "covgnn_ss_list = []\n",
    "k_clusters = [x for x in range(10,35,2)]\n",
    "\n",
    "for k in k_clusters:\n",
    "    \n",
    "    ## feature only\n",
    "    feature_edges = graph.get_feature_edges(\n",
    "        arr=features_sub, pca_components=None,\n",
    "        n_neighbors=15, metric='correlation', verbose=False\n",
    "    )\n",
    "    feature_labels = graph.graph_clustering(\n",
    "        features_sub.shape[0], feature_edges, resolution=None, n_clusters=k, n_runs=1,\n",
    "        resolution_tol=0.05, seed=None, verbose=False\n",
    "    )\n",
    "    \n",
    "    ## gnn only\n",
    "    feature_edges_gnn = graph.get_feature_edges(\n",
    "        arr=gnn_embed_sub, pca_components=None,\n",
    "        n_neighbors=15, metric='correlation', verbose=False\n",
    "    )\n",
    "    feature_labels_gnn = graph.graph_clustering(\n",
    "        gnn_embed_sub.shape[0], feature_edges_gnn, resolution=None, n_clusters=k, n_runs=1,\n",
    "        resolution_tol=0.05, seed=None, verbose=False\n",
    "    )\n",
    "    \n",
    "    ## convGNN \n",
    "    feature_edges_conv = graph.get_feature_edges(\n",
    "        arr=cnngnn_embed_sub, pca_components=None,\n",
    "        n_neighbors=15, metric='correlation', verbose=False\n",
    "    )\n",
    "    feature_labels_conv = graph.graph_clustering(\n",
    "        cnngnn_embed_sub.shape[0], feature_edges_conv, resolution=None, n_clusters=k, n_runs=1,\n",
    "        resolution_tol=0.05, seed=None, verbose=False\n",
    "    )\n",
    "    \n",
    "    feature_ss = sklearn.metrics.silhouette_score(umap_embed_feature, feature_labels)\n",
    "    gnn_ss = sklearn.metrics.silhouette_score(umap_embed_gnn, feature_labels_gnn)\n",
    "    covgnn_ss = sklearn.metrics.silhouette_score(umap_embed_convgnn, feature_labels_conv)\n",
    "    \n",
    "    feature_ss_list.append(feature_ss)\n",
    "    gnn_ss_list.append(gnn_ss)\n",
    "    covgnn_ss_list.append(covgnn_ss)\n",
    "    "
   ]
  },
  {
   "cell_type": "code",
   "execution_count": 19,
   "id": "b7f9f613",
   "metadata": {},
   "outputs": [
    {
     "data": {
      "text/plain": [
       "<matplotlib.axes._subplots.AxesSubplot at 0x7f1fa0d9a8e0>"
      ]
     },
     "execution_count": 19,
     "metadata": {},
     "output_type": "execute_result"
    },
    {
     "data": {
      "image/png": "[encoded data removed]",
      "text/plain": [
       "<Figure size 432x288 with 1 Axes>"
      ]
     },
     "metadata": {
      "needs_background": "light"
     },
     "output_type": "display_data"
    }
   ],
   "source": [
    "data = {'k':k_clusters, 'ss_feature':feature_ss_list, 'ss_gnn':gnn_ss_list,'ss_conv':covgnn_ss_list}\n",
    "#data = {'k':k_clusters, 'ss_feature':feature_ss_list, 'ss_gnn':gnn_ss_list}\n",
    "\n",
    "df = pd.DataFrame(data)\n",
    "df = df.set_index('k')\n",
    "\n",
    "sns.lineplot(data=df)"
   ]
  },
  {
   "cell_type": "code",
   "execution_count": 20,
   "id": "0b4b4846",
   "metadata": {},
   "outputs": [],
   "source": [
    "import leidenalg\n",
    "import igraph as ig\n",
    "\n",
    "def get_modularity(n,edges, seed = 42, resolution = 1):\n",
    "    \n",
    "    g = ig.Graph(directed=True)\n",
    "    g.add_vertices(n)\n",
    "    g.add_edges(list(zip(edges[0], edges[1])))\n",
    "    g.es['weight'] = tuple(edges[2])\n",
    "    partition_kwargs = {'n_iterations': -1, 'seed': seed,\n",
    "                    'resolution_parameter': resolution}\n",
    "    partition_kwargs['weights'] = np.array(g.es['weight']).astype(np.float64)\n",
    "    partition_type = leidenalg.RBConfigurationVertexPartition\n",
    "    curr_part = leidenalg.find_partition(\n",
    "                graph=g, partition_type=partition_type,\n",
    "                **partition_kwargs\n",
    "            )\n",
    "    curr_modularity = curr_part.modularity\n",
    "    \n",
    "    return curr_modularity"
   ]
  },
  {
   "cell_type": "code",
   "execution_count": 21,
   "id": "06083c4f",
   "metadata": {},
   "outputs": [],
   "source": [
    "feature_md_list = []\n",
    "gnn_md_list = []\n",
    "covgnn_md_list = []\n",
    "res_list = [round(x, 2) for x in np.arange (0.1, 2.5, 0.2)]\n",
    "\n",
    "for res in res_list:\n",
    "    \n",
    "    feature_md = get_modularity(features_sub.shape[0], feature_edges, resolution = res)\n",
    "    gnn_md = get_modularity(features_sub.shape[0], feature_edges_gnn, resolution = res)\n",
    "    covgnn_md = get_modularity(features_sub.shape[0], feature_edges_conv, resolution = res)\n",
    "\n",
    "    feature_md_list.append(feature_md)\n",
    "    gnn_md_list.append(gnn_md)\n",
    "    covgnn_md_list.append(covgnn_md)\n",
    "    "
   ]
  },
  {
   "cell_type": "code",
   "execution_count": 22,
   "id": "a50b1c66",
   "metadata": {},
   "outputs": [
    {
     "data": {
      "text/html": [
       "<div>\n",
       "<style scoped>\n",
       "    .dataframe tbody tr th:only-of-type {\n",
       "        vertical-align: middle;\n",
       "    }\n",
       "\n",
       "    .dataframe tbody tr th {\n",
       "        vertical-align: top;\n",
       "    }\n",
       "\n",
       "    .dataframe thead th {\n",
       "        text-align: right;\n",
       "    }\n",
       "</style>\n",
       "<table border=\"1\" class=\"dataframe\">\n",
       "  <thead>\n",
       "    <tr style=\"text-align: right;\">\n",
       "      <th></th>\n",
       "      <th>md_feature</th>\n",
       "      <th>md_gnn</th>\n",
       "      <th>md_conv</th>\n",
       "    </tr>\n",
       "    <tr>\n",
       "      <th>res</th>\n",
       "      <th></th>\n",
       "      <th></th>\n",
       "      <th></th>\n",
       "    </tr>\n",
       "  </thead>\n",
       "  <tbody>\n",
       "    <tr>\n",
       "      <th>0.1</th>\n",
       "      <td>0.738638</td>\n",
       "      <td>0.768120</td>\n",
       "      <td>0.715087</td>\n",
       "    </tr>\n",
       "    <tr>\n",
       "      <th>0.3</th>\n",
       "      <td>0.843004</td>\n",
       "      <td>0.840623</td>\n",
       "      <td>0.810193</td>\n",
       "    </tr>\n",
       "    <tr>\n",
       "      <th>0.5</th>\n",
       "      <td>0.855542</td>\n",
       "      <td>0.849393</td>\n",
       "      <td>0.826945</td>\n",
       "    </tr>\n",
       "    <tr>\n",
       "      <th>0.7</th>\n",
       "      <td>0.853958</td>\n",
       "      <td>0.859960</td>\n",
       "      <td>0.836233</td>\n",
       "    </tr>\n",
       "    <tr>\n",
       "      <th>0.9</th>\n",
       "      <td>0.855327</td>\n",
       "      <td>0.858385</td>\n",
       "      <td>0.835372</td>\n",
       "    </tr>\n",
       "    <tr>\n",
       "      <th>1.1</th>\n",
       "      <td>0.853568</td>\n",
       "      <td>0.855862</td>\n",
       "      <td>0.834082</td>\n",
       "    </tr>\n",
       "    <tr>\n",
       "      <th>1.3</th>\n",
       "      <td>0.848563</td>\n",
       "      <td>0.851627</td>\n",
       "      <td>0.829171</td>\n",
       "    </tr>\n",
       "    <tr>\n",
       "      <th>1.5</th>\n",
       "      <td>0.842145</td>\n",
       "      <td>0.848408</td>\n",
       "      <td>0.826580</td>\n",
       "    </tr>\n",
       "    <tr>\n",
       "      <th>1.7</th>\n",
       "      <td>0.843364</td>\n",
       "      <td>0.843488</td>\n",
       "      <td>0.822354</td>\n",
       "    </tr>\n",
       "    <tr>\n",
       "      <th>1.9</th>\n",
       "      <td>0.841023</td>\n",
       "      <td>0.838657</td>\n",
       "      <td>0.815899</td>\n",
       "    </tr>\n",
       "    <tr>\n",
       "      <th>2.1</th>\n",
       "      <td>0.826662</td>\n",
       "      <td>0.835993</td>\n",
       "      <td>0.810613</td>\n",
       "    </tr>\n",
       "    <tr>\n",
       "      <th>2.3</th>\n",
       "      <td>0.828487</td>\n",
       "      <td>0.828335</td>\n",
       "      <td>0.810788</td>\n",
       "    </tr>\n",
       "  </tbody>\n",
       "</table>\n",
       "</div>"
      ],
      "text/plain": [
       "     md_feature    md_gnn   md_conv\n",
       "res                                \n",
       "0.1    0.738638  0.768120  0.715087\n",
       "0.3    0.843004  0.840623  0.810193\n",
       "0.5    0.855542  0.849393  0.826945\n",
       "0.7    0.853958  0.859960  0.836233\n",
       "0.9    0.855327  0.858385  0.835372\n",
       "1.1    0.853568  0.855862  0.834082\n",
       "1.3    0.848563  0.851627  0.829171\n",
       "1.5    0.842145  0.848408  0.826580\n",
       "1.7    0.843364  0.843488  0.822354\n",
       "1.9    0.841023  0.838657  0.815899\n",
       "2.1    0.826662  0.835993  0.810613\n",
       "2.3    0.828487  0.828335  0.810788"
      ]
     },
     "execution_count": 22,
     "metadata": {},
     "output_type": "execute_result"
    }
   ],
   "source": [
    "data2 = {'res':res_list, 'md_feature':feature_md_list, 'md_gnn':gnn_md_list,'md_conv':covgnn_md_list}\n",
    "#data2 = {'res':res_list, 'md_feature':feature_md_list, 'md_gnn':gnn_md_list}\n",
    "\n",
    "df2 = pd.DataFrame(data2)\n",
    "df2 = df2.set_index('res')\n",
    "df2"
   ]
  },
  {
   "cell_type": "code",
   "execution_count": 23,
   "id": "058ae8d3",
   "metadata": {},
   "outputs": [
    {
     "data": {
      "text/plain": [
       "<matplotlib.axes._subplots.AxesSubplot at 0x7f1f9a7664f0>"
      ]
     },
     "execution_count": 23,
     "metadata": {},
     "output_type": "execute_result"
    },
    {
     "data": {
      "image/png": "[encoded data removed]",
      "text/plain": [
       "<Figure size 432x288 with 1 Axes>"
      ]
     },
     "metadata": {
      "needs_background": "light"
     },
     "output_type": "display_data"
    }
   ],
   "source": [
    "sns.lineplot(data=df2)"
   ]
  },
  {
   "cell_type": "code",
   "execution_count": null,
   "id": "953d0159",
   "metadata": {},
   "outputs": [],
   "source": []
  }
 ],
 "metadata": {
  "kernelspec": {
   "display_name": "Python 3 (ipykernel)",
   "language": "python",
   "name": "python3"
  },
  "language_info": {
   "codemirror_mode": {
    "name": "ipython",
    "version": 3
   },
   "file_extension": ".py",
   "mimetype": "text/x-python",
   "name": "python",
   "nbconvert_exporter": "python",
   "pygments_lexer": "ipython3",
   "version": "3.8.12"
  }
 },
 "nbformat": 4,
 "nbformat_minor": 5
}
