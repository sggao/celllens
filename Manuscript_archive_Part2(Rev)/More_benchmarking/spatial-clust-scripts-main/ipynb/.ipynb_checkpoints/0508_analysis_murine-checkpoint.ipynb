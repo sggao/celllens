{
 "cells": [
  {
   "cell_type": "code",
   "execution_count": null,
   "id": "f05bcdac",
   "metadata": {},
   "outputs": [],
   "source": []
  },
  {
   "cell_type": "code",
   "execution_count": null,
   "id": "13233b88",
   "metadata": {},
   "outputs": [],
   "source": [
    "import pandas as pd\n",
    "import numpy as np\n",
    "import matplotlib.pyplot as plt\n",
    "import seaborn as sns\n",
    "import sys\n",
    "import anndata as ad \n",
    "import scanpy as sc\n",
    "sys.path.append(\"../\")\n",
    "import utils\n",
    "from sklearn.decomposition import PCA\n",
    "import umap\n",
    "import graph\n",
    "import visualize"
   ]
  },
  {
   "cell_type": "code",
   "execution_count": null,
   "id": "6b0a05f0",
   "metadata": {},
   "outputs": [],
   "source": [
    "sys.executable"
   ]
  },
  {
   "cell_type": "markdown",
   "id": "af52939a",
   "metadata": {},
   "source": [
    "# first check umaps"
   ]
  },
  {
   "cell_type": "markdown",
   "id": "ef38ca1f",
   "metadata": {},
   "source": [
    "### just feature alone"
   ]
  },
  {
   "cell_type": "code",
   "execution_count": null,
   "id": "504fbd9d",
   "metadata": {},
   "outputs": [],
   "source": [
    "df = pd.read_csv(\"/home/bkzhu/spatial_clustering/phase2/data/codex_murine/results/features_and_metadata.csv\")"
   ]
  },
  {
   "cell_type": "code",
   "execution_count": null,
   "id": "a284ed99",
   "metadata": {},
   "outputs": [],
   "source": [
    "protein = df.columns[3:32]\n",
    "protein"
   ]
  },
  {
   "cell_type": "code",
   "execution_count": null,
   "id": "932fdc51",
   "metadata": {},
   "outputs": [],
   "source": [
    "from scipy.stats import zscore\n",
    "features = df[protein]\n",
    "features = features.apply(zscore)"
   ]
  },
  {
   "cell_type": "code",
   "execution_count": null,
   "id": "15f036d4",
   "metadata": {},
   "outputs": [],
   "source": [
    "pca = PCA(n_components=15)\n",
    "features_after_pca = pca.fit_transform(features)\n",
    "umap_fit = umap.UMAP(random_state=42)\n",
    "umap_embed = umap_fit.fit_transform(features_after_pca)"
   ]
  },
  {
   "cell_type": "code",
   "execution_count": null,
   "id": "c139dfc4",
   "metadata": {},
   "outputs": [],
   "source": [
    "umap_embed = pd.DataFrame(umap_embed, columns = ['umap1', 'umap2'])\n",
    "umap_embed['type'] = df['cluster.term']\n",
    "sns.scatterplot(data=umap_embed, x='umap1', y='umap2', hue='type', s=1)\n",
    "plt.legend(bbox_to_anchor=(1.05, 1), loc=2, borderaxespad=0.)"
   ]
  },
  {
   "cell_type": "markdown",
   "id": "c40d7cc4",
   "metadata": {},
   "source": [
    "### vanilla gnn"
   ]
  },
  {
   "cell_type": "code",
   "execution_count": null,
   "id": "24df61b2",
   "metadata": {},
   "outputs": [],
   "source": [
    "gnn_embed = np.load('/home/bkzhu/spatial_clustering/phase2/data/codex_murine/results/vanila_gnn_embeddings.npy')"
   ]
  },
  {
   "cell_type": "code",
   "execution_count": null,
   "id": "abe663d4",
   "metadata": {},
   "outputs": [],
   "source": [
    "pca = PCA(n_components=15)\n",
    "features_after_pca = pca.fit_transform(features)\n",
    "\n",
    "gnn_after_pca = pca.fit_transform(gnn_embed)\n",
    "umap_fit = umap.UMAP(random_state=42)\n",
    "umap_gnn = umap_fit.fit_transform(gnn_after_pca)\n",
    "#\n",
    "umap_embed_gnn = pd.DataFrame(umap_gnn, columns = ['umap1', 'umap2'])\n",
    "umap_embed_gnn['type'] = df['cluster.term']\n",
    "sns.scatterplot(data=umap_embed_gnn, x='umap1', y='umap2', hue='type', s=1)\n",
    "plt.legend(bbox_to_anchor=(1.05, 1), loc=2, borderaxespad=0.)"
   ]
  },
  {
   "cell_type": "markdown",
   "id": "416ff2a5",
   "metadata": {},
   "source": [
    "### convgnn"
   ]
  },
  {
   "cell_type": "code",
   "execution_count": null,
   "id": "2e2337d5",
   "metadata": {},
   "outputs": [],
   "source": [
    "convgnn_embed = np.load('/home/bkzhu/spatial_clustering/phase2/data/codex_murine/results/conv_gnn_embeddings.npy')"
   ]
  },
  {
   "cell_type": "code",
   "execution_count": null,
   "id": "88cb8be6",
   "metadata": {},
   "outputs": [],
   "source": [
    "convgnn_after_pca = pca.fit_transform(convgnn_embed)\n",
    "#umap_fit = umap.UMAP(random_state=42)\n",
    "umap_convgnn = umap_fit.fit_transform(convgnn_after_pca)\n",
    "#\n",
    "umap_embed_convgnn = pd.DataFrame(umap_convgnn, columns = ['umap1', 'umap2'])\n",
    "umap_embed_convgnn['type'] = df['cluster.term']\n",
    "sns.scatterplot(data=umap_embed_convgnn, x='umap1', y='umap2', hue='type', s=1)\n",
    "plt.legend(bbox_to_anchor=(1.05, 1), loc=2, borderaxespad=0.)"
   ]
  },
  {
   "cell_type": "markdown",
   "id": "14790908",
   "metadata": {},
   "source": [
    "# now we need to run clustering on vanila features or convGNN features"
   ]
  },
  {
   "cell_type": "code",
   "execution_count": null,
   "id": "a87660d0",
   "metadata": {},
   "outputs": [],
   "source": [
    "# clustering on vanila feature graphs\n",
    "\n",
    "feature_edges = graph.get_feature_edges(\n",
    "        arr=features.to_numpy(), pca_components=15,\n",
    "        n_neighbors=15, metric='correlation', verbose=False\n",
    "    )\n",
    "feature_labels = graph.graph_clustering(\n",
    "        features.shape[0], feature_edges, resolution=None, n_clusters=20, n_runs=1,\n",
    "        resolution_tol=0.05, seed=None, verbose=False\n",
    "    )"
   ]
  },
  {
   "cell_type": "code",
   "execution_count": null,
   "id": "03cd6ae2",
   "metadata": {},
   "outputs": [],
   "source": [
    "# do this again on vanilla gnn features\n",
    "\n",
    "feature_edges_gnn = graph.get_feature_edges(\n",
    "        arr=gnn_embed, pca_components=15,\n",
    "        n_neighbors=15, metric='correlation', verbose=False\n",
    "    )\n",
    "feature_labels_gnn = graph.graph_clustering(\n",
    "        gnn_embed.shape[0], feature_edges_gnn, resolution=None, n_clusters=20, n_runs=1,\n",
    "        resolution_tol=0.05, seed=None, verbose=False\n",
    "    )"
   ]
  },
  {
   "cell_type": "code",
   "execution_count": null,
   "id": "1ed89454",
   "metadata": {},
   "outputs": [],
   "source": [
    "# do this again on convGNN features\n",
    "\n",
    "feature_edges_conv = graph.get_feature_edges(\n",
    "        arr=convgnn_embed, pca_components=15,\n",
    "        n_neighbors=15, metric='correlation', verbose=False\n",
    "    )\n",
    "feature_labels_conv = graph.graph_clustering(\n",
    "        convgnn_embed.shape[0], feature_edges_conv, resolution=None, n_clusters=20, n_runs=1,\n",
    "        resolution_tol=0.05, seed=None, verbose=False\n",
    "    )"
   ]
  },
  {
   "cell_type": "code",
   "execution_count": null,
   "id": "fe6d6179",
   "metadata": {},
   "outputs": [],
   "source": [
    "unique, counts = np.unique(feature_labels, return_counts=True)\n",
    "print (np.asarray((unique, counts)).T)"
   ]
  },
  {
   "cell_type": "code",
   "execution_count": null,
   "id": "fa739862",
   "metadata": {},
   "outputs": [],
   "source": [
    "unique, counts = np.unique(feature_labels_gnn, return_counts=True)\n",
    "print (np.asarray((unique, counts)).T)"
   ]
  },
  {
   "cell_type": "code",
   "execution_count": null,
   "id": "f2d30b88",
   "metadata": {},
   "outputs": [],
   "source": [
    "unique, counts = np.unique(feature_labels_conv, return_counts=True)\n",
    "print (np.asarray((unique, counts)).T)"
   ]
  },
  {
   "cell_type": "code",
   "execution_count": null,
   "id": "90c84065",
   "metadata": {},
   "outputs": [],
   "source": [
    "umap_embed['label'] = list(map(str, feature_labels))\n",
    "sns.scatterplot(data=umap_embed, x='umap1', y='umap2', hue='label', s=1)\n",
    "plt.legend(bbox_to_anchor=(1.05, 1), loc=2, borderaxespad=0.)"
   ]
  },
  {
   "cell_type": "code",
   "execution_count": null,
   "id": "76d84255",
   "metadata": {},
   "outputs": [],
   "source": [
    "umap_embed_gnn['label'] = list(map(str, feature_labels_gnn))\n",
    "sns.scatterplot(data=umap_embed_gnn, x='umap1', y='umap2', hue='label', s=1)\n",
    "plt.legend(bbox_to_anchor=(1.05, 1), loc=2, borderaxespad=0.)"
   ]
  },
  {
   "cell_type": "code",
   "execution_count": null,
   "id": "dc954e29",
   "metadata": {},
   "outputs": [],
   "source": [
    "umap_embed_convgnn['label'] = list(map(str, feature_labels_conv))\n",
    "sns.scatterplot(data=umap_embed_convgnn, x='umap1', y='umap2', hue='label', s=1)\n",
    "plt.legend(bbox_to_anchor=(1.05, 1), loc=2, borderaxespad=0.)"
   ]
  },
  {
   "cell_type": "markdown",
   "id": "af97c8a2",
   "metadata": {},
   "source": [
    "# now we check heatmap"
   ]
  },
  {
   "cell_type": "code",
   "execution_count": null,
   "id": "e4704cf1",
   "metadata": {},
   "outputs": [],
   "source": [
    "features['label1'] = list(map(str, feature_labels))\n",
    "features['label2'] = list(map(str, feature_labels_conv))\n",
    "features['label3'] = list(map(str, feature_labels_gnn))"
   ]
  },
  {
   "cell_type": "code",
   "execution_count": null,
   "id": "4f18c54b",
   "metadata": {
    "scrolled": false
   },
   "outputs": [],
   "source": [
    "features"
   ]
  },
  {
   "cell_type": "markdown",
   "id": "f8d294ca",
   "metadata": {},
   "source": [
    "## feature only"
   ]
  },
  {
   "cell_type": "code",
   "execution_count": null,
   "id": "6e7bfb3b",
   "metadata": {},
   "outputs": [],
   "source": [
    "from scipy import stats\n",
    "import seaborn as sns\n",
    "\n",
    "sns.set(rc={'figure.figsize':(10,10)})\n",
    "\n",
    "tmp = features.groupby(by='label1').mean()\n",
    "#tmp = tmp.drop(['label1', 'label2'], axis=1)\n",
    "sns.heatmap((stats.zscore(tmp, axis=0, ddof=0)).T, cmap=\"YlGnBu\",xticklabels=True, yticklabels=True)"
   ]
  },
  {
   "cell_type": "markdown",
   "id": "9c8b28b1",
   "metadata": {},
   "source": [
    "0: CD4\n",
    "1: CD8\n",
    "10: ki67-B\n",
    "11: other\n",
    "12: other\n",
    "13: other\n",
    "14: DC\n",
    "2: CD22-B\n",
    "3: CD22-B\n",
    "4: CD21-B\n",
    "5: CD278 CD4\n",
    "6: Fibro\n",
    "7: Empty\n",
    "8: other\n",
    "9: Plasma"
   ]
  },
  {
   "cell_type": "markdown",
   "id": "e801cc64",
   "metadata": {},
   "source": [
    "## vanilla gnn"
   ]
  },
  {
   "cell_type": "code",
   "execution_count": null,
   "id": "65adb185",
   "metadata": {},
   "outputs": [],
   "source": [
    "from scipy import stats\n",
    "import seaborn as sns\n",
    "\n",
    "sns.set(rc={'figure.figsize':(10,10)})\n",
    "\n",
    "tmp = features.groupby(by='label3').mean()\n",
    "#tmp = tmp.drop(['label1', 'label2'], axis=1)\n",
    "sns.heatmap((stats.zscore(tmp, axis=0, ddof=0)).T, cmap=\"YlGnBu\",xticklabels=True, yticklabels=True)"
   ]
  },
  {
   "cell_type": "code",
   "execution_count": null,
   "id": "8a0f7394",
   "metadata": {},
   "outputs": [],
   "source": [
    "0: CD4\n",
    "1: CD22-B\n",
    "10: ki67-B\n",
    "11: other\n",
    "12: DC\n",
    "13: other\n",
    "14: other\n",
    "2: CD21-B\n",
    "3: CD8\n",
    "4: other\n",
    "5: Plasma\n",
    "6: Fibro\n",
    "7: CD274 CD4\n",
    "8: other\n",
    "9: CD22-B"
   ]
  },
  {
   "cell_type": "markdown",
   "id": "8ea54985",
   "metadata": {},
   "source": [
    "## conv GNN"
   ]
  },
  {
   "cell_type": "code",
   "execution_count": null,
   "id": "919eb186",
   "metadata": {},
   "outputs": [],
   "source": [
    "tmp = features.groupby(by='label2').mean()\n",
    "#tmp = tmp.drop(['label1', 'label2'], axis=1)\n",
    "sns.heatmap((stats.zscore(tmp, axis=0, ddof=0)).T, cmap=\"YlGnBu\",xticklabels=True, yticklabels=True)"
   ]
  },
  {
   "cell_type": "markdown",
   "id": "fbcc853d",
   "metadata": {},
   "source": [
    "0: CD22-B (small?)\n",
    "1: cant tell, seems mixed with cd4 and b cells\n",
    "10: other\n",
    "11: CD22-B\n",
    "12: other\n",
    "13: other\n",
    "14: other\n",
    "2: CD278 CD4\n",
    "3: CD21-B\n",
    "4: CD8\n",
    "5: Plasma\n",
    "6: Fibro\n",
    "7: Vessel\n",
    "8: Ki67-B\n",
    "9: DC"
   ]
  },
  {
   "cell_type": "code",
   "execution_count": null,
   "id": "8b7b056f",
   "metadata": {},
   "outputs": [],
   "source": []
  },
  {
   "cell_type": "code",
   "execution_count": null,
   "id": "20c82980",
   "metadata": {},
   "outputs": [],
   "source": []
  },
  {
   "cell_type": "markdown",
   "id": "09cfc3d7",
   "metadata": {},
   "source": [
    "## try look at there spatial locations\n"
   ]
  },
  {
   "cell_type": "markdown",
   "id": "cf8e763c",
   "metadata": {},
   "source": [
    "## actually can not this on tonsil_50k for now hold."
   ]
  },
  {
   "cell_type": "code",
   "execution_count": null,
   "id": "aeda31c6",
   "metadata": {},
   "outputs": [],
   "source": [
    "def fill_clusters_to_segmentation(df, views, shape,\n",
    "                                  path='../../data/codex_murine/segmentation_results/',\n",
    "                                  colnames=('cell_view', 'cellLabelInImage', 'clust_label')):\n",
    "    \"\"\"\n",
    "    Fill cluster labels to the segmentation matrices in views,\n",
    "    concatenate them, and return the overall matrix.\n",
    "    Also return idx_to_label, a dict of {idx_in_seg_mat_after_filling_in_clust_labels: original_clust_label}.\n",
    "    df must contain the following columns:\n",
    "        - colnames[0]: which view is each cell in\n",
    "        - colnames[1]: the segmentation index of each cell\n",
    "        - colnames[2]: the cluster label of each cell.\n",
    "    \"\"\"\n",
    "    assert shape[0] * shape[1] == len(views)\n",
    "    # recode clusters to integers starting from zero\n",
    "    clust_labels, new_to_old = recode(df[colnames[2]])\n",
    "    # in the filling process, 0 is reserved for empty\n",
    "    new_to_old = {new + 1: old for new, old in new_to_old.items()}\n",
    "    new_to_old[0] = 'empty'\n",
    "\n",
    "    # fill in the first column\n",
    "    start, end = 0, shape[0]\n",
    "    islands = fill_clusters_one_column(df, clust_labels, views[start:end], path, colnames[:2])\n",
    "    while end < len(views):\n",
    "        start = end\n",
    "        end += shape[0]\n",
    "        islands = np.concatenate(\n",
    "            (islands, fill_clusters_one_column(\n",
    "                df, clust_labels, views[start:end], path, colnames[:2]\n",
    "            )), axis=1\n",
    "        )\n",
    "    return islands, new_to_old"
   ]
  },
  {
   "cell_type": "code",
   "execution_count": null,
   "id": "86c2efd3",
   "metadata": {},
   "outputs": [],
   "source": [
    "path_to_segmentation = '/home/bkzhu/spatial_clustering/phase2/data/tonsil/Images_singleChannel_0503seg/'\n",
    "shape_of_views = [9, 7]\n",
    "shape_of_each_view = [1008, 1344]"
   ]
  },
  {
   "cell_type": "code",
   "execution_count": null,
   "id": "2751cf91",
   "metadata": {},
   "outputs": [],
   "source": [
    "df"
   ]
  },
  {
   "cell_type": "code",
   "execution_count": null,
   "id": "61e9ac99",
   "metadata": {},
   "outputs": [],
   "source": []
  }
 ],
 "metadata": {
  "kernelspec": {
   "display_name": "Python 3 (ipykernel)",
   "language": "python",
   "name": "python3"
  },
  "language_info": {
   "codemirror_mode": {
    "name": "ipython",
    "version": 3
   },
   "file_extension": ".py",
   "mimetype": "text/x-python",
   "name": "python",
   "nbconvert_exporter": "python",
   "pygments_lexer": "ipython3",
   "version": "3.8.12"
  }
 },
 "nbformat": 4,
 "nbformat_minor": 5
}
