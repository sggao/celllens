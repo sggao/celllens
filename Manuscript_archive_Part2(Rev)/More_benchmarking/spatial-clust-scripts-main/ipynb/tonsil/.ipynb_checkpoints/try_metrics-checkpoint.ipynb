{
 "cells": [
  {
   "cell_type": "code",
   "execution_count": 1,
   "id": "253f22e8",
   "metadata": {},
   "outputs": [],
   "source": [
    "import pandas as pd\n",
    "import numpy as np\n",
    "import matplotlib.pyplot as plt\n",
    "import seaborn as sns\n",
    "import sys\n",
    "import anndata as ad \n",
    "import scanpy as sc\n",
    "sys.path.append(\"../../\")\n",
    "import utils\n",
    "from sklearn.decomposition import PCA\n",
    "import umap\n",
    "import graph\n",
    "import visualize"
   ]
  },
  {
   "cell_type": "code",
   "execution_count": 5,
   "id": "b2de0de4",
   "metadata": {},
   "outputs": [],
   "source": [
    "## read in all the stuff\n",
    "\n",
    "cnngnn_embed = np.load(\"/home/bkzhu/spatial_clustering/phase3/spatial-clust-scripts-main/data/tonsil/cnn_l2_layer6_epoch400_gnn_embedding_dim32.npy\")\n",
    "train_mask = np.load(\"/home/bkzhu/spatial_clustering/phase3/spatial-clust-scripts-main/data/tonsil/train_mask_tonsil.npy\")\n",
    "df = pd.read_csv(\"/home/bkzhu/spatial_clustering/phase2/data/tonsil/results/all_clusters.csv\")\n",
    "gnn_embed = np.load('/home/bkzhu/spatial_clustering/phase3/spatial-clust-scripts-main/data/tonsil/gnn_embedding_dim32_tonsil.npy')"
   ]
  },
  {
   "cell_type": "code",
   "execution_count": 6,
   "id": "bd1d9be3",
   "metadata": {},
   "outputs": [],
   "source": [
    "df['xreg'] = df['PointNum'].str.split('_',expand=True)[1].str[1:].astype(int)\n",
    "df['yreg'] = df['PointNum'].str.split('_',expand=True)[2].str[1:].astype(int)\n",
    "df_sub = df.loc[(df.yreg >= 8) & (df.yreg <= 13) & (df.xreg <= 8) & (df.xreg >= 4),:]\n",
    "df_sub = df_sub.loc[~df_sub['cluster.term'].isin(['mix','Other']),:]"
   ]
  },
  {
   "cell_type": "code",
   "execution_count": null,
   "id": "f1804178",
   "metadata": {},
   "outputs": [],
   "source": [
    "# get train masked cells\n",
    "cnngnn_embed_sub = cnngnn_embed[train_mask,:]\n",
    "features_sub = df_sub.iloc[train_mask,4:-6].to_numpy()\n",
    "gnn_embed_sub = gnn_embed[train_mask,:]\n",
    "\n",
    "# then we get 10k sub set cells for testing\n",
    "indices = np.random.choice(cnngnn_embed_sub.shape[0], 10000, replace=False)\n",
    "cnngnn_embed_sub = cnngnn_embed_sub[indices]\n",
    "features_sub = features_sub[indices]\n",
    "gnn_embed_sub = gnn_embed_sub[indices]"
   ]
  }
 ],
 "metadata": {
  "kernelspec": {
   "display_name": "Python 3 (ipykernel)",
   "language": "python",
   "name": "python3"
  },
  "language_info": {
   "codemirror_mode": {
    "name": "ipython",
    "version": 3
   },
   "file_extension": ".py",
   "mimetype": "text/x-python",
   "name": "python",
   "nbconvert_exporter": "python",
   "pygments_lexer": "ipython3",
   "version": "3.8.12"
  }
 },
 "nbformat": 4,
 "nbformat_minor": 5
}
