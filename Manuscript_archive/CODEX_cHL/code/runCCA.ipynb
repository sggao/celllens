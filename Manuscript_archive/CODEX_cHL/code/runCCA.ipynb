{
 "cells": [
  {
   "cell_type": "code",
   "execution_count": 1,
   "id": "9ea3c75c",
   "metadata": {},
   "outputs": [],
   "source": [
    "import pandas as pd\n",
    "import matplotlib.pyplot as plt\n",
    "import numpy as np\n",
    "import seaborn as sns\n",
    "from sklearn.datasets import load_iris\n",
    "from sklearn.cross_decomposition import CCA\n",
    "from sklearn.preprocessing import StandardScaler\n",
    "\n",
    "import sys\n",
    "sys.path.append(\"../../../../\")\n",
    "import utils\n",
    "import os"
   ]
  },
  {
   "cell_type": "markdown",
   "id": "186a1c6d",
   "metadata": {},
   "source": [
    "### fet feature data"
   ]
  },
  {
   "cell_type": "code",
   "execution_count": 2,
   "id": "8278ecdc",
   "metadata": {},
   "outputs": [
    {
     "data": {
      "text/html": [
       "<div>\n",
       "<style scoped>\n",
       "    .dataframe tbody tr th:only-of-type {\n",
       "        vertical-align: middle;\n",
       "    }\n",
       "\n",
       "    .dataframe tbody tr th {\n",
       "        vertical-align: top;\n",
       "    }\n",
       "\n",
       "    .dataframe thead th {\n",
       "        text-align: right;\n",
       "    }\n",
       "</style>\n",
       "<table border=\"1\" class=\"dataframe\">\n",
       "  <thead>\n",
       "    <tr style=\"text-align: right;\">\n",
       "      <th></th>\n",
       "      <th>X_cent</th>\n",
       "      <th>Y_cent</th>\n",
       "      <th>cellSize</th>\n",
       "      <th>cellType</th>\n",
       "      <th>BCL.2</th>\n",
       "      <th>CCR6</th>\n",
       "      <th>CD11b</th>\n",
       "      <th>CD11c</th>\n",
       "      <th>CD15</th>\n",
       "      <th>CD16</th>\n",
       "      <th>...</th>\n",
       "      <th>Podoplanin</th>\n",
       "      <th>T.bet</th>\n",
       "      <th>TCR.g.d</th>\n",
       "      <th>TCRb</th>\n",
       "      <th>Tim.3</th>\n",
       "      <th>VISA</th>\n",
       "      <th>Vimentin</th>\n",
       "      <th>a.SMA</th>\n",
       "      <th>b.Catenin</th>\n",
       "      <th>cluster.term</th>\n",
       "    </tr>\n",
       "    <tr>\n",
       "      <th>cellLabel</th>\n",
       "      <th></th>\n",
       "      <th></th>\n",
       "      <th></th>\n",
       "      <th></th>\n",
       "      <th></th>\n",
       "      <th></th>\n",
       "      <th></th>\n",
       "      <th></th>\n",
       "      <th></th>\n",
       "      <th></th>\n",
       "      <th></th>\n",
       "      <th></th>\n",
       "      <th></th>\n",
       "      <th></th>\n",
       "      <th></th>\n",
       "      <th></th>\n",
       "      <th></th>\n",
       "      <th></th>\n",
       "      <th></th>\n",
       "      <th></th>\n",
       "      <th></th>\n",
       "    </tr>\n",
       "  </thead>\n",
       "  <tbody>\n",
       "    <tr>\n",
       "      <th>1</th>\n",
       "      <td>75</td>\n",
       "      <td>2</td>\n",
       "      <td>42</td>\n",
       "      <td>B</td>\n",
       "      <td>0.792642</td>\n",
       "      <td>0.617038</td>\n",
       "      <td>0.000089</td>\n",
       "      <td>0.000040</td>\n",
       "      <td>0.000029</td>\n",
       "      <td>0.097688</td>\n",
       "      <td>...</td>\n",
       "      <td>0.114237</td>\n",
       "      <td>0.241829</td>\n",
       "      <td>0.681727</td>\n",
       "      <td>0.159092</td>\n",
       "      <td>0.006533</td>\n",
       "      <td>0.000454</td>\n",
       "      <td>0.139826</td>\n",
       "      <td>0.0</td>\n",
       "      <td>0.057827</td>\n",
       "      <td>B</td>\n",
       "    </tr>\n",
       "    <tr>\n",
       "      <th>2</th>\n",
       "      <td>1767</td>\n",
       "      <td>2</td>\n",
       "      <td>63</td>\n",
       "      <td>DC</td>\n",
       "      <td>0.000000</td>\n",
       "      <td>0.127394</td>\n",
       "      <td>0.062173</td>\n",
       "      <td>0.660572</td>\n",
       "      <td>0.000000</td>\n",
       "      <td>0.000000</td>\n",
       "      <td>...</td>\n",
       "      <td>0.000193</td>\n",
       "      <td>0.010475</td>\n",
       "      <td>0.231264</td>\n",
       "      <td>0.058234</td>\n",
       "      <td>0.111610</td>\n",
       "      <td>0.182849</td>\n",
       "      <td>0.899717</td>\n",
       "      <td>0.0</td>\n",
       "      <td>0.267198</td>\n",
       "      <td>DC</td>\n",
       "    </tr>\n",
       "    <tr>\n",
       "      <th>3</th>\n",
       "      <td>2545</td>\n",
       "      <td>2</td>\n",
       "      <td>29</td>\n",
       "      <td>NK</td>\n",
       "      <td>0.060620</td>\n",
       "      <td>0.134818</td>\n",
       "      <td>0.298522</td>\n",
       "      <td>0.083348</td>\n",
       "      <td>0.000000</td>\n",
       "      <td>0.182152</td>\n",
       "      <td>...</td>\n",
       "      <td>0.000193</td>\n",
       "      <td>0.033671</td>\n",
       "      <td>0.201099</td>\n",
       "      <td>0.000000</td>\n",
       "      <td>0.004900</td>\n",
       "      <td>0.454174</td>\n",
       "      <td>0.069180</td>\n",
       "      <td>0.0</td>\n",
       "      <td>0.104686</td>\n",
       "      <td>NK</td>\n",
       "    </tr>\n",
       "    <tr>\n",
       "      <th>4</th>\n",
       "      <td>2899</td>\n",
       "      <td>3</td>\n",
       "      <td>64</td>\n",
       "      <td>Monocyte</td>\n",
       "      <td>0.000000</td>\n",
       "      <td>0.012896</td>\n",
       "      <td>0.287698</td>\n",
       "      <td>0.268121</td>\n",
       "      <td>0.000000</td>\n",
       "      <td>0.124361</td>\n",
       "      <td>...</td>\n",
       "      <td>0.005982</td>\n",
       "      <td>0.000000</td>\n",
       "      <td>0.000000</td>\n",
       "      <td>0.052230</td>\n",
       "      <td>0.148087</td>\n",
       "      <td>0.228221</td>\n",
       "      <td>0.053541</td>\n",
       "      <td>1.0</td>\n",
       "      <td>0.283151</td>\n",
       "      <td>Monocyte</td>\n",
       "    </tr>\n",
       "    <tr>\n",
       "      <th>5</th>\n",
       "      <td>3657</td>\n",
       "      <td>3</td>\n",
       "      <td>61</td>\n",
       "      <td>CD4</td>\n",
       "      <td>0.201057</td>\n",
       "      <td>0.110590</td>\n",
       "      <td>0.000000</td>\n",
       "      <td>0.000000</td>\n",
       "      <td>0.000000</td>\n",
       "      <td>0.000000</td>\n",
       "      <td>...</td>\n",
       "      <td>0.011771</td>\n",
       "      <td>0.124955</td>\n",
       "      <td>0.154981</td>\n",
       "      <td>0.597647</td>\n",
       "      <td>0.013284</td>\n",
       "      <td>0.000454</td>\n",
       "      <td>0.234038</td>\n",
       "      <td>0.0</td>\n",
       "      <td>0.000000</td>\n",
       "      <td>CD4</td>\n",
       "    </tr>\n",
       "  </tbody>\n",
       "</table>\n",
       "<p>5 rows × 54 columns</p>\n",
       "</div>"
      ],
      "text/plain": [
       "           X_cent  Y_cent  cellSize  cellType     BCL.2      CCR6     CD11b  \\\n",
       "cellLabel                                                                     \n",
       "1              75       2        42         B  0.792642  0.617038  0.000089   \n",
       "2            1767       2        63        DC  0.000000  0.127394  0.062173   \n",
       "3            2545       2        29        NK  0.060620  0.134818  0.298522   \n",
       "4            2899       3        64  Monocyte  0.000000  0.012896  0.287698   \n",
       "5            3657       3        61       CD4  0.201057  0.110590  0.000000   \n",
       "\n",
       "              CD11c      CD15      CD16  ...  Podoplanin     T.bet   TCR.g.d  \\\n",
       "cellLabel                                ...                                   \n",
       "1          0.000040  0.000029  0.097688  ...    0.114237  0.241829  0.681727   \n",
       "2          0.660572  0.000000  0.000000  ...    0.000193  0.010475  0.231264   \n",
       "3          0.083348  0.000000  0.182152  ...    0.000193  0.033671  0.201099   \n",
       "4          0.268121  0.000000  0.124361  ...    0.005982  0.000000  0.000000   \n",
       "5          0.000000  0.000000  0.000000  ...    0.011771  0.124955  0.154981   \n",
       "\n",
       "               TCRb     Tim.3      VISA  Vimentin  a.SMA  b.Catenin  \\\n",
       "cellLabel                                                             \n",
       "1          0.159092  0.006533  0.000454  0.139826    0.0   0.057827   \n",
       "2          0.058234  0.111610  0.182849  0.899717    0.0   0.267198   \n",
       "3          0.000000  0.004900  0.454174  0.069180    0.0   0.104686   \n",
       "4          0.052230  0.148087  0.228221  0.053541    1.0   0.283151   \n",
       "5          0.597647  0.013284  0.000454  0.234038    0.0   0.000000   \n",
       "\n",
       "           cluster.term  \n",
       "cellLabel                \n",
       "1                     B  \n",
       "2                    DC  \n",
       "3                    NK  \n",
       "4              Monocyte  \n",
       "5                   CD4  \n",
       "\n",
       "[5 rows x 54 columns]"
      ]
     },
     "execution_count": 2,
     "metadata": {},
     "output_type": "execute_result"
    }
   ],
   "source": [
    "df = pd.read_csv('../data/features_and_metadata.csv', index_col=0)\n",
    "df.head()"
   ]
  },
  {
   "cell_type": "code",
   "execution_count": 3,
   "id": "24363e6f",
   "metadata": {},
   "outputs": [
    {
     "data": {
      "text/plain": [
       "(143730, 22)"
      ]
     },
     "execution_count": 3,
     "metadata": {},
     "output_type": "execute_result"
    }
   ],
   "source": [
    "feature_names = [\n",
    "        'CD2', 'CD56',\n",
    "        'CD20', 'CD30', 'CD31', 'CD4', \n",
    "        'CD57',  'CD7', 'CD8',\n",
    "        'Granzyme.B','FoxP3', 'CD11c', 'CD16', 'CD206', 'CD163', 'CD68', 'CD15', 'CD11b',\n",
    "        'MCT', 'Cytokeratin', \n",
    "        'Podoplanin', 'a.SMA'\n",
    "    ]\n",
    "features = df[feature_names].to_numpy()\n",
    "features = utils.center_scale(features)\n",
    "features.shape"
   ]
  },
  {
   "cell_type": "markdown",
   "id": "9832089f",
   "metadata": {},
   "source": [
    "### read nbhd information"
   ]
  },
  {
   "cell_type": "code",
   "execution_count": 4,
   "id": "6c78d70a",
   "metadata": {},
   "outputs": [
    {
     "data": {
      "text/plain": [
       "(143730, 17)"
      ]
     },
     "execution_count": 4,
     "metadata": {},
     "output_type": "execute_result"
    }
   ],
   "source": [
    "nbhd_compo = np.load('../data/cell_nbhd_res0.5_k20.npy')\n",
    "nbhd_compo  = utils.center_scale(nbhd_compo)\n",
    "nbhd_compo.shape"
   ]
  },
  {
   "cell_type": "code",
   "execution_count": 5,
   "id": "765296fa",
   "metadata": {},
   "outputs": [
    {
     "data": {
      "text/html": [
       "<style>#sk-container-id-1 {color: black;background-color: white;}#sk-container-id-1 pre{padding: 0;}#sk-container-id-1 div.sk-toggleable {background-color: white;}#sk-container-id-1 label.sk-toggleable__label {cursor: pointer;display: block;width: 100%;margin-bottom: 0;padding: 0.3em;box-sizing: border-box;text-align: center;}#sk-container-id-1 label.sk-toggleable__label-arrow:before {content: \"▸\";float: left;margin-right: 0.25em;color: #696969;}#sk-container-id-1 label.sk-toggleable__label-arrow:hover:before {color: black;}#sk-container-id-1 div.sk-estimator:hover label.sk-toggleable__label-arrow:before {color: black;}#sk-container-id-1 div.sk-toggleable__content {max-height: 0;max-width: 0;overflow: hidden;text-align: left;background-color: #f0f8ff;}#sk-container-id-1 div.sk-toggleable__content pre {margin: 0.2em;color: black;border-radius: 0.25em;background-color: #f0f8ff;}#sk-container-id-1 input.sk-toggleable__control:checked~div.sk-toggleable__content {max-height: 200px;max-width: 100%;overflow: auto;}#sk-container-id-1 input.sk-toggleable__control:checked~label.sk-toggleable__label-arrow:before {content: \"▾\";}#sk-container-id-1 div.sk-estimator input.sk-toggleable__control:checked~label.sk-toggleable__label {background-color: #d4ebff;}#sk-container-id-1 div.sk-label input.sk-toggleable__control:checked~label.sk-toggleable__label {background-color: #d4ebff;}#sk-container-id-1 input.sk-hidden--visually {border: 0;clip: rect(1px 1px 1px 1px);clip: rect(1px, 1px, 1px, 1px);height: 1px;margin: -1px;overflow: hidden;padding: 0;position: absolute;width: 1px;}#sk-container-id-1 div.sk-estimator {font-family: monospace;background-color: #f0f8ff;border: 1px dotted black;border-radius: 0.25em;box-sizing: border-box;margin-bottom: 0.5em;}#sk-container-id-1 div.sk-estimator:hover {background-color: #d4ebff;}#sk-container-id-1 div.sk-parallel-item::after {content: \"\";width: 100%;border-bottom: 1px solid gray;flex-grow: 1;}#sk-container-id-1 div.sk-label:hover label.sk-toggleable__label {background-color: #d4ebff;}#sk-container-id-1 div.sk-serial::before {content: \"\";position: absolute;border-left: 1px solid gray;box-sizing: border-box;top: 0;bottom: 0;left: 50%;z-index: 0;}#sk-container-id-1 div.sk-serial {display: flex;flex-direction: column;align-items: center;background-color: white;padding-right: 0.2em;padding-left: 0.2em;position: relative;}#sk-container-id-1 div.sk-item {position: relative;z-index: 1;}#sk-container-id-1 div.sk-parallel {display: flex;align-items: stretch;justify-content: center;background-color: white;position: relative;}#sk-container-id-1 div.sk-item::before, #sk-container-id-1 div.sk-parallel-item::before {content: \"\";position: absolute;border-left: 1px solid gray;box-sizing: border-box;top: 0;bottom: 0;left: 50%;z-index: -1;}#sk-container-id-1 div.sk-parallel-item {display: flex;flex-direction: column;z-index: 1;position: relative;background-color: white;}#sk-container-id-1 div.sk-parallel-item:first-child::after {align-self: flex-end;width: 50%;}#sk-container-id-1 div.sk-parallel-item:last-child::after {align-self: flex-start;width: 50%;}#sk-container-id-1 div.sk-parallel-item:only-child::after {width: 0;}#sk-container-id-1 div.sk-dashed-wrapped {border: 1px dashed gray;margin: 0 0.4em 0.5em 0.4em;box-sizing: border-box;padding-bottom: 0.4em;background-color: white;}#sk-container-id-1 div.sk-label label {font-family: monospace;font-weight: bold;display: inline-block;line-height: 1.2em;}#sk-container-id-1 div.sk-label-container {text-align: center;}#sk-container-id-1 div.sk-container {/* jupyter's `normalize.less` sets `[hidden] { display: none; }` but bootstrap.min.css set `[hidden] { display: none !important; }` so we also need the `!important` here to be able to override the default hidden behavior on the sphinx rendered scikit-learn.org. See: https://github.com/scikit-learn/scikit-learn/issues/21755 */display: inline-block !important;position: relative;}#sk-container-id-1 div.sk-text-repr-fallback {display: none;}</style><div id=\"sk-container-id-1\" class=\"sk-top-container\"><div class=\"sk-text-repr-fallback\"><pre>CCA(n_components=15, scale=False)</pre><b>In a Jupyter environment, please rerun this cell to show the HTML representation or trust the notebook. <br />On GitHub, the HTML representation is unable to render, please try loading this page with nbviewer.org.</b></div><div class=\"sk-container\" hidden><div class=\"sk-item\"><div class=\"sk-estimator sk-toggleable\"><input class=\"sk-toggleable__control sk-hidden--visually\" id=\"sk-estimator-id-1\" type=\"checkbox\" checked><label for=\"sk-estimator-id-1\" class=\"sk-toggleable__label sk-toggleable__label-arrow\">CCA</label><div class=\"sk-toggleable__content\"><pre>CCA(n_components=15, scale=False)</pre></div></div></div></div></div>"
      ],
      "text/plain": [
       "CCA(n_components=15, scale=False)"
      ]
     },
     "execution_count": 5,
     "metadata": {},
     "output_type": "execute_result"
    }
   ],
   "source": [
    "# start cca\n",
    "cca = CCA(scale=False, n_components=15)\n",
    "cca.fit(features, nbhd_compo)"
   ]
  },
  {
   "cell_type": "code",
   "execution_count": 6,
   "id": "9f519a10",
   "metadata": {},
   "outputs": [],
   "source": [
    "X1_c, X2_c = cca.transform(features, nbhd_compo)"
   ]
  },
  {
   "cell_type": "code",
   "execution_count": 7,
   "id": "89210f1b",
   "metadata": {},
   "outputs": [
    {
     "data": {
      "text/plain": [
       "(143730, 15)"
      ]
     },
     "execution_count": 7,
     "metadata": {},
     "output_type": "execute_result"
    }
   ],
   "source": [
    "X1_c.shape"
   ]
  },
  {
   "cell_type": "code",
   "execution_count": 8,
   "id": "0585df9e",
   "metadata": {},
   "outputs": [],
   "source": [
    "pd.DataFrame(X1_c).to_csv('../data/cca15_feat.csv', index=False)"
   ]
  }
 ],
 "metadata": {
  "kernelspec": {
   "display_name": "Python 3 (ipykernel)",
   "language": "python",
   "name": "python3"
  },
  "language_info": {
   "codemirror_mode": {
    "name": "ipython",
    "version": 3
   },
   "file_extension": ".py",
   "mimetype": "text/x-python",
   "name": "python",
   "nbconvert_exporter": "python",
   "pygments_lexer": "ipython3",
   "version": "3.10.9"
  }
 },
 "nbformat": 4,
 "nbformat_minor": 5
}
