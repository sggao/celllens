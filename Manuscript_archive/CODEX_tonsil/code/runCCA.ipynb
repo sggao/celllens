{
 "cells": [
  {
   "cell_type": "code",
   "execution_count": 1,
   "id": "9ea3c75c",
   "metadata": {},
   "outputs": [],
   "source": [
    "import pandas as pd\n",
    "import matplotlib.pyplot as plt\n",
    "import numpy as np\n",
    "import seaborn as sns\n",
    "from sklearn.datasets import load_iris\n",
    "from sklearn.cross_decomposition import CCA\n",
    "from sklearn.preprocessing import StandardScaler\n",
    "\n",
    "import sys\n",
    "sys.path.append(\"../../../../\")\n",
    "import utils\n",
    "import os"
   ]
  },
  {
   "cell_type": "markdown",
   "id": "186a1c6d",
   "metadata": {},
   "source": [
    "### fet feature data"
   ]
  },
  {
   "cell_type": "code",
   "execution_count": 2,
   "id": "8278ecdc",
   "metadata": {},
   "outputs": [
    {
     "data": {
      "text/html": [
       "<div>\n",
       "<style scoped>\n",
       "    .dataframe tbody tr th:only-of-type {\n",
       "        vertical-align: middle;\n",
       "    }\n",
       "\n",
       "    .dataframe tbody tr th {\n",
       "        vertical-align: top;\n",
       "    }\n",
       "\n",
       "    .dataframe thead th {\n",
       "        text-align: right;\n",
       "    }\n",
       "</style>\n",
       "<table border=\"1\" class=\"dataframe\">\n",
       "  <thead>\n",
       "    <tr style=\"text-align: right;\">\n",
       "      <th></th>\n",
       "      <th>cellLabelInImage</th>\n",
       "      <th>cellSize</th>\n",
       "      <th>HOECHST1</th>\n",
       "      <th>CD38</th>\n",
       "      <th>CD19</th>\n",
       "      <th>CD31</th>\n",
       "      <th>Vimentin</th>\n",
       "      <th>CD22</th>\n",
       "      <th>Ki67</th>\n",
       "      <th>CD8</th>\n",
       "      <th>...</th>\n",
       "      <th>CD104</th>\n",
       "      <th>CD273</th>\n",
       "      <th>FAPalpha</th>\n",
       "      <th>Ecadherin</th>\n",
       "      <th>PointNum</th>\n",
       "      <th>cluster.term</th>\n",
       "      <th>centroid_x</th>\n",
       "      <th>centroid_y</th>\n",
       "      <th>X_view</th>\n",
       "      <th>Y_view</th>\n",
       "    </tr>\n",
       "  </thead>\n",
       "  <tbody>\n",
       "    <tr>\n",
       "      <th>100323</th>\n",
       "      <td>1</td>\n",
       "      <td>32</td>\n",
       "      <td>6217.750000</td>\n",
       "      <td>0.059920</td>\n",
       "      <td>0.654999</td>\n",
       "      <td>0.032532</td>\n",
       "      <td>0.005859</td>\n",
       "      <td>1.000000</td>\n",
       "      <td>0.014643</td>\n",
       "      <td>0.020922</td>\n",
       "      <td>...</td>\n",
       "      <td>0.094049</td>\n",
       "      <td>0.012020</td>\n",
       "      <td>0.029262</td>\n",
       "      <td>0.149702</td>\n",
       "      <td>reg001_X04_Y08_Z08</td>\n",
       "      <td>B-CD22-CD40</td>\n",
       "      <td>3025.468750</td>\n",
       "      <td>3317.468750</td>\n",
       "      <td>4</td>\n",
       "      <td>8</td>\n",
       "    </tr>\n",
       "    <tr>\n",
       "      <th>100325</th>\n",
       "      <td>3</td>\n",
       "      <td>36</td>\n",
       "      <td>7420.944444</td>\n",
       "      <td>0.022436</td>\n",
       "      <td>0.000000</td>\n",
       "      <td>0.042907</td>\n",
       "      <td>0.082692</td>\n",
       "      <td>0.000000</td>\n",
       "      <td>0.041960</td>\n",
       "      <td>1.000000</td>\n",
       "      <td>...</td>\n",
       "      <td>0.032645</td>\n",
       "      <td>0.010791</td>\n",
       "      <td>0.167671</td>\n",
       "      <td>0.039669</td>\n",
       "      <td>reg001_X04_Y08_Z08</td>\n",
       "      <td>CD8 T</td>\n",
       "      <td>3025.777778</td>\n",
       "      <td>2929.083333</td>\n",
       "      <td>4</td>\n",
       "      <td>8</td>\n",
       "    </tr>\n",
       "    <tr>\n",
       "      <th>100326</th>\n",
       "      <td>4</td>\n",
       "      <td>69</td>\n",
       "      <td>3705.710145</td>\n",
       "      <td>0.024005</td>\n",
       "      <td>0.323413</td>\n",
       "      <td>0.010868</td>\n",
       "      <td>0.450219</td>\n",
       "      <td>0.166603</td>\n",
       "      <td>0.396156</td>\n",
       "      <td>0.158482</td>\n",
       "      <td>...</td>\n",
       "      <td>0.045545</td>\n",
       "      <td>0.016825</td>\n",
       "      <td>0.163844</td>\n",
       "      <td>0.166694</td>\n",
       "      <td>reg001_X04_Y08_Z08</td>\n",
       "      <td>B-Ki67</td>\n",
       "      <td>3026.173913</td>\n",
       "      <td>2979.115942</td>\n",
       "      <td>4</td>\n",
       "      <td>8</td>\n",
       "    </tr>\n",
       "    <tr>\n",
       "      <th>100327</th>\n",
       "      <td>5</td>\n",
       "      <td>90</td>\n",
       "      <td>4915.988889</td>\n",
       "      <td>1.000000</td>\n",
       "      <td>0.156977</td>\n",
       "      <td>1.000000</td>\n",
       "      <td>0.476991</td>\n",
       "      <td>0.060118</td>\n",
       "      <td>0.048008</td>\n",
       "      <td>0.129422</td>\n",
       "      <td>...</td>\n",
       "      <td>0.037174</td>\n",
       "      <td>0.275244</td>\n",
       "      <td>0.394651</td>\n",
       "      <td>1.000000</td>\n",
       "      <td>reg001_X04_Y08_Z08</td>\n",
       "      <td>Plasma</td>\n",
       "      <td>3026.588889</td>\n",
       "      <td>3074.522222</td>\n",
       "      <td>4</td>\n",
       "      <td>8</td>\n",
       "    </tr>\n",
       "    <tr>\n",
       "      <th>100328</th>\n",
       "      <td>6</td>\n",
       "      <td>52</td>\n",
       "      <td>3826.634615</td>\n",
       "      <td>0.620176</td>\n",
       "      <td>0.205964</td>\n",
       "      <td>0.707579</td>\n",
       "      <td>0.059099</td>\n",
       "      <td>0.148487</td>\n",
       "      <td>0.030935</td>\n",
       "      <td>0.603836</td>\n",
       "      <td>...</td>\n",
       "      <td>0.005686</td>\n",
       "      <td>0.760503</td>\n",
       "      <td>0.261925</td>\n",
       "      <td>0.236684</td>\n",
       "      <td>reg001_X04_Y08_Z08</td>\n",
       "      <td>CD8 T</td>\n",
       "      <td>3025.538462</td>\n",
       "      <td>3213.461538</td>\n",
       "      <td>4</td>\n",
       "      <td>8</td>\n",
       "    </tr>\n",
       "  </tbody>\n",
       "</table>\n",
       "<p>5 rows × 55 columns</p>\n",
       "</div>"
      ],
      "text/plain": [
       "        cellLabelInImage  cellSize     HOECHST1      CD38      CD19      CD31  \\\n",
       "100323                 1        32  6217.750000  0.059920  0.654999  0.032532   \n",
       "100325                 3        36  7420.944444  0.022436  0.000000  0.042907   \n",
       "100326                 4        69  3705.710145  0.024005  0.323413  0.010868   \n",
       "100327                 5        90  4915.988889  1.000000  0.156977  1.000000   \n",
       "100328                 6        52  3826.634615  0.620176  0.205964  0.707579   \n",
       "\n",
       "        Vimentin      CD22      Ki67       CD8  ...     CD104     CD273  \\\n",
       "100323  0.005859  1.000000  0.014643  0.020922  ...  0.094049  0.012020   \n",
       "100325  0.082692  0.000000  0.041960  1.000000  ...  0.032645  0.010791   \n",
       "100326  0.450219  0.166603  0.396156  0.158482  ...  0.045545  0.016825   \n",
       "100327  0.476991  0.060118  0.048008  0.129422  ...  0.037174  0.275244   \n",
       "100328  0.059099  0.148487  0.030935  0.603836  ...  0.005686  0.760503   \n",
       "\n",
       "        FAPalpha  Ecadherin            PointNum  cluster.term   centroid_x  \\\n",
       "100323  0.029262   0.149702  reg001_X04_Y08_Z08   B-CD22-CD40  3025.468750   \n",
       "100325  0.167671   0.039669  reg001_X04_Y08_Z08         CD8 T  3025.777778   \n",
       "100326  0.163844   0.166694  reg001_X04_Y08_Z08        B-Ki67  3026.173913   \n",
       "100327  0.394651   1.000000  reg001_X04_Y08_Z08        Plasma  3026.588889   \n",
       "100328  0.261925   0.236684  reg001_X04_Y08_Z08         CD8 T  3025.538462   \n",
       "\n",
       "         centroid_y  X_view  Y_view  \n",
       "100323  3317.468750       4       8  \n",
       "100325  2929.083333       4       8  \n",
       "100326  2979.115942       4       8  \n",
       "100327  3074.522222       4       8  \n",
       "100328  3213.461538       4       8  \n",
       "\n",
       "[5 rows x 55 columns]"
      ]
     },
     "execution_count": 2,
     "metadata": {},
     "output_type": "execute_result"
    }
   ],
   "source": [
    "# load data\n",
    "\n",
    "load_path = '/mnt/cloud1/sheng-projects/st_projects/spatial_clust/data/tonsil/'\n",
    "metaload_path = '/mnt/cloud1/sheng-projects/st_projects/spatial_clust/data/tonsil/processed_data/meta_data/'\n",
    "df_clean = pd.read_csv(os.path.join(metaload_path , \"features_and_metadata.csv\"), index_col=0) # already cleaned\n",
    "xrange = [ 4, 5, 6, 7, 8]\n",
    "yrange = [8, 9, 10, 11, 12, 13]\n",
    "df_clean = df_clean[df_clean[\"X_view\"].isin(xrange) & df_clean[\"Y_view\"].isin(yrange)]\n",
    "df_clean.head()"
   ]
  },
  {
   "cell_type": "code",
   "execution_count": 3,
   "id": "24363e6f",
   "metadata": {},
   "outputs": [
    {
     "data": {
      "text/plain": [
       "(102574, 47)"
      ]
     },
     "execution_count": 3,
     "metadata": {},
     "output_type": "execute_result"
    }
   ],
   "source": [
    "df = df_clean\n",
    "features_names = [\n",
    "        'HOECHST1', 'CD38', 'CD19', 'CD31',\n",
    "        'Vimentin', 'CD22', 'Ki67', 'CD8', 'CD90', 'CD123', 'CD15', 'CD3',\n",
    "        'CD152', 'CD21', 'cytokeratin', 'CD2', 'CD66', 'collagen IV', 'CD81',\n",
    "        'HLA-DR', 'CD57', 'CD4', 'CD7', 'CD278', 'podoplanin', 'CD45RA', 'CD34',\n",
    "        'CD54', 'CD9', 'IGM', 'CD117', 'CD56', 'CD279', 'CD45', 'CD49f', 'CD5',\n",
    "        'CD16', 'CD63', 'CD11b', 'CD1c', 'CD40', 'CD274', 'CD27', 'CD104',\n",
    "        'CD273', 'FAPalpha', 'Ecadherin'\n",
    "    ]\n",
    "features = df[features_names].to_numpy()\n",
    "features = utils.center_scale(features)\n",
    "features.shape"
   ]
  },
  {
   "cell_type": "code",
   "execution_count": 11,
   "id": "400a14cf",
   "metadata": {},
   "outputs": [],
   "source": [
    "df_clean.to_csv('../data/feature_meta.csv', index=False)"
   ]
  },
  {
   "cell_type": "markdown",
   "id": "9832089f",
   "metadata": {},
   "source": [
    "### read nbhd information"
   ]
  },
  {
   "cell_type": "code",
   "execution_count": 4,
   "id": "6c78d70a",
   "metadata": {},
   "outputs": [
    {
     "data": {
      "text/plain": [
       "(102574, 12)"
      ]
     },
     "execution_count": 4,
     "metadata": {},
     "output_type": "execute_result"
    }
   ],
   "source": [
    "nbhd_compo = np.load('../data/cell_nbhd_res0.5_k20.npy')\n",
    "nbhd_compo  = utils.center_scale(nbhd_compo)\n",
    "nbhd_compo.shape"
   ]
  },
  {
   "cell_type": "code",
   "execution_count": 6,
   "id": "765296fa",
   "metadata": {},
   "outputs": [
    {
     "data": {
      "text/html": [
       "<style>#sk-container-id-1 {color: black;background-color: white;}#sk-container-id-1 pre{padding: 0;}#sk-container-id-1 div.sk-toggleable {background-color: white;}#sk-container-id-1 label.sk-toggleable__label {cursor: pointer;display: block;width: 100%;margin-bottom: 0;padding: 0.3em;box-sizing: border-box;text-align: center;}#sk-container-id-1 label.sk-toggleable__label-arrow:before {content: \"▸\";float: left;margin-right: 0.25em;color: #696969;}#sk-container-id-1 label.sk-toggleable__label-arrow:hover:before {color: black;}#sk-container-id-1 div.sk-estimator:hover label.sk-toggleable__label-arrow:before {color: black;}#sk-container-id-1 div.sk-toggleable__content {max-height: 0;max-width: 0;overflow: hidden;text-align: left;background-color: #f0f8ff;}#sk-container-id-1 div.sk-toggleable__content pre {margin: 0.2em;color: black;border-radius: 0.25em;background-color: #f0f8ff;}#sk-container-id-1 input.sk-toggleable__control:checked~div.sk-toggleable__content {max-height: 200px;max-width: 100%;overflow: auto;}#sk-container-id-1 input.sk-toggleable__control:checked~label.sk-toggleable__label-arrow:before {content: \"▾\";}#sk-container-id-1 div.sk-estimator input.sk-toggleable__control:checked~label.sk-toggleable__label {background-color: #d4ebff;}#sk-container-id-1 div.sk-label input.sk-toggleable__control:checked~label.sk-toggleable__label {background-color: #d4ebff;}#sk-container-id-1 input.sk-hidden--visually {border: 0;clip: rect(1px 1px 1px 1px);clip: rect(1px, 1px, 1px, 1px);height: 1px;margin: -1px;overflow: hidden;padding: 0;position: absolute;width: 1px;}#sk-container-id-1 div.sk-estimator {font-family: monospace;background-color: #f0f8ff;border: 1px dotted black;border-radius: 0.25em;box-sizing: border-box;margin-bottom: 0.5em;}#sk-container-id-1 div.sk-estimator:hover {background-color: #d4ebff;}#sk-container-id-1 div.sk-parallel-item::after {content: \"\";width: 100%;border-bottom: 1px solid gray;flex-grow: 1;}#sk-container-id-1 div.sk-label:hover label.sk-toggleable__label {background-color: #d4ebff;}#sk-container-id-1 div.sk-serial::before {content: \"\";position: absolute;border-left: 1px solid gray;box-sizing: border-box;top: 0;bottom: 0;left: 50%;z-index: 0;}#sk-container-id-1 div.sk-serial {display: flex;flex-direction: column;align-items: center;background-color: white;padding-right: 0.2em;padding-left: 0.2em;position: relative;}#sk-container-id-1 div.sk-item {position: relative;z-index: 1;}#sk-container-id-1 div.sk-parallel {display: flex;align-items: stretch;justify-content: center;background-color: white;position: relative;}#sk-container-id-1 div.sk-item::before, #sk-container-id-1 div.sk-parallel-item::before {content: \"\";position: absolute;border-left: 1px solid gray;box-sizing: border-box;top: 0;bottom: 0;left: 50%;z-index: -1;}#sk-container-id-1 div.sk-parallel-item {display: flex;flex-direction: column;z-index: 1;position: relative;background-color: white;}#sk-container-id-1 div.sk-parallel-item:first-child::after {align-self: flex-end;width: 50%;}#sk-container-id-1 div.sk-parallel-item:last-child::after {align-self: flex-start;width: 50%;}#sk-container-id-1 div.sk-parallel-item:only-child::after {width: 0;}#sk-container-id-1 div.sk-dashed-wrapped {border: 1px dashed gray;margin: 0 0.4em 0.5em 0.4em;box-sizing: border-box;padding-bottom: 0.4em;background-color: white;}#sk-container-id-1 div.sk-label label {font-family: monospace;font-weight: bold;display: inline-block;line-height: 1.2em;}#sk-container-id-1 div.sk-label-container {text-align: center;}#sk-container-id-1 div.sk-container {/* jupyter's `normalize.less` sets `[hidden] { display: none; }` but bootstrap.min.css set `[hidden] { display: none !important; }` so we also need the `!important` here to be able to override the default hidden behavior on the sphinx rendered scikit-learn.org. See: https://github.com/scikit-learn/scikit-learn/issues/21755 */display: inline-block !important;position: relative;}#sk-container-id-1 div.sk-text-repr-fallback {display: none;}</style><div id=\"sk-container-id-1\" class=\"sk-top-container\"><div class=\"sk-text-repr-fallback\"><pre>CCA(n_components=12, scale=False)</pre><b>In a Jupyter environment, please rerun this cell to show the HTML representation or trust the notebook. <br />On GitHub, the HTML representation is unable to render, please try loading this page with nbviewer.org.</b></div><div class=\"sk-container\" hidden><div class=\"sk-item\"><div class=\"sk-estimator sk-toggleable\"><input class=\"sk-toggleable__control sk-hidden--visually\" id=\"sk-estimator-id-1\" type=\"checkbox\" checked><label for=\"sk-estimator-id-1\" class=\"sk-toggleable__label sk-toggleable__label-arrow\">CCA</label><div class=\"sk-toggleable__content\"><pre>CCA(n_components=12, scale=False)</pre></div></div></div></div></div>"
      ],
      "text/plain": [
       "CCA(n_components=12, scale=False)"
      ]
     },
     "execution_count": 6,
     "metadata": {},
     "output_type": "execute_result"
    }
   ],
   "source": [
    "# start cca\n",
    "cca = CCA(scale=False, n_components=12)\n",
    "cca.fit(features, nbhd_compo)"
   ]
  },
  {
   "cell_type": "code",
   "execution_count": 7,
   "id": "9f519a10",
   "metadata": {},
   "outputs": [],
   "source": [
    "X1_c, X2_c = cca.transform(features, nbhd_compo)"
   ]
  },
  {
   "cell_type": "code",
   "execution_count": 8,
   "id": "89210f1b",
   "metadata": {},
   "outputs": [
    {
     "data": {
      "text/plain": [
       "(102574, 12)"
      ]
     },
     "execution_count": 8,
     "metadata": {},
     "output_type": "execute_result"
    }
   ],
   "source": [
    "X1_c.shape"
   ]
  },
  {
   "cell_type": "code",
   "execution_count": 9,
   "id": "0585df9e",
   "metadata": {},
   "outputs": [],
   "source": [
    "pd.DataFrame(X1_c).to_csv('../data/cca12_feat.csv', index=False)"
   ]
  }
 ],
 "metadata": {
  "kernelspec": {
   "display_name": "Python 3 (ipykernel)",
   "language": "python",
   "name": "python3"
  },
  "language_info": {
   "codemirror_mode": {
    "name": "ipython",
    "version": 3
   },
   "file_extension": ".py",
   "mimetype": "text/x-python",
   "name": "python",
   "nbconvert_exporter": "python",
   "pygments_lexer": "ipython3",
   "version": "3.10.9"
  }
 },
 "nbformat": 4,
 "nbformat_minor": 5
}
