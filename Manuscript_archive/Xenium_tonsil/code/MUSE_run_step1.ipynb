{
 "cells": [
  {
   "cell_type": "code",
   "execution_count": 8,
   "id": "0f2bf18f",
   "metadata": {},
   "outputs": [],
   "source": [
    "#! pip install tensorflow_hub\n",
    "#! pip install opencv-python"
   ]
  },
  {
   "cell_type": "code",
   "execution_count": 1,
   "id": "4d851c2b",
   "metadata": {},
   "outputs": [],
   "source": [
    "'''\n",
    "Inference of inception-v3 model with pretrained parameters on ImageNet\n",
    "'''\n",
    "\n",
    "import tensorflow.compat.v1 as tf\n",
    "# To make tf 2.0 compatible with tf1.0 code, we disable the tf2.0 functionalities\n",
    "tf.disable_eager_execution()\n",
    "import tensorflow_hub as hub\n",
    "import numpy as np\n",
    "#import cv2\n",
    "import pandas as pd\n",
    "import os\n",
    "#import tqdm\n",
    "from skimage.transform import resize\n",
    "import matplotlib.pyplot as plt\n",
    "from tqdm import tqdm"
   ]
  },
  {
   "cell_type": "code",
   "execution_count": 2,
   "id": "af46bfbe",
   "metadata": {},
   "outputs": [
    {
     "data": {
      "text/plain": [
       "'Img_32109.npy'"
      ]
     },
     "execution_count": 2,
     "metadata": {},
     "output_type": "execute_result"
    }
   ],
   "source": [
    "arr = os.listdir('../data/muse_images/')\n",
    "arr[0]"
   ]
  },
  {
   "cell_type": "code",
   "execution_count": 3,
   "id": "83251d9e",
   "metadata": {},
   "outputs": [
    {
     "data": {
      "text/plain": [
       "158259"
      ]
     },
     "execution_count": 3,
     "metadata": {},
     "output_type": "execute_result"
    }
   ],
   "source": [
    "len(arr)"
   ]
  },
  {
   "cell_type": "code",
   "execution_count": 12,
   "id": "3ef5a6bb",
   "metadata": {},
   "outputs": [
    {
     "name": "stdout",
     "output_type": "stream",
     "text": [
      "INFO:tensorflow:Saver not created because there are no variables in the graph to restore\n"
     ]
    },
    {
     "name": "stderr",
     "output_type": "stream",
     "text": [
      "100%|██████████| 166363/166363 [1:30:08<00:00, 30.76it/s]\n"
     ]
    }
   ],
   "source": [
    "# Load saved inception-v3 model\n",
    "module = hub.Module(\"../../Liver_smi/data/inception_v3-1/\")\n",
    "\n",
    "# images should be resized to 299x299\n",
    "input_imgs = tf.placeholder(tf.float32, shape=[None, 299, 299, 3])\n",
    "features = module(input_imgs)\n",
    "image_no = 158259\n",
    "res = []\n",
    "\n",
    "with tf.Session() as sess:\n",
    "    sess.run(tf.global_variables_initializer())\n",
    "\n",
    "    for member in tqdm(range(image_no)):\n",
    "        dird = '../data/muse_images/Img_' + str(member) + '.npy'\n",
    "        img = np.load(dird)\n",
    "        img = resize(img, (299, 299, 3))\n",
    "        fea = sess.run(features, feed_dict={input_imgs: img[None, :, :, :]}) # train one - one to save memory loading\n",
    "        res.append(fea)"
   ]
  },
  {
   "cell_type": "code",
   "execution_count": 17,
   "id": "fc94eb21",
   "metadata": {},
   "outputs": [
    {
     "data": {
      "text/plain": [
       "(166363, 2048)"
      ]
     },
     "execution_count": 17,
     "metadata": {},
     "output_type": "execute_result"
    }
   ],
   "source": [
    "#res = np.array(res).squeeze(1)\n",
    "np.save('../data/muse_images/Inception_img_feature_xton.npy', res)\n",
    "res.shape"
   ]
  }
 ],
 "metadata": {
  "kernelspec": {
   "display_name": "Python 3",
   "language": "python",
   "name": "python3"
  },
  "language_info": {
   "codemirror_mode": {
    "name": "ipython",
    "version": 3
   },
   "file_extension": ".py",
   "mimetype": "text/x-python",
   "name": "python",
   "nbconvert_exporter": "python",
   "pygments_lexer": "ipython3",
   "version": "3.6.13"
  }
 },
 "nbformat": 4,
 "nbformat_minor": 5
}
