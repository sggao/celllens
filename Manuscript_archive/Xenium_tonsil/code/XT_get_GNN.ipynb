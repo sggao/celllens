{
 "cells": [
  {
   "cell_type": "code",
   "execution_count": 1,
   "id": "fa2fe983",
   "metadata": {},
   "outputs": [
    {
     "name": "stderr",
     "output_type": "stream",
     "text": [
      "/home/bokai/miniconda3/envs/cellsnap/lib/python3.10/site-packages/tqdm/auto.py:22: TqdmWarning: IProgress not found. Please update jupyter and ipywidgets. See https://ipywidgets.readthedocs.io/en/stable/user_install.html\n",
      "  from .autonotebook import tqdm as notebook_tqdm\n"
     ]
    }
   ],
   "source": [
    "import torch\n",
    "from torch.utils.data import Dataset\n",
    "import sys\n",
    "sys.path.append(\"../../../../\")\n",
    "import model\n",
    "\n",
    "import warnings\n",
    "import numpy as np\n",
    "import leidenalg\n",
    "import igraph as ig\n",
    "import scanpy as sc\n",
    "import anndata as ad\n",
    "from sklearn.neighbors import NearestNeighbors\n",
    "from collections import defaultdict\n",
    "import graph\n",
    "\n",
    "import torch.nn as nn\n",
    "import torch.nn.functional as F\n",
    "import pandas as pd\n",
    "import matplotlib.pyplot as plt\n",
    "import scipy\n",
    "import skimage\n",
    "import utils\n",
    "import os\n",
    "from tqdm import tqdm\n",
    "import torch.optim as optim\n",
    "from torch_geometric.nn import GCNConv\n",
    "\n",
    "import seaborn as sns\n",
    "import umap\n",
    "from sklearn.decomposition import PCA\n",
    "from validclust import dunn\n",
    "from sklearn.metrics import pairwise_distances\n",
    "\n",
    "plt.rcParams[\"figure.figsize\"] = (8, 6)\n"
   ]
  },
  {
   "cell_type": "code",
   "execution_count": 2,
   "id": "4cfb4932",
   "metadata": {},
   "outputs": [],
   "source": [
    "class SNAP_GNN(nn.Module):\n",
    "    def __init__(self, args):\n",
    "        super().__init__()\n",
    "        self.fc = nn.Linear(in_features=args.gnn_input_dim, out_features=args.fc_dim)\n",
    "        self.cnn_fc = nn.Linear(in_features=args.cnn_input_dim, out_features=args.cnn_dim)\n",
    "        self.feat_conv1 = GCNConv(args.fc_dim, args.latent_dim)\n",
    "        self.feat_conv2 = GCNConv(args.latent_dim, args.fc_out_dim)\n",
    "        \n",
    "        self.spat_conv1 = GCNConv(args.cnn_dim, args.cnn_latent_dim)\n",
    "        self.spat_conv2 = GCNConv(args.cnn_latent_dim, args.cnn_out_dim)\n",
    "        \n",
    "        self.proj1 = nn.Linear(in_features=args.fc_out_dim+args.cnn_out_dim, \n",
    "                              out_features=args.hid_out_dim)\n",
    "        self.proj2 = nn.Linear(in_features=args.hid_out_dim, \n",
    "                              out_features=args.out_dim)\n",
    "        #self.proj = nn.Linear(in_features=args.fc_out_dim+args.cnn_out_dim, \n",
    "                              #out_features=args.out_dim)\n",
    "\n",
    "    def feat_gnn_encoder(self, feat, feat_edge_index):\n",
    "        feat = F.relu(self.fc(feat))\n",
    "        feat = F.relu(self.feat_conv1(feat, feat_edge_index))\n",
    "        feat = self.feat_conv2(feat, feat_edge_index)\n",
    "        \n",
    "        return feat\n",
    "    \n",
    "    def spat_gnn_encoder(self, spat, spat_edge_index):\n",
    "        spat = F.relu(self.cnn_fc(spat))\n",
    "        spat = F.relu(self.spat_conv1(spat, spat_edge_index))\n",
    "        spat = self.spat_conv2(spat, spat_edge_index)\n",
    "        \n",
    "        return spat\n",
    "    \n",
    "    def encoder(self, feat, spat, feat_edge_index, spat_edge_index):\n",
    "        x_feat = self.feat_gnn_encoder(feat, feat_edge_index)\n",
    "        x_spat = self.spat_gnn_encoder(spat, spat_edge_index)\n",
    "        x = torch.cat((x_feat, x_spat), dim = 1)\n",
    "        return x\n",
    "    \n",
    "\n",
    "    def forward(self, feat, spat, feat_edge_index, spat_edge_index):\n",
    "        x = F.relu(self.encoder(feat, spat, feat_edge_index, spat_edge_index))\n",
    "        x = self.proj1(x)\n",
    "        x = F.relu(x)\n",
    "        x = self.proj2(x)\n",
    "        return x\n"
   ]
  },
  {
   "cell_type": "code",
   "execution_count": 3,
   "id": "89883a0c",
   "metadata": {},
   "outputs": [],
   "source": [
    "class Args:\n",
    "    gnn_input_dim = 30 # doing 30 pc here\n",
    "    cnn_input_dim = 128\n",
    "    fc_dim = latent_dim = 32\n",
    "    cnn_dim = cnn_latent_dim = 32\n",
    "    out_dim = 8 * 2\n",
    "    #fc_out_dim = cnn_out_dim = 16\n",
    "    fc_out_dim = 33\n",
    "    cnn_out_dim = 11\n",
    "    hid_out_dim = 33\n",
    "    # fc_out_dim = 30\n",
    "    # cnn_out_dim = 10\n",
    "    # hid_out_dim = 30\n",
    "\n",
    "\n",
    "    criterion = \"L1\"\n",
    "    learning_rate = 1e-3\n",
    "    epochs = 10000\n",
    "    print_every = 1000\n",
    "    average_iter = 100\n",
    "    device = 'cuda:1' if torch.cuda.is_available() else 'cpu'\n",
    "\n",
    "args = Args()"
   ]
  },
  {
   "cell_type": "code",
   "execution_count": 7,
   "id": "a30b6f4a",
   "metadata": {},
   "outputs": [],
   "source": [
    "# bokai \n",
    "metaload_path = '../data/'\n",
    "# sheng other meta\n",
    "metaload_path2 = '../data/' # only for images etc\n",
    "\n",
    "cell_nbhd = np.load(os.path.join(metaload_path,  \"Xrln_cell_nbhd_res0.5_k20.npy\"))\n",
    "train_mask = np.load(os.path.join(metaload_path2, \"Xrln_train_mask.npy\"))\n",
    "feature_labels = np.load(os.path.join(metaload_path,  \"Xlrn_feature_labels_res0.5.npy\"))\n",
    "feature_edges = np.load(os.path.join(metaload_path,  \"Xlrn_feature_edges_res0.5.npy\"))\n",
    "spatial_edges = np.load(os.path.join(metaload_path,  \"Xrln_spatial_edges.npy\"))"
   ]
  },
  {
   "cell_type": "code",
   "execution_count": 8,
   "id": "07cdc763",
   "metadata": {},
   "outputs": [
    {
     "name": "stdout",
     "output_type": "stream",
     "text": [
      "[(97793, 9), (97793,), 9]\n"
     ]
    }
   ],
   "source": [
    "print([cell_nbhd.shape, train_mask.shape, len(np.unique(feature_labels))])"
   ]
  },
  {
   "cell_type": "code",
   "execution_count": 11,
   "id": "351172bb",
   "metadata": {},
   "outputs": [
    {
     "name": "stdout",
     "output_type": "stream",
     "text": [
      "[(97793, 18), (97793, 30)]\n"
     ]
    }
   ],
   "source": [
    "meta = pd.read_csv('../data/Xrln_sub_meta.csv')\n",
    "pc = pd.read_csv('../data/Xrln_sub_pc.csv').iloc[:,:30].to_numpy()\n",
    "print([meta.shape, pc.shape])"
   ]
  },
  {
   "cell_type": "code",
   "execution_count": 13,
   "id": "0161c139",
   "metadata": {},
   "outputs": [],
   "source": [
    "features = torch.from_numpy(pc).float().to(args.device)\n",
    "feat_edge_index = torch.from_numpy(np.array(feature_edges.T[:2])).long().to(args.device)\n",
    "spat_edge_index = torch.from_numpy(np.array(spatial_edges.T[:2])).long().to(args.device)"
   ]
  },
  {
   "cell_type": "code",
   "execution_count": 15,
   "id": "0e70a14c",
   "metadata": {},
   "outputs": [],
   "source": [
    "cnn_embedding = np.load(\"../data/Xrln_cnn/cnn_512_l1_layer6/epochs/embed/cnn_512_notrans_l1_layer6_byepoch/cnn_embedding_512_full_l1_dim128_epoch400.npy\")\n",
    "args.criterion = \"L1\"\n",
    "verbose = True\n",
    "model = SNAP_GNN(args)\n",
    "cnn_feature = torch.from_numpy(cnn_embedding).float().to(args.device)"
   ]
  },
  {
   "cell_type": "code",
   "execution_count": 16,
   "id": "dde5a33d",
   "metadata": {},
   "outputs": [
    {
     "name": "stdout",
     "output_type": "stream",
     "text": [
      "(97793, 18)\n"
     ]
    }
   ],
   "source": [
    "meta['res0.5'] = feature_labels\n",
    "reslabel = pd.get_dummies(meta['res0.5'])\n",
    "combo_nbhd = np.hstack([reslabel, cell_nbhd])\n",
    "print(combo_nbhd.shape)\n",
    "combo_nbhd = torch.from_numpy(combo_nbhd).float().to(args.device)"
   ]
  },
  {
   "cell_type": "code",
   "execution_count": 17,
   "id": "6db14f64",
   "metadata": {},
   "outputs": [],
   "source": [
    "def get_gnn_embed(model, cell_nbhd, feat, spat, feat_edge_index, spat_edge_index, verbose=False):\n",
    "    optimizer = optim.Adam(model.parameters(), lr=args.learning_rate)\n",
    "    cell_nbhd = cell_nbhd.to(args.device)\n",
    "    model = model.to(args.device)\n",
    "    if args.criterion == \"L1\":\n",
    "        print(\"Use L1 Loss\")\n",
    "        criterion = nn.L1Loss()\n",
    "    elif args.criterion == \"L2\":\n",
    "        print(\"Use L2 Loss\")\n",
    "        criterion = nn.MSELoss()\n",
    "    else:\n",
    "        print(\"Cross Entropy\")\n",
    "        criterion = nn.CrossEntropyLoss()\n",
    "\n",
    "    train_loss_epoch = []\n",
    "    #criterion = nn.L1Loss()\n",
    "    for e in range(1, 1+args.epochs):\n",
    "        model.train()\n",
    "        predicted_nbhd = model(features, cnn_feature, feat_edge_index, spat_edge_index)\n",
    "        # Compute prediction error\n",
    "        loss = criterion(predicted_nbhd, cell_nbhd)\n",
    "        # Backpropagation\n",
    "        optimizer.zero_grad()\n",
    "        loss.backward()\n",
    "\n",
    "        # take one step\n",
    "        optimizer.step()\n",
    "\n",
    "        # record the loss\n",
    "        curr_train_loss = loss.item()\n",
    "        if verbose and e % args.print_every  == 0:\n",
    "            print(f'===Epoch {e}, the training loss is {curr_train_loss:>0.8f}==', flush=True)\n",
    "        train_loss_epoch.append(curr_train_loss)\n",
    "    return model.encoder(feat, spat, feat_edge_index, spat_edge_index).cpu().detach().numpy()\n"
   ]
  },
  {
   "cell_type": "code",
   "execution_count": 18,
   "id": "35dd663c",
   "metadata": {},
   "outputs": [
    {
     "name": "stdout",
     "output_type": "stream",
     "text": [
      "Use L1 Loss\n",
      "===Epoch 1000, the training loss is 0.02774606==\n",
      "===Epoch 2000, the training loss is 0.02504230==\n",
      "===Epoch 3000, the training loss is 0.02396329==\n",
      "===Epoch 4000, the training loss is 0.02185876==\n",
      "===Epoch 5000, the training loss is 0.02136255==\n",
      "===Epoch 6000, the training loss is 0.02064385==\n",
      "===Epoch 7000, the training loss is 0.02028715==\n",
      "===Epoch 8000, the training loss is 0.02002422==\n",
      "===Epoch 9000, the training loss is 0.01896910==\n",
      "===Epoch 10000, the training loss is 0.01824022==\n",
      "Use L1 Loss\n",
      "===Epoch 1000, the training loss is 0.03011092==\n",
      "===Epoch 2000, the training loss is 0.02616545==\n",
      "===Epoch 3000, the training loss is 0.02561711==\n",
      "===Epoch 4000, the training loss is 0.02351835==\n",
      "===Epoch 5000, the training loss is 0.02303690==\n",
      "===Epoch 6000, the training loss is 0.02245164==\n",
      "===Epoch 7000, the training loss is 0.02145724==\n",
      "===Epoch 8000, the training loss is 0.02061862==\n",
      "===Epoch 9000, the training loss is 0.02047421==\n",
      "===Epoch 10000, the training loss is 0.01989928==\n",
      "Use L1 Loss\n",
      "===Epoch 1000, the training loss is 0.02801563==\n",
      "===Epoch 2000, the training loss is 0.02445427==\n",
      "===Epoch 3000, the training loss is 0.02187116==\n",
      "===Epoch 4000, the training loss is 0.02144454==\n",
      "===Epoch 5000, the training loss is 0.01968152==\n",
      "===Epoch 6000, the training loss is 0.01920666==\n",
      "===Epoch 7000, the training loss is 0.01895516==\n",
      "===Epoch 8000, the training loss is 0.01864672==\n",
      "===Epoch 9000, the training loss is 0.01849111==\n",
      "===Epoch 10000, the training loss is 0.01824819==\n",
      "Use L1 Loss\n",
      "===Epoch 1000, the training loss is 0.02706855==\n",
      "===Epoch 2000, the training loss is 0.02312424==\n",
      "===Epoch 3000, the training loss is 0.02168805==\n",
      "===Epoch 4000, the training loss is 0.02083602==\n",
      "===Epoch 5000, the training loss is 0.02007931==\n",
      "===Epoch 6000, the training loss is 0.01890251==\n",
      "===Epoch 7000, the training loss is 0.01821889==\n",
      "===Epoch 8000, the training loss is 0.01821969==\n",
      "===Epoch 9000, the training loss is 0.01792064==\n",
      "===Epoch 10000, the training loss is 0.01766809==\n",
      "Use L1 Loss\n",
      "===Epoch 1000, the training loss is 0.02492665==\n",
      "===Epoch 2000, the training loss is 0.02256301==\n",
      "===Epoch 3000, the training loss is 0.02140141==\n",
      "===Epoch 4000, the training loss is 0.02112868==\n",
      "===Epoch 5000, the training loss is 0.02083309==\n",
      "===Epoch 6000, the training loss is 0.02055418==\n",
      "===Epoch 7000, the training loss is 0.01918165==\n",
      "===Epoch 8000, the training loss is 0.01864961==\n",
      "===Epoch 9000, the training loss is 0.01785988==\n",
      "===Epoch 10000, the training loss is 0.01765369==\n"
     ]
    },
    {
     "data": {
      "image/png": "[encoded data removed]",
      "text/plain": [
       "<Figure size 800x600 with 1 Axes>"
      ]
     },
     "metadata": {},
     "output_type": "display_data"
    }
   ],
   "source": [
    "stable = True\n",
    "if stable:\n",
    "    rep = 5\n",
    "    dim = args.fc_out_dim + args.cnn_out_dim\n",
    "    concat_embedding = np.zeros((features.shape[0], rep * dim))\n",
    "    for i in range(rep):\n",
    "        gnn_embedding = get_gnn_embed(SNAP_GNN(args), combo_nbhd, features, cnn_feature, feat_edge_index, spat_edge_index, verbose=True)\n",
    "        concat_embedding[:, i*dim : (i+1)*dim] = gnn_embedding\n",
    "    Ue, Se, Vhe = np.linalg.svd(concat_embedding, full_matrices=False)\n",
    "\n",
    "    plt.plot(Se)\n",
    "    k = 32\n",
    "    gnn_embedding = Ue[:, :k] @ np.diag(Se[:k])\n",
    "else:\n",
    "    gnn_embedding = get_gnn_embed(SNAP_GNN(args), combo_nbhd, features, cnn_feature, feat_edge_index, spat_edge_index, verbose=True)\n"
   ]
  },
  {
   "cell_type": "markdown",
   "id": "daba61c4",
   "metadata": {},
   "source": [
    "### quick check if clusters makesense"
   ]
  },
  {
   "cell_type": "code",
   "execution_count": 22,
   "id": "8fd36833",
   "metadata": {},
   "outputs": [
    {
     "name": "stderr",
     "output_type": "stream",
     "text": [
      "/tmp/ipykernel_602155/2191749800.py:1: FutureWarning: X.dtype being converted to np.float32 from float64. In the next version of anndata (0.9) conversion will not be automatic. Pass dtype explicitly to avoid this warning. Pass `AnnData(X, dtype=X.dtype, ...)` to get the future behavour.\n",
      "  gnn_adata = ad.AnnData(gnn_embedding)\n"
     ]
    }
   ],
   "source": [
    "gnn_adata = ad.AnnData(gnn_embedding)\n",
    "sc.pp.scale(gnn_adata)\n",
    "gnn_adata.obs['annotation'] = list(meta['leiden'].astype(str))\n",
    "sc.tl.pca(gnn_adata, svd_solver='arpack')\n",
    "# sc.pp.neighbors(feature_adata, n_neighbors=10, n_pcs=40)"
   ]
  },
  {
   "cell_type": "code",
   "execution_count": 24,
   "id": "bfafa963",
   "metadata": {},
   "outputs": [],
   "source": [
    "sc.pp.neighbors(gnn_adata, n_neighbors=10)\n",
    "sc.tl.umap(gnn_adata)\n",
    "plt.rcParams[\"figure.figsize\"] = (5,5)\n",
    "sc.pl.umap(gnn_adata, color='annotation', legend_fontsize=12, show=False)"
   ]
  },
  {
   "cell_type": "code",
   "execution_count": 14,
   "id": "0a0b68f2",
   "metadata": {},
   "outputs": [],
   "source": [
    "save_folder = '../data/'\n",
    "if not os.path.exists(save_folder):\n",
    "    os.mkdir(save_folder)\n",
    "np.save(os.path.join(save_folder, f\"Xrln_double_snap_combo_stable.npy\"), gnn_embedding)"
   ]
  },
  {
   "cell_type": "code",
   "execution_count": null,
   "id": "b332c848",
   "metadata": {},
   "outputs": [],
   "source": []
  }
 ],
 "metadata": {
  "kernelspec": {
   "display_name": "Python 3 (ipykernel)",
   "language": "python",
   "name": "python3"
  },
  "language_info": {
   "codemirror_mode": {
    "name": "ipython",
    "version": 3
   },
   "file_extension": ".py",
   "mimetype": "text/x-python",
   "name": "python",
   "nbconvert_exporter": "python",
   "pygments_lexer": "ipython3",
   "version": "3.10.9"
  }
 },
 "nbformat": 4,
 "nbformat_minor": 5
}
