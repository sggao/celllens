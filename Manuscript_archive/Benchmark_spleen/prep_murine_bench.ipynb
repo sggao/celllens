{
 "cells": [
  {
   "cell_type": "code",
   "execution_count": 1,
   "id": "51a150bb",
   "metadata": {},
   "outputs": [],
   "source": [
    "import pandas as pd\n",
    "import numpy as np\n",
    "import matplotlib.pyplot as plt\n",
    "import matplotlib.patches as mpatches\n",
    "import scipy\n",
    "import skimage\n",
    "# import custom functions\n",
    "import sys\n",
    "sys.path.append(\"../../../../../\")\n",
    "import utils\n",
    "import os\n",
    "from tqdm import tqdm\n",
    "import torch\n",
    "from skimage.io import imread\n",
    "from scipy.io import loadmat\n",
    "from skimage.measure import regionprops\n",
    "from skimage.transform import resize\n",
    "import torch.nn as nn\n",
    "import torch.nn.functional as F\n",
    "import torch.optim as optim\n",
    "import os\n",
    "import re\n",
    "import graph\n"
   ]
  },
  {
   "cell_type": "code",
   "execution_count": 2,
   "id": "41c6370d",
   "metadata": {},
   "outputs": [],
   "source": [
    "# load data\n",
    "df = pd.read_csv('../../../../../../data/codex_murine/features_and_metadataV2.csv', index_col = 0)\n",
    "#df.head()"
   ]
  },
  {
   "cell_type": "code",
   "execution_count": 3,
   "id": "bf3d317a",
   "metadata": {},
   "outputs": [],
   "source": [
    "# save out\n",
    "# feature edge\n",
    "# feature label\n",
    "# cell nbhd\n",
    "# spatial edge\n",
    "\n",
    "features_names = [\n",
    "        'CD45',\n",
    "        'Ly6C',\n",
    "        'TCR',\n",
    "        'Ly6G',\n",
    "        'CD19',\n",
    "        'CD169',\n",
    "        'CD106',\n",
    "        'CD3',\n",
    "        'CD1632',\n",
    "        'CD8a',\n",
    "        'CD90',\n",
    "        'F480',\n",
    "        'CD11c',\n",
    "        'Ter119',\n",
    "        'CD11b',\n",
    "        'IgD',\n",
    "        'CD27',\n",
    "        'CD5',\n",
    "        'CD79b',\n",
    "        'CD71',\n",
    "        'CD31',\n",
    "        'CD4',\n",
    "        'IgM',\n",
    "        'B220',\n",
    "        'ERTR7',\n",
    "        'MHCII',\n",
    "        'CD35',\n",
    "        'CD2135',\n",
    "        'CD44',\n",
    "        'nucl',\n",
    "        'NKp46'\n",
    "    ]\n",
    "features = df[features_names].to_numpy()\n",
    "features = utils.center_scale(features)\n"
   ]
  },
  {
   "cell_type": "code",
   "execution_count": 4,
   "id": "82c0098a",
   "metadata": {},
   "outputs": [],
   "source": [
    "data_dir = '../data/'"
   ]
  },
  {
   "cell_type": "code",
   "execution_count": 5,
   "id": "04774875",
   "metadata": {},
   "outputs": [
    {
     "name": "stdout",
     "output_type": "stream",
     "text": [
      "Constructing the graph...\n"
     ]
    },
    {
     "name": "stderr",
     "output_type": "stream",
     "text": [
      "/home/bokai/miniconda3/envs/cellsnap/lib/python3.10/site-packages/tqdm/auto.py:22: TqdmWarning: IProgress not found. Please update jupyter and ipywidgets. See https://ipywidgets.readthedocs.io/en/stable/user_install.html\n",
      "  from .autonotebook import tqdm as notebook_tqdm\n"
     ]
    },
    {
     "name": "stdout",
     "output_type": "stream",
     "text": [
      "Done!\n"
     ]
    }
   ],
   "source": [
    "## add for spatial edge\n",
    "locations = df[['centroid_x', 'centroid_y']].to_numpy()\n",
    "spatial_edges = graph.get_spatial_edges(\n",
    "    arr=locations, n_neighbors=15, verbose=True\n",
    ")\n",
    "np.save(os.path.join(data_dir, f'spatial_edges_0326.npy'), np.array(spatial_edges[:2]).T)"
   ]
  },
  {
   "cell_type": "markdown",
   "id": "c0198d68",
   "metadata": {},
   "source": [
    "## Create resolution test"
   ]
  },
  {
   "cell_type": "markdown",
   "id": "f55dfb15",
   "metadata": {},
   "source": [
    "test resolution influence\n",
    "\n",
    "testing 0.2, 0.5, 0.7, 1.0 (set neigh size to 20)"
   ]
  },
  {
   "cell_type": "code",
   "execution_count": 7,
   "id": "861bd215",
   "metadata": {},
   "outputs": [
    {
     "name": "stderr",
     "output_type": "stream",
     "text": [
      "/home/bokai/miniconda3/envs/cellsnap/lib/python3.10/site-packages/tqdm/auto.py:22: TqdmWarning: IProgress not found. Please update jupyter and ipywidgets. See https://ipywidgets.readthedocs.io/en/stable/user_install.html\n",
      "  from .autonotebook import tqdm as notebook_tqdm\n"
     ]
    },
    {
     "name": "stdout",
     "output_type": "stream",
     "text": [
      "Calculating cell neighborhood composition matrix...\n"
     ]
    }
   ],
   "source": [
    "res = 0.2\n",
    "knn = 20\n",
    "\n",
    "feature_edges = graph.get_feature_edges(\n",
    "    arr=features, pca_components=25,\n",
    "    n_neighbors=15, metric='correlation', verbose=False\n",
    ")\n",
    "\n",
    "feature_labels = graph.graph_clustering(\n",
    "    df.shape[0], feature_edges, resolution=res, n_clusters=None, n_runs=1,\n",
    "    resolution_tol=0.05, seed=None, verbose=False\n",
    ")\n",
    "\n",
    "np.save(os.path.join(data_dir, f'feature_labels_res{res}.npy'), feature_labels)\n",
    "np.save(os.path.join(data_dir, f'feature_edges_res{res}.npy'), np.array(feature_edges[:2]).T)\n",
    "\n",
    "print('Calculating cell neighborhood composition matrix...')\n",
    "locations = df[['centroid_x', 'centroid_y']].to_numpy()\n",
    "spatial_knn_indices = graph.get_spatial_knn_indices(locations=locations, n_neighbors=knn, method='kd_tree')\n",
    "cell_nbhd = utils.get_neighborhood_composition(knn_indices=spatial_knn_indices, labels=feature_labels)\n",
    "np.save(os.path.join(data_dir, f'cell_nbhd_res{res}_k{knn}.npy'), cell_nbhd)\n",
    "\n",
    "## The spatial edges were not reproduced on the spleen dataset as it would alway remain the same as long as linking NN-15 cells.\n",
    "#spatial_knn_indices = graph.get_spatial_knn_indices(locations=locations, n_neighbors=15, method='kd_tree')\n",
    "#np.save(os.path.join(data_dir, f'spatial_knn_indices_k15.npy'), spatial_knn_indices) # for CNN smoothing\n"
   ]
  },
  {
   "cell_type": "code",
   "execution_count": 6,
   "id": "8fdff4ad",
   "metadata": {},
   "outputs": [
    {
     "name": "stderr",
     "output_type": "stream",
     "text": [
      "/home/bokai/miniconda3/envs/cellsnap/lib/python3.10/site-packages/tqdm/auto.py:22: TqdmWarning: IProgress not found. Please update jupyter and ipywidgets. See https://ipywidgets.readthedocs.io/en/stable/user_install.html\n",
      "  from .autonotebook import tqdm as notebook_tqdm\n"
     ]
    },
    {
     "name": "stdout",
     "output_type": "stream",
     "text": [
      "Calculating cell neighborhood composition matrix...\n"
     ]
    }
   ],
   "source": [
    "res = 0.5\n",
    "knn = 20\n",
    "\n",
    "feature_edges = graph.get_feature_edges(\n",
    "    arr=features, pca_components=25,\n",
    "    n_neighbors=15, metric='correlation', verbose=False\n",
    ")\n",
    "\n",
    "feature_labels = graph.graph_clustering(\n",
    "    df.shape[0], feature_edges, resolution=res, n_clusters=None, n_runs=1,\n",
    "    resolution_tol=0.05, seed=None, verbose=False\n",
    ")\n",
    "\n",
    "np.save(os.path.join(data_dir, f'feature_labels_res{res}.npy'), feature_labels)\n",
    "np.save(os.path.join(data_dir, f'feature_edges_res{res}.npy'), np.array(feature_edges[:2]).T)\n",
    "\n",
    "print('Calculating cell neighborhood composition matrix...')\n",
    "locations = df[['centroid_x', 'centroid_y']].to_numpy()\n",
    "spatial_knn_indices = graph.get_spatial_knn_indices(locations=locations, n_neighbors=knn, method='kd_tree')\n",
    "cell_nbhd = utils.get_neighborhood_composition(knn_indices=spatial_knn_indices, labels=feature_labels)\n",
    "np.save(os.path.join(data_dir, f'cell_nbhd_res{res}_k{knn}.npy'), cell_nbhd)\n",
    "\n",
    "## save out spatial edge, always 15 cells\n",
    "#spatial_knn_indices = graph.get_spatial_knn_indices(locations=locations, n_neighbors=15, method='kd_tree')\n",
    "#np.save(os.path.join(data_dir, f'spatial_knn_indices_k15.npy'), spatial_knn_indices) # for CNN smoothing\n"
   ]
  },
  {
   "cell_type": "code",
   "execution_count": 7,
   "id": "cbc01fd8",
   "metadata": {},
   "outputs": [
    {
     "data": {
      "text/plain": [
       "14"
      ]
     },
     "execution_count": 7,
     "metadata": {},
     "output_type": "execute_result"
    }
   ],
   "source": [
    "len(np.unique(feature_labels))"
   ]
  },
  {
   "cell_type": "code",
   "execution_count": 9,
   "id": "83446d11",
   "metadata": {},
   "outputs": [
    {
     "name": "stdout",
     "output_type": "stream",
     "text": [
      "Calculating cell neighborhood composition matrix...\n"
     ]
    }
   ],
   "source": [
    "res = 0.7\n",
    "knn = 20\n",
    "\n",
    "feature_edges = graph.get_feature_edges(\n",
    "    arr=features, pca_components=25,\n",
    "    n_neighbors=15, metric='correlation', verbose=False\n",
    ")\n",
    "\n",
    "feature_labels = graph.graph_clustering(\n",
    "    df.shape[0], feature_edges, resolution=res, n_clusters=None, n_runs=1,\n",
    "    resolution_tol=0.05, seed=None, verbose=False\n",
    ")\n",
    "\n",
    "np.save(os.path.join(data_dir, f'feature_labels_res{res}.npy'), feature_labels)\n",
    "np.save(os.path.join(data_dir, f'feature_edges_res{res}.npy'), np.array(feature_edges[:2]).T)\n",
    "\n",
    "print('Calculating cell neighborhood composition matrix...')\n",
    "locations = df[['centroid_x', 'centroid_y']].to_numpy()\n",
    "spatial_knn_indices = graph.get_spatial_knn_indices(locations=locations, n_neighbors=knn, method='kd_tree')\n",
    "cell_nbhd = utils.get_neighborhood_composition(knn_indices=spatial_knn_indices, labels=feature_labels)\n",
    "np.save(os.path.join(data_dir, f'cell_nbhd_res{res}_k{knn}.npy'), cell_nbhd)\n",
    "\n",
    "## save out spatial edge, always 15 cells\n",
    "#spatial_knn_indices = graph.get_spatial_knn_indices(locations=locations, n_neighbors=15, method='kd_tree')\n",
    "#np.save(os.path.join(data_dir, f'spatial_knn_indices_k15.npy'), spatial_knn_indices) # for CNN smoothing\n"
   ]
  },
  {
   "cell_type": "code",
   "execution_count": 10,
   "id": "a47ebced",
   "metadata": {},
   "outputs": [
    {
     "name": "stdout",
     "output_type": "stream",
     "text": [
      "Calculating cell neighborhood composition matrix...\n"
     ]
    }
   ],
   "source": [
    "res = 1\n",
    "knn = 20\n",
    "\n",
    "feature_edges = graph.get_feature_edges(\n",
    "    arr=features, pca_components=25,\n",
    "    n_neighbors=15, metric='correlation', verbose=False\n",
    ")\n",
    "\n",
    "feature_labels = graph.graph_clustering(\n",
    "    df.shape[0], feature_edges, resolution=res, n_clusters=None, n_runs=1,\n",
    "    resolution_tol=0.05, seed=None, verbose=False\n",
    ")\n",
    "\n",
    "np.save(os.path.join(data_dir, f'feature_labels_res{res}.npy'), feature_labels)\n",
    "np.save(os.path.join(data_dir, f'feature_edges_res{res}.npy'), np.array(feature_edges[:2]).T)\n",
    "\n",
    "print('Calculating cell neighborhood composition matrix...')\n",
    "locations = df[['centroid_x', 'centroid_y']].to_numpy()\n",
    "spatial_knn_indices = graph.get_spatial_knn_indices(locations=locations, n_neighbors=knn, method='kd_tree')\n",
    "cell_nbhd = utils.get_neighborhood_composition(knn_indices=spatial_knn_indices, labels=feature_labels)\n",
    "np.save(os.path.join(data_dir, f'cell_nbhd_res{res}_k{knn}.npy'), cell_nbhd)\n",
    "\n",
    "## save out spatial edge, always 15 cells\n",
    "#spatial_knn_indices = graph.get_spatial_knn_indices(locations=locations, n_neighbors=15, method='kd_tree')\n",
    "#np.save(os.path.join(data_dir, f'spatial_knn_indices_k15.npy'), spatial_knn_indices) # for CNN smoothing\n"
   ]
  },
  {
   "cell_type": "markdown",
   "id": "b4fba6df",
   "metadata": {},
   "source": [
    "## create KNN neighborhood size"
   ]
  },
  {
   "cell_type": "code",
   "execution_count": 8,
   "id": "f1e3d37d",
   "metadata": {},
   "outputs": [
    {
     "name": "stdout",
     "output_type": "stream",
     "text": [
      "Calculating cell neighborhood composition matrix...\n"
     ]
    }
   ],
   "source": [
    "res = 0.5\n",
    "knn = 10\n",
    "\n",
    "feature_edges = graph.get_feature_edges(\n",
    "    arr=features, pca_components=25,\n",
    "    n_neighbors=15, metric='correlation', verbose=False\n",
    ")\n",
    "\n",
    "feature_labels = graph.graph_clustering(\n",
    "    df.shape[0], feature_edges, resolution=res, n_clusters=None, n_runs=1,\n",
    "    resolution_tol=0.05, seed=None, verbose=False\n",
    ")\n",
    "\n",
    "np.save(os.path.join(data_dir, f'feature_labels_res{res}.npy'), feature_labels)\n",
    "np.save(os.path.join(data_dir, f'feature_edges_res{res}.npy'), np.array(feature_edges[:2]).T)\n",
    "\n",
    "print('Calculating cell neighborhood composition matrix...')\n",
    "locations = df[['centroid_x', 'centroid_y']].to_numpy()\n",
    "spatial_knn_indices = graph.get_spatial_knn_indices(locations=locations, n_neighbors=knn, method='kd_tree')\n",
    "cell_nbhd = utils.get_neighborhood_composition(knn_indices=spatial_knn_indices, labels=feature_labels)\n",
    "np.save(os.path.join(data_dir, f'cell_nbhd_res{res}_k{knn}.npy'), cell_nbhd)\n",
    "\n",
    "## save out spatial edge, always 15 cells\n",
    "#spatial_knn_indices = graph.get_spatial_knn_indices(locations=locations, n_neighbors=15, method='kd_tree')\n",
    "#np.save(os.path.join(data_dir, f'spatial_knn_indices_k15.npy'), spatial_knn_indices) # for CNN smoothing\n"
   ]
  },
  {
   "cell_type": "code",
   "execution_count": 9,
   "id": "6726aa3f",
   "metadata": {},
   "outputs": [
    {
     "name": "stdout",
     "output_type": "stream",
     "text": [
      "Calculating cell neighborhood composition matrix...\n"
     ]
    }
   ],
   "source": [
    "res = 0.5\n",
    "knn = 20\n",
    "\n",
    "feature_edges = graph.get_feature_edges(\n",
    "    arr=features, pca_components=25,\n",
    "    n_neighbors=15, metric='correlation', verbose=False\n",
    ")\n",
    "\n",
    "feature_labels = graph.graph_clustering(\n",
    "    df.shape[0], feature_edges, resolution=res, n_clusters=None, n_runs=1,\n",
    "    resolution_tol=0.05, seed=None, verbose=False\n",
    ")\n",
    "\n",
    "np.save(os.path.join(data_dir, f'feature_labels_res{res}.npy'), feature_labels)\n",
    "np.save(os.path.join(data_dir, f'feature_edges_res{res}.npy'), np.array(feature_edges[:2]).T)\n",
    "\n",
    "print('Calculating cell neighborhood composition matrix...')\n",
    "locations = df[['centroid_x', 'centroid_y']].to_numpy()\n",
    "spatial_knn_indices = graph.get_spatial_knn_indices(locations=locations, n_neighbors=knn, method='kd_tree')\n",
    "cell_nbhd = utils.get_neighborhood_composition(knn_indices=spatial_knn_indices, labels=feature_labels)\n",
    "np.save(os.path.join(data_dir, f'cell_nbhd_res{res}_k{knn}.npy'), cell_nbhd)\n",
    "\n",
    "## save out spatial edge, always 15 cells\n",
    "#spatial_knn_indices = graph.get_spatial_knn_indices(locations=locations, n_neighbors=15, method='kd_tree')\n",
    "#np.save(os.path.join(data_dir, f'spatial_knn_indices_k15.npy'), spatial_knn_indices) # for CNN smoothing\n"
   ]
  },
  {
   "cell_type": "code",
   "execution_count": 10,
   "id": "01cce9fd",
   "metadata": {},
   "outputs": [
    {
     "name": "stdout",
     "output_type": "stream",
     "text": [
      "Calculating cell neighborhood composition matrix...\n"
     ]
    }
   ],
   "source": [
    "res = 0.5\n",
    "knn = 30\n",
    "\n",
    "feature_edges = graph.get_feature_edges(\n",
    "    arr=features, pca_components=25,\n",
    "    n_neighbors=15, metric='correlation', verbose=False\n",
    ")\n",
    "\n",
    "feature_labels = graph.graph_clustering(\n",
    "    df.shape[0], feature_edges, resolution=res, n_clusters=None, n_runs=1,\n",
    "    resolution_tol=0.05, seed=None, verbose=False\n",
    ")\n",
    "\n",
    "np.save(os.path.join(data_dir, f'feature_labels_res{res}.npy'), feature_labels)\n",
    "np.save(os.path.join(data_dir, f'feature_edges_res{res}.npy'), np.array(feature_edges[:2]).T)\n",
    "\n",
    "print('Calculating cell neighborhood composition matrix...')\n",
    "locations = df[['centroid_x', 'centroid_y']].to_numpy()\n",
    "spatial_knn_indices = graph.get_spatial_knn_indices(locations=locations, n_neighbors=knn, method='kd_tree')\n",
    "cell_nbhd = utils.get_neighborhood_composition(knn_indices=spatial_knn_indices, labels=feature_labels)\n",
    "np.save(os.path.join(data_dir, f'cell_nbhd_res{res}_k{knn}.npy'), cell_nbhd)\n",
    "\n",
    "## save out spatial edge, always 15 cells\n",
    "#spatial_knn_indices = graph.get_spatial_knn_indices(locations=locations, n_neighbors=15, method='kd_tree')\n",
    "#np.save(os.path.join(data_dir, f'spatial_knn_indices_k15.npy'), spatial_knn_indices) # for CNN smoothing\n"
   ]
  },
  {
   "cell_type": "code",
   "execution_count": 13,
   "id": "bafdd739",
   "metadata": {},
   "outputs": [
    {
     "name": "stdout",
     "output_type": "stream",
     "text": [
      "Calculating cell neighborhood composition matrix...\n"
     ]
    }
   ],
   "source": [
    "res = 0.5\n",
    "knn = 40\n",
    "\n",
    "feature_edges = graph.get_feature_edges(\n",
    "    arr=features, pca_components=25,\n",
    "    n_neighbors=15, metric='correlation', verbose=False\n",
    ")\n",
    "\n",
    "feature_labels = graph.graph_clustering(\n",
    "    df.shape[0], feature_edges, resolution=res, n_clusters=None, n_runs=1,\n",
    "    resolution_tol=0.05, seed=None, verbose=False\n",
    ")\n",
    "\n",
    "np.save(os.path.join(data_dir, f'feature_labels_res{res}.npy'), feature_labels)\n",
    "np.save(os.path.join(data_dir, f'feature_edges_res{res}.npy'), np.array(feature_edges[:2]).T)\n",
    "\n",
    "print('Calculating cell neighborhood composition matrix...')\n",
    "locations = df[['centroid_x', 'centroid_y']].to_numpy()\n",
    "spatial_knn_indices = graph.get_spatial_knn_indices(locations=locations, n_neighbors=knn, method='kd_tree')\n",
    "cell_nbhd = utils.get_neighborhood_composition(knn_indices=spatial_knn_indices, labels=feature_labels)\n",
    "np.save(os.path.join(data_dir, f'cell_nbhd_res{res}_k{knn}.npy'), cell_nbhd)\n",
    "\n",
    "## save out spatial edge, always 15 cells\n",
    "#spatial_knn_indices = graph.get_spatial_knn_indices(locations=locations, n_neighbors=15, method='kd_tree')\n",
    "#np.save(os.path.join(data_dir, f'spatial_knn_indices_k15.npy'), spatial_knn_indices) # for CNN smoothing\n"
   ]
  },
  {
   "cell_type": "markdown",
   "id": "4705d2b4",
   "metadata": {},
   "source": [
    "Below is saving out different image files for image related benchmarking"
   ]
  },
  {
   "cell_type": "code",
   "execution_count": null,
   "id": "9cfcd413",
   "metadata": {},
   "outputs": [],
   "source": [
    "def save_train_test_data(df, size, load_path, save_folder, trun_qr, shape_of_each_view=(1008, 1344),\n",
    "                               channels=('CD45', 'nucl'), shape_of_views=(9, 7), pad = 1000, verbose = True):\n",
    "    '''\n",
    "    For all cells in the dataframe, locate it in the picture and crop the image of given size, padding 0 if needed\n",
    "    Only select channels in the argument\n",
    "    Save numpy array of size n_cells * size * size * n_channels\n",
    "    \n",
    "    \n",
    "    Args:\n",
    "    df is a pandas dataframe consisting of clean cells\n",
    "    '''\n",
    "    n_cell = df.shape[0]\n",
    "    n_channel = len(channels)\n",
    "    if verbose:\n",
    "        print(\"Combining all views...\", flush = True)\n",
    "    ### make all view into one big view\n",
    "    \n",
    "    pad_image = np.zeros((shape_of_each_view[0]*shape_of_views[0], \n",
    "                          shape_of_each_view[1]*shape_of_views[1], n_channel))\n",
    "    for view_j in range(shape_of_views[1]):\n",
    "        for view_i in range(shape_of_views[0]):\n",
    "            view = view_j * shape_of_views[0] + view_i + 1\n",
    "            img = imread(\n",
    "                    '{}/raw_images/focused_BALBc-1_X0{}_Y0{}.tif'.format(\n",
    "                        load_path, str(view_j + 1), str(view_i + 1)\n",
    "                    )\n",
    "                )\n",
    "            pad_image[view_i*shape_of_each_view[0]:(view_i+1)*shape_of_each_view[0],\n",
    "                      view_j*shape_of_each_view[1]:(view_j+1)*shape_of_each_view[1],:] = select_useful_features(img, channels)\n",
    "    \n",
    "    if verbose:\n",
    "        print(\"Done!\", flush = True)\n",
    "    \n",
    "    zero_pad_entire_view = np.zeros((pad_image.shape[0]+2*pad, pad_image.shape[1]+2*pad, pad_image.shape[2]))\n",
    "    zero_pad_entire_view[pad:pad_image.shape[0]+pad, pad:pad_image.shape[1]+pad, :] = pad_image\n",
    "    truncate = np.quantile(pad_image, q = trun_qr, axis = (0, 1))\n",
    "    truncate = truncate[None, None, :]\n",
    "    \n",
    "    print(f\"the current truncation is {truncate}\")\n",
    "    \n",
    "    zero_pad_entire_view[zero_pad_entire_view <= truncate] = 0\n",
    "    zero_pad_entire_view[zero_pad_entire_view > truncate] = 1\n",
    "    \n",
    "    if verbose:\n",
    "        print(\"Processing each cell...and saving!\", flush = True)\n",
    "    for i in tqdm(range(n_cell)):\n",
    "        # process each cell\n",
    "        center_x = df.iloc[i][\"centroid_x\"]\n",
    "        center_y = df.iloc[i][\"centroid_y\"]\n",
    "        cur_image = np.transpose(zero_pad_entire_view[(int(center_x)-size//2+pad):(int(center_x)+size//2+pad), \n",
    "                                               (int(center_y)-size//2+pad):(int(center_y)+size//2+pad), \n",
    "                                               :], (2, 0, 1)).astype(np.int8)\n",
    "        assert(cur_image.shape == (2, size, size))\n",
    "        if verbose:\n",
    "            if i % 10000 == 1:\n",
    "                plt.imshow(cur_image[0, :, :])\n",
    "                plt.show()\n",
    "                plt.imshow(cur_image[1, :, :])\n",
    "                plt.show()\n",
    "        \n",
    "        np.save(file = os.path.join(save_folder, f\"size{size}\", \"images\", f\"img_{i:05d}\"), arr = cur_image)\n",
    "        \n",
    "    return\n",
    "        "
   ]
  },
  {
   "cell_type": "code",
   "execution_count": null,
   "id": "27ef7ad6",
   "metadata": {},
   "outputs": [],
   "source": [
    "load_path = '../../../data/codex_murine'\n",
    "save_folder = os.path.join(load_path, \"processed_data\", \"single_cell_images\")\n",
    "\n",
    "size = 1024 # or 256 save out\n",
    "trun_qr = 0.9 # alpha, or 0.7, 0.8, 0.6 save out\n",
    "channels = ('CD45', 'nucl')\n",
    "n_channels = len(channels)\n",
    "if not os.path.exists(os.path.join(save_folder, f\"size{size}\", \"images\")):\n",
    "    os.makedirs(os.path.join(save_folder, f\"size{size}\", \"images\"))\n",
    "save_train_test_data(df, size, load_path, save_folder, trun_qr = trun_qr, shape_of_each_view=(1008, 1344),\n",
    "                                       channels=channels, shape_of_views=(9, 7), pad = 1000, verbose = True)"
   ]
  },
  {
   "cell_type": "code",
   "execution_count": null,
   "id": "45011078",
   "metadata": {},
   "outputs": [],
   "source": []
  },
  {
   "cell_type": "code",
   "execution_count": null,
   "id": "a5e80a67",
   "metadata": {},
   "outputs": [],
   "source": []
  }
 ],
 "metadata": {
  "kernelspec": {
   "display_name": "Python 3 (ipykernel)",
   "language": "python",
   "name": "python3"
  },
  "language_info": {
   "codemirror_mode": {
    "name": "ipython",
    "version": 3
   },
   "file_extension": ".py",
   "mimetype": "text/x-python",
   "name": "python",
   "nbconvert_exporter": "python",
   "pygments_lexer": "ipython3",
   "version": "3.10.9"
  }
 },
 "nbformat": 4,
 "nbformat_minor": 5
}
